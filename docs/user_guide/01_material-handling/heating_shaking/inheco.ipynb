{
 "cells": [
  {
   "cell_type": "markdown",
   "metadata": {},
   "source": [
    "# Hello World, \"Inheco ThermoShake\"!\n",
    "\n",
    "The Inheco Thermoshake is a `HeaterCoolerShaker` machine that enables:\n",
    "- heating & cooling,\n",
    "- locking & unlocking, and\n",
    "- (orbital) shaking\n",
    "\n",
    "...of plates.\n",
    "\n",
    "- Temperature control = 4°C to 105°C (all variants, max. 25°C difference to RT in cooling mode)\n",
    "- Variants:\n",
    "    - **Inheco ThermoShake RM** ([manufacturer link](https://www.inheco.com/thermoshake-classic.html))\n",
    "        - Cat. no.: 7100144\n",
    "        - status: PLR-tested\n",
    "        - shaking orbit = 2.0 mm  \n",
    "        - shaking speed = 100 - 2000 rpm\n",
    "        - footprint: size_x=147 mm, size_y=104 mm, size_z=116 mm\n",
    "    - **Inheco ThermoShake** ([manufacturer link](https://www.inheco.com/thermoshake-classic.html))\n",
    "        - Cat. no.: 7100146\n",
    "        - status: PLR-untested (should have the same API as RM)\n",
    "        - shaking orbit = 2.0 mm  \n",
    "        - shaking speed = 100 - 2000 rpm\n",
    "        - footprint: size_x=147 mm, size_y=104 mm, size_z=118 mm\n",
    "    - **Inheco ThermoShake AC** ([manufacturer link](https://www.inheco.com/thermoshake-ac.html))\n",
    "        - Cat. no.: 7100160 & 7100161\n",
    "        - status: PLR-untested (should have the same API as RM)\n",
    "        - shaking orbit = 2.0 mm  \n",
    "        - shaking speed = 300 - 3000 rpm\n",
    "        - footprint: size_x=147 mm, size_y=104 mm, size_z=115.9 mm\n"
   ]
  },
  {
   "cell_type": "markdown",
   "metadata": {},
   "source": [
    "---\n",
    "\n",
    "## Setup Instructions (Physical)\n",
    "\n",
    "TODO: setup instructions for physically setting up the machine."
   ]
  },
  {
   "cell_type": "markdown",
   "metadata": {},
   "source": [
    "---\n",
    "## Usage"
   ]
  },
  {
   "cell_type": "code",
   "execution_count": 1,
   "metadata": {},
   "outputs": [],
   "source": [
    "from pylabrobot.heating_shaking import HeaterShaker\n",
    "from pylabrobot.heating_shaking import InhecoThermoShake"
   ]
  },
  {
   "cell_type": "code",
   "execution_count": null,
   "metadata": {},
   "outputs": [],
   "source": [
    "backend = InhecoThermoShake()\n",
    "hs = HeaterShaker(\n",
    "  name=\"HeaterShaker\",\n",
    "  backend=backend,\n",
    "  size_x=0,\n",
    "  size_y=0,\n",
    "  size_z=0\n",
    ")\n",
    "await hs.setup()"
   ]
  },
  {
   "cell_type": "markdown",
   "metadata": {},
   "source": [
    "### Temperature Control"
   ]
  },
  {
   "cell_type": "code",
   "execution_count": 5,
   "metadata": {},
   "outputs": [
    {
     "data": {
      "text/plain": [
       "23.2"
      ]
     },
     "execution_count": 5,
     "metadata": {},
     "output_type": "execute_result"
    }
   ],
   "source": [
    "await hs.get_temperature() # Get current temperature in C"
   ]
  },
  {
   "cell_type": "code",
   "execution_count": 6,
   "metadata": {},
   "outputs": [],
   "source": [
    "await hs.set_temperature(37) # Temperature in degrees C"
   ]
  },
  {
   "cell_type": "code",
   "execution_count": null,
   "metadata": {},
   "outputs": [],
   "source": [
    "await hs.wait_for_temperature() # Wait for the temperature to stabilize"
   ]
  },
  {
   "cell_type": "markdown",
   "metadata": {},
   "source": [
    "### Shaking Control"
   ]
  },
  {
   "cell_type": "markdown",
   "metadata": {},
   "source": [
    "The {meth}`~pylabrobot.heating_shaking.heater_shaker.HeaterShaker.setup` method is used to initialize the machine. This is where the backend will connect to the scale and perform any necessary initialization.\n",
    "\n",
    "The {class}`~pylabrobot.heating_shaking.heater_shaker.HeaterShaker` class has a number of methods for controlling the temperature and shaking of the sample. These are inherited from the {class}`~pylabrobot.temperature_controllers.temperature_controller.TemperatureController` and {class}`~pylabrobot.shakers.shaker.Shaker` classes.\n",
    "\n",
    "- {meth}`~pylabrobot.heating_shaking.heater_shaker.HeaterShaker.set_temperature`: Set the temperature of the module.\n",
    "- {meth}`~pylabrobot.heating_shaking.heater_shaker.HeaterShaker.get_temperature`: Get the current temperature of the module.\n",
    "- {meth}`~pylabrobot.heating_shaking.heater_shaker.HeaterShaker.shake`: Set the shaking speed of the module.\n",
    "- {meth}`~pylabrobot.heating_shaking.heater_shaker.HeaterShaker.stop_shaking`: Stop the shaking of the module."
   ]
  },
  {
   "cell_type": "markdown",
   "metadata": {},
   "source": [
    "Shake indefinitely:"
   ]
  },
  {
   "cell_type": "code",
   "execution_count": 3,
   "metadata": {},
   "outputs": [],
   "source": [
    "await hs.shake(speed=100)  # speed in rpm"
   ]
  },
  {
   "cell_type": "markdown",
   "metadata": {},
   "source": [
    "Shake for 10 seconds:"
   ]
  },
  {
   "cell_type": "code",
   "execution_count": 4,
   "metadata": {},
   "outputs": [],
   "source": [
    "await hs.shake(\n",
    "    speed=100,\n",
    "    duration=10\n",
    ")  # speed in rpm, duration in seconds"
   ]
  },
  {
   "cell_type": "markdown",
   "metadata": {},
   "source": [
    "### Closing Connection to Machine"
   ]
  },
  {
   "cell_type": "code",
   "execution_count": 9,
   "metadata": {},
   "outputs": [],
   "source": [
    "await hs.stop()"
   ]
  },
  {
   "cell_type": "markdown",
   "metadata": {},
   "source": [
    "---\n",
    "## Using Multiple Inheco Thermoshakes"
   ]
  },
  {
   "cell_type": "code",
   "execution_count": null,
   "metadata": {},
   "outputs": [],
   "source": [
    "# TODO: implement control box for Inheco ThermoShake to support multiple thermoshakes on one box.\n",
    "# https://github.com/PyLabRobot/pylabrobot/issues/494"
   ]
  }
 ],
 "metadata": {
  "kernelspec": {
   "display_name": "Python 3 (ipykernel)",
   "language": "python",
   "name": "python3"
  },
  "language_info": {
   "codemirror_mode": {
    "name": "ipython",
    "version": 3
   },
   "file_extension": ".py",
   "mimetype": "text/x-python",
   "name": "python",
   "nbconvert_exporter": "python",
   "pygments_lexer": "ipython3",
   "version": "3.11.7"
  }
 },
 "nbformat": 4,
 "nbformat_minor": 4
}
