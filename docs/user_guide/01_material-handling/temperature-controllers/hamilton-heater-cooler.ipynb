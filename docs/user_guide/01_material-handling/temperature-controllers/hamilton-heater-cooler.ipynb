{
 "cells": [
  {
   "cell_type": "markdown",
   "id": "18708b66",
   "metadata": {},
   "source": [
    "\n",
    "# Hamilton Heater Cooler (HHC)\n",
    "\n",
    "| Summary                                                                                                                                                                                                                                                                                                                                                                                                                                                                                       | Photo                                            |\n",
    "|-----------------------------------------------------------------------------------------------------------------------------------------------------------------------------------------------------------------------------------------------------------------------------------------------------------------------------------------------------------------------------------------------------------------------------------------------------------------------------------------------|----------------------------------------------------|\n",
    "| - [OEM Link](https://www.hamiltoncompany.com/temperature-control/hamilton-heater-cooler)<br>- **Communication Protocol / Hardware**: ? / ?<br>- **Communication Level**: Firmware <br><br>- **Temperature range**: 0 to 110°C<br> | ![quadrants](img/hamilton_heater_cooler.png) |\n"
   ]
  },
  {
   "cell_type": "markdown",
   "id": "a73f89dd",
   "metadata": {},
   "source": [
    "---\n",
    "## Setup Instructions (Physical)\n",
    "\n",
    "WIP"
   ]
  },
  {
   "cell_type": "markdown",
   "id": "adb29364",
   "metadata": {},
   "source": [
    "---\n",
    "## Setup Instructions (Programmatic)\n",
    "\n",
    "WIP"
   ]
  },
  {
   "cell_type": "code",
   "execution_count": null,
   "id": "34531f2c",
   "metadata": {},
   "outputs": [],
   "source": [
    "%load_ext autoreload\n",
    "%autoreload 2"
   ]
  },
  {
   "cell_type": "code",
   "execution_count": null,
   "id": "30720acb",
   "metadata": {},
   "outputs": [],
   "source": [
    "await hhc.setup()"
   ]
  },
  {
   "cell_type": "markdown",
   "id": "7d2e9ed2",
   "metadata": {},
   "source": [
    "---\n",
    "\n",
    "## Usage\n",
    "\n",
    "### Temperature control\n",
    "\n",
    "WIP"
   ]
  },
  {
   "cell_type": "code",
   "execution_count": null,
   "id": "97dbe69e",
   "metadata": {},
   "outputs": [],
   "source": [
    "await hhc.set_temperature(70)"
   ]
  },
  {
   "cell_type": "code",
   "execution_count": null,
   "id": "0004d35d",
   "metadata": {},
   "outputs": [],
   "source": [
    "await hhc.wait_for_temperature()"
   ]
  },
  {
   "cell_type": "code",
   "execution_count": null,
   "id": "bb2de16b",
   "metadata": {},
   "outputs": [],
   "source": [
    "await hhc.get_temperature()"
   ]
  },
  {
   "cell_type": "code",
   "execution_count": null,
   "id": "4e9e17d7",
   "metadata": {},
   "outputs": [],
   "source": [
    "await hhc.deactivate()"
   ]
  }
 ],
 "metadata": {
  "kernelspec": {
   "display_name": "env (3.10.15)",
   "language": "python",
   "name": "python3"
  },
  "language_info": {
   "codemirror_mode": {
    "name": "ipython",
    "version": 3
   },
   "file_extension": ".py",
   "mimetype": "text/x-python",
   "name": "python",
   "nbconvert_exporter": "python",
   "pygments_lexer": "ipython3",
   "version": "3.10.15"
  }
 },
 "nbformat": 4,
 "nbformat_minor": 5
}
