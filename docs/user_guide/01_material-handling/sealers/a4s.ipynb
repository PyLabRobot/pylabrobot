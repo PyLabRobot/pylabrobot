{
 "cells": [
  {
   "cell_type": "code",
   "execution_count": 1,
   "id": "34531f2c",
   "metadata": {},
   "outputs": [],
   "source": [
    "%load_ext autoreload\n",
    "%autoreload 2"
   ]
  },
  {
   "cell_type": "markdown",
   "id": "18708b66",
   "metadata": {},
   "source": [
    "# Azenta Automated Roll Heat Sealer (formerly a4S)\n",
    "\n",
    "https://www.azenta.com/products/automated-roll-heat-sealer-formerly-a4s"
   ]
  },
  {
   "cell_type": "code",
   "execution_count": 4,
   "id": "363b8144",
   "metadata": {},
   "outputs": [
    {
     "data": {
      "text/plain": [
       "pylabrobot.sealing.sealer.Sealer"
      ]
     },
     "execution_count": 4,
     "metadata": {},
     "output_type": "execute_result"
    }
   ],
   "source": [
    "from pylabrobot.sealing import a4s\n",
    "\n",
    "s = a4s(port=\"/dev/tty.usbserial-0001\")\n",
    "type(s)"
   ]
  },
  {
   "cell_type": "code",
   "execution_count": 3,
   "id": "30720acb",
   "metadata": {},
   "outputs": [],
   "source": [
    "await s.setup()"
   ]
  },
  {
   "cell_type": "markdown",
   "id": "7d2e9ed2",
   "metadata": {},
   "source": [
    "seal will open and close the lid automatically"
   ]
  },
  {
   "cell_type": "code",
   "execution_count": 4,
   "id": "c0834a6e",
   "metadata": {},
   "outputs": [
    {
     "data": {
      "text/plain": [
       "A4SBackend.Status(current_temperature=179.2, system_status=<SystemStatus.finish: 4>, heater_block_status=<HeaterBlockStatus.ready: 1>, error_code=0, warning_code=0, sensor_status=A4SBackend.Status.SensorStatus(shuttle_middle_sensor=False, shuttle_open_sensor=True, shuttle_close_sensor=False, clean_door_sensor=True, seal_roll_sensor=False, heater_motor_up_sensor=True, heater_motor_down_sensor=False), remaining_time=0)"
      ]
     },
     "execution_count": 4,
     "metadata": {},
     "output_type": "execute_result"
    }
   ],
   "source": [
    "await s.seal(\n",
    "  temperature=180,\n",
    "  duration=5,\n",
    ")"
   ]
  },
  {
   "cell_type": "markdown",
   "id": "c4be6218",
   "metadata": {},
   "source": [
    "## Manually open and closing"
   ]
  },
  {
   "cell_type": "code",
   "execution_count": 5,
   "id": "e23acc3d",
   "metadata": {},
   "outputs": [],
   "source": [
    "await s.close()"
   ]
  },
  {
   "cell_type": "code",
   "execution_count": 6,
   "id": "c8656ef6",
   "metadata": {},
   "outputs": [],
   "source": [
    "await s.open()"
   ]
  },
  {
   "cell_type": "markdown",
   "id": "9c4d21b7",
   "metadata": {},
   "source": [
    "## Manually working with temperature\n",
    "\n",
    "You can pre-set the temperature of the sealer by using the `set_temperature` method. The temperature is set in degrees Celsius."
   ]
  },
  {
   "cell_type": "code",
   "execution_count": 13,
   "id": "97dbe69e",
   "metadata": {},
   "outputs": [],
   "source": [
    "await s.set_temperature(170)"
   ]
  },
  {
   "cell_type": "code",
   "execution_count": 14,
   "id": "bb2de16b",
   "metadata": {},
   "outputs": [
    {
     "data": {
      "text/plain": [
       "170.1"
      ]
     },
     "execution_count": 14,
     "metadata": {},
     "output_type": "execute_result"
    }
   ],
   "source": [
    "await s.get_temperature()"
   ]
  },
  {
   "cell_type": "markdown",
   "id": "16b96be7",
   "metadata": {},
   "source": [
    "## Machine status"
   ]
  },
  {
   "cell_type": "code",
   "execution_count": 15,
   "id": "e13e407b",
   "metadata": {},
   "outputs": [
    {
     "name": "stdout",
     "output_type": "stream",
     "text": [
      "current_temperature:         170.0\n",
      "system_status:               SystemStatus.idle\n",
      "heater_block_status:         HeaterBlockStatus.ready\n",
      "error_code:                  0\n",
      "warning_code:                0\n",
      "sensor_status:              \n",
      "  shuttle_middle_sensor:     False\n",
      "  shuttle_open_sensor:       True\n",
      "  shuttle_close_sensor:      False\n",
      "  clean_door_sensor:         True\n",
      "  seal_roll_sensor:          False\n",
      "  heater_motor_up_sensor:    True\n",
      "  heater_motor_down_sensor:  False\n",
      "remaining_time:              0\n"
     ]
    }
   ],
   "source": [
    "status = await s.backend.get_status()\n",
    "print(\"current_temperature:        \", status.current_temperature)\n",
    "print(\"system_status:              \", status.system_status)\n",
    "print(\"heater_block_status:        \", status.heater_block_status)\n",
    "print(\"error_code:                 \", status.error_code)\n",
    "print(\"warning_code:               \", status.warning_code)\n",
    "print(\"sensor_status:              \")\n",
    "print(\"  shuttle_middle_sensor:    \", status.sensor_status.shuttle_middle_sensor)\n",
    "print(\"  shuttle_open_sensor:      \", status.sensor_status.shuttle_open_sensor)\n",
    "print(\"  shuttle_close_sensor:     \", status.sensor_status.shuttle_close_sensor)\n",
    "print(\"  clean_door_sensor:        \", status.sensor_status.clean_door_sensor)\n",
    "print(\"  seal_roll_sensor:         \", status.sensor_status.seal_roll_sensor)\n",
    "print(\"  heater_motor_up_sensor:   \", status.sensor_status.heater_motor_up_sensor)\n",
    "print(\"  heater_motor_down_sensor: \", status.sensor_status.heater_motor_down_sensor)\n",
    "print(\"remaining_time:             \", status.remaining_time)"
   ]
  }
 ],
 "metadata": {
  "kernelspec": {
   "display_name": "env",
   "language": "python",
   "name": "python3"
  },
  "language_info": {
   "codemirror_mode": {
    "name": "ipython",
    "version": 3
   },
   "file_extension": ".py",
   "mimetype": "text/x-python",
   "name": "python",
   "nbconvert_exporter": "python",
   "pygments_lexer": "ipython3",
   "version": "3.10.15"
  }
 },
 "nbformat": 4,
 "nbformat_minor": 5
}
