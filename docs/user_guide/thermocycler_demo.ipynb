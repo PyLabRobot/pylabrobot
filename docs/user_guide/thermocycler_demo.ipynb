{
 "cells": [
  {
   "cell_type": "markdown",
   "id": "e43e50a6",
   "metadata": {},
   "source": [
    "# 1. Imports and Setup"
   ]
  },
  {
   "cell_type": "code",
   "execution_count": null,
   "id": "fbe41324",
   "metadata": {
    "vscode": {
     "languageId": "plaintext"
    }
   },
   "outputs": [],
   "source": [
    "import asyncio\n",
    "from pylabrobot.thermocycling.standard import Step, Stage, Protocol\n",
    "from pylabrobot.resources import Coordinate\n",
    "from pylabrobot.thermocycling.backends.simulated import SimulatedThermocyclerBackend  # or your actual backend\n",
    "from pylabrobot.thermocycling.thermocycler import Thermocycler"
   ]
  },
  {
   "cell_type": "markdown",
   "id": "0d255bbc",
   "metadata": {},
   "source": [
    "# 2. Instantiate Thermocycler"
   ]
  },
  {
   "cell_type": "code",
   "execution_count": null,
   "id": "1a5c2b34",
   "metadata": {
    "vscode": {
     "languageId": "plaintext"
    }
   },
   "outputs": [],
   "source": [
    "backend = SimulatedThermocyclerBackend()\n",
    "\n",
    "thermocycler = Thermocycler(\n",
    "    name=\"demo_thermocycler\",\n",
    "    size_x=100.0,\n",
    "    size_y=100.0,\n",
    "    size_z=50.0,\n",
    "    backend=backend,\n",
    "    child_location=Coordinate(0, 0, 0)\n",
    ")\n"
   ]
  },
  {
   "cell_type": "markdown",
   "id": "4384c493",
   "metadata": {},
   "source": [
    "# 3. Quickstart – Set and Read Temperatures"
   ]
  },
  {
   "cell_type": "code",
   "execution_count": null,
   "id": "c64fc024",
   "metadata": {
    "vscode": {
     "languageId": "plaintext"
    }
   },
   "outputs": [],
   "source": [
    "async def quickstart():\n",
    "    await thermocycler.open_lid()\n",
    "    await thermocycler.set_lid_temperature([105.0])\n",
    "    await thermocycler.set_block_temperature([95.0])\n",
    "    await thermocycler.wait_for_lid()\n",
    "    await thermocycler.wait_for_block()\n",
    "\n",
    "    lid_temp = await thermocycler.get_lid_current_temperature()\n",
    "    block_temp = await thermocycler.get_block_current_temperature()\n",
    "    print(\"Lid Temp:\", lid_temp)\n",
    "    print(\"Block Temp:\", block_temp)\n",
    "\n",
    "asyncio.run(quickstart())\n"
   ]
  },
  {
   "cell_type": "markdown",
   "id": "316d3c1c",
   "metadata": {},
   "source": [
    "# 4. Run PCR Profile"
   ]
  },
  {
   "cell_type": "code",
   "execution_count": null,
   "id": "60a915a5",
   "metadata": {
    "vscode": {
     "languageId": "plaintext"
    }
   },
   "outputs": [],
   "source": [
    "async def run_pcr():\n",
    "    await thermocycler.run_pcr_profile(\n",
    "        denaturation_temp=[95.0], denaturation_time=30,\n",
    "        annealing_temp=[55.0], annealing_time=30,\n",
    "        extension_temp=[72.0], extension_time=60,\n",
    "        num_cycles=3,\n",
    "        block_max_volume=50,\n",
    "        lid_temperature=[105.0],\n",
    "        pre_denaturation_temp=[95.0],\n",
    "        pre_denaturation_time=120,\n",
    "        final_extension_temp=[72.0],\n",
    "        final_extension_time=120,\n",
    "        storage_temp=[4.0],\n",
    "        storage_time=600\n",
    "    )\n",
    "    await thermocycler.wait_for_profile_completion()\n",
    "    print(\"PCR protocol complete.\")\n",
    "\n",
    "asyncio.run(run_pcr())\n"
   ]
  },
  {
   "cell_type": "code",
   "execution_count": null,
   "id": "ab865375",
   "metadata": {
    "vscode": {
     "languageId": "plaintext"
    }
   },
   "outputs": [],
   "source": [
    "Query Status"
   ]
  },
  {
   "cell_type": "code",
   "execution_count": null,
   "id": "1b60a345",
   "metadata": {
    "vscode": {
     "languageId": "plaintext"
    }
   },
   "outputs": [],
   "source": [
    "async def check_status():\n",
    "    print(\"Lid Status:\", await thermocycler.get_lid_status())\n",
    "    print(\"Block Status:\", await thermocycler.get_block_status())\n",
    "    print(\"Cycle:\", await thermocycler.get_current_cycle_index(), \"/\", await thermocycler.get_total_cycle_count())\n",
    "    print(\"Step:\", await thermocycler.get_current_step_index(), \"/\", await thermocycler.get_total_step_count())\n",
    "\n",
    "asyncio.run(check_status())\n"
   ]
  }
 ],
 "metadata": {
  "language_info": {
   "name": "python"
  }
 },
 "nbformat": 4,
 "nbformat_minor": 5
}
