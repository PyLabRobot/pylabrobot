{
 "cells": [
  {
   "cell_type": "markdown",
   "id": "e43e50a6",
   "metadata": {},
   "source": [
    "# 1. Imports and Setup"
   ]
  },
  {
   "cell_type": "code",
   "execution_count": null,
   "id": "fbe41324",
   "metadata": {
    "vscode": {
     "languageId": "plaintext"
    }
   },
   "outputs": [],
   "source": [
    "# Import required modules\n",
    "import asyncio\n",
    "\n",
    "from pylabrobot.resources import Coordinate\n",
    "from pylabrobot.thermocycling.thermocycler import Thermocycler\n",
    "from pylabrobot.thermocycling.backends.simulated import SimulatedThermocyclerBackend\n",
    "from pylabrobot.thermocycling.standard import Step, Stage, Protocol\n"
   ]
  },
  {
   "cell_type": "markdown",
   "id": "0d255bbc",
   "metadata": {},
   "source": [
    "# 2. Instantiate Thermocycler"
   ]
  },
  {
   "cell_type": "code",
   "execution_count": null,
   "id": "1a5c2b34",
   "metadata": {
    "vscode": {
     "languageId": "plaintext"
    }
   },
   "outputs": [],
   "source": [
    "# Instantiate a simulated backend (for demo/testing)\n",
    "backend = SimulatedThermocyclerBackend()\n",
    "\n",
    "# Create the thermocycler object\n",
    "thermocycler = Thermocycler(\n",
    "    name=\"demo_thermocycler\",\n",
    "    size_x=100.0,\n",
    "    size_y=100.0,\n",
    "    size_z=50.0,\n",
    "    backend=backend,\n",
    "    child_location=Coordinate(0, 0, 0)\n",
    ")"
   ]
  },
  {
   "cell_type": "markdown",
   "id": "4384c493",
   "metadata": {},
   "source": [
    "# 3. Quickstart – Set and Read Temperatures"
   ]
  },
  {
   "cell_type": "code",
   "execution_count": null,
   "id": "c64fc024",
   "metadata": {
    "vscode": {
     "languageId": "plaintext"
    }
   },
   "outputs": [],
   "source": [
    "async def quickstart_demo():\n",
    "    # Open the lid\n",
    "    await thermocycler.open_lid()\n",
    "\n",
    "    # Set temperatures\n",
    "    await thermocycler.set_lid_temperature([105.0])\n",
    "    await thermocycler.set_block_temperature([95.0])\n",
    "\n",
    "    # Wait for target temps to be reached\n",
    "    await thermocycler.wait_for_lid()\n",
    "    await thermocycler.wait_for_block()\n",
    "\n",
    "    # Read and display temperatures\n",
    "    lid_temp = await thermocycler.get_lid_current_temperature()\n",
    "    block_temp = await thermocycler.get_block_current_temperature()\n",
    "    print(f\"Lid Temp: {lid_temp}\")\n",
    "    print(f\"Block Temp: {block_temp}\")\n",
    "\n",
    "asyncio.run(quickstart_demo())\n"
   ]
  },
  {
   "cell_type": "markdown",
   "id": "316d3c1c",
   "metadata": {},
   "source": [
    "# 4. Run PCR Profile"
   ]
  },
  {
   "cell_type": "code",
   "execution_count": null,
   "id": "60a915a5",
   "metadata": {
    "vscode": {
     "languageId": "plaintext"
    }
   },
   "outputs": [],
   "source": [
    "async def run_pcr_profile_demo():\n",
    "    await thermocycler.run_pcr_profile(\n",
    "        denaturation_temp=[95.0], denaturation_time=30,\n",
    "        annealing_temp=[55.0], annealing_time=30,\n",
    "        extension_temp=[72.0], extension_time=60,\n",
    "        num_cycles=3,\n",
    "        block_max_volume=50,\n",
    "        lid_temperature=[105.0],\n",
    "        pre_denaturation_temp=[95.0], pre_denaturation_time=60,\n",
    "        final_extension_temp=[72.0], final_extension_time=90,\n",
    "        storage_temp=[4.0], storage_time=600\n",
    "    )\n",
    "\n",
    "    # Wait for completion\n",
    "    await thermocycler.wait_for_profile_completion()\n",
    "    print(\"PCR protocol completed.\")\n",
    "\n",
    "asyncio.run(run_pcr_profile_demo())\n",
    "\n"
   ]
  },
  {
   "cell_type": "markdown",
   "id": "d070d1b1",
   "metadata": {},
   "source": [
    "## 5. Monitoring status"
   ]
  },
  {
   "cell_type": "code",
   "execution_count": null,
   "id": "1b60a345",
   "metadata": {
    "vscode": {
     "languageId": "plaintext"
    }
   },
   "outputs": [],
   "source": [
    "async def monitor_status():\n",
    "    print(\"Lid Status:\", await thermocycler.get_lid_status())\n",
    "    print(\"Block Status:\", await thermocycler.get_block_status())\n",
    "\n",
    "    print(\"Cycle Progress:\",\n",
    "          await thermocycler.get_current_cycle_index(),\n",
    "          \"/\", await thermocycler.get_total_cycle_count())\n",
    "\n",
    "    print(\"Step Progress:\",\n",
    "          await thermocycler.get_current_step_index(),\n",
    "          \"/\", await thermocycler.get_total_step_count())\n",
    "\n",
    "asyncio.run(monitor_status())\n",
    "\n"
   ]
  }
 ],
 "metadata": {
  "language_info": {
   "name": "python"
  }
 },
 "nbformat": 4,
 "nbformat_minor": 5
}
