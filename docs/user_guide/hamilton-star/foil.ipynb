{
 "cells": [
  {
   "cell_type": "markdown",
   "metadata": {},
   "source": [
    "# Foil\n",
    "\n",
    "The :class:`~pylabrobot.liquid_handling.backends.hamilton.STAR.STAR` backend includes special utilities for working with foil-sealed plates, specifically:\n",
    "\n",
    "1. a function to pierce foil before aspirating from the plate, and\n",
    "2. a function to keep the plate down while moving the channels up to avoid lifting the plate."
   ]
  },
  {
   "cell_type": "markdown",
   "metadata": {},
   "source": [
    "## Example setup\n",
    "\n",
    "```{note}\n",
    "While this example uses high volume tips, it _might_ be possible to use other tip types to pierce the foil. However, 50uL tips are very soft and probably can't be used.\n",
    "```"
   ]
  },
  {
   "cell_type": "code",
   "execution_count": 2,
   "metadata": {},
   "outputs": [],
   "source": [
    "from pylabrobot.liquid_handling import LiquidHandler, STAR\n",
    "from pylabrobot.resources import STARLetDeck\n",
    "from pylabrobot.resources import (\n",
    "  TIP_CAR_480_A00,\n",
    "  PLT_CAR_L5AC_A00,\n",
    "  HT,\n",
    "  AGenBio_4_wellplate_Vb\n",
    ")\n",
    "\n",
    "star = STAR()\n",
    "lh = LiquidHandler(backend=star, deck=STARLetDeck())\n",
    "await lh.setup()\n",
    "\n",
    "# assign a tip rack\n",
    "tip_carrier = TIP_CAR_480_A00(name=\"tip_carrier\")\n",
    "tip_carrier[1] = tip_rack = HT(name=\"tip_rack\")\n",
    "lh.deck.assign_child_resource(tip_carrier, rails=1)\n",
    "\n",
    "# assign a plate\n",
    "plt_carrier = PLT_CAR_L5AC_A00(name=\"plt_carrier\")\n",
    "plt_carrier[0] = plate = AGenBio_4_wellplate_Vb(name=\"plate\")\n",
    "lh.deck.assign_child_resource(plt_carrier, rails=10)"
   ]
  },
  {
   "cell_type": "markdown",
   "metadata": {},
   "source": [
    "## Breaking the foil before using a plate\n",
    "\n",
    "It is important to break the foil before aspirating because tiny foil pieces can stuck in the tip, drastically changing the liquid handling characteristics.\n",
    "\n",
    "In this example, we will use an 8 channel workcell and use the inner 6 channels for breaking the foil and then aspirating. We will use the outer 2 channels to keep the plate down while the inner channels are moving up."
   ]
  },
  {
   "cell_type": "code",
   "execution_count": 3,
   "metadata": {},
   "outputs": [],
   "source": [
    "well = plate.get_well(\"A1\")\n",
    "await lh.pick_up_tips(tip_rack[\"A1:H1\"])"
   ]
  },
  {
   "cell_type": "code",
   "execution_count": 4,
   "metadata": {},
   "outputs": [],
   "source": [
    "aspiration_channels = [1, 2, 3, 4, 5, 6]\n",
    "hold_down_channels = [0, 7]\n",
    "await star.pierce_foil(\n",
    "  wells=[well],\n",
    "  piercing_channels=aspiration_channels,\n",
    "  hold_down_channels=hold_down_channels,\n",
    "  move_inwards=4,\n",
    "  one_by_one=False,\n",
    ")"
   ]
  },
  {
   "cell_type": "code",
   "execution_count": 5,
   "metadata": {},
   "outputs": [],
   "source": [
    "await lh.return_tips()"
   ]
  },
  {
   "cell_type": "markdown",
   "metadata": {},
   "source": [
    "![gif of piercing foil](./img/pierce_foil.gif)"
   ]
  },
  {
   "cell_type": "markdown",
   "metadata": {},
   "source": [
    "## Holding the plate down\n",
    "\n",
    "Holding the plate down while moving channels up after aspiration consists of two parts:\n",
    "1. Making the channels stay down after a liquid handling operation has finished. By default, STAR will move channels up to traversal height.\n",
    "2. Putting two channels on the edges of the plate to hold it down, while moving the other channels up."
   ]
  },
  {
   "cell_type": "code",
   "execution_count": 11,
   "metadata": {},
   "outputs": [],
   "source": [
    "await lh.pick_up_tips(tip_rack[\"A2:H2\"])"
   ]
  },
  {
   "cell_type": "code",
   "execution_count": 12,
   "metadata": {},
   "outputs": [],
   "source": [
    "num_channels = len(aspiration_channels)\n",
    "await lh.aspirate(\n",
    "  [well]*num_channels, vols=[100]*num_channels, use_channels=aspiration_channels,\n",
    "\n",
    "  # aspiration parameters (backend_kwargs)\n",
    "  min_z_endpos=well.get_absolute_location(z=\"cavity_bottom\").z, # z end position: where channels go after aspiration\n",
    "  surface_following_distance=0, # no moving in z dimension during aspiration\n",
    "  pull_out_distance_transport_air=[0] * num_channels # no moving up to aspirate transport air after aspiration\n",
    ")\n",
    "\n",
    "await star.step_off_foil(\n",
    "  well,\n",
    "  front_channel=7,\n",
    "  back_channel=0,\n",
    "  move_inwards=5,\n",
    ")"
   ]
  },
  {
   "cell_type": "code",
   "execution_count": 13,
   "metadata": {},
   "outputs": [],
   "source": [
    "await lh.return_tips()"
   ]
  },
  {
   "cell_type": "markdown",
   "metadata": {},
   "source": [
    "![gif of holding down foil](./img/step_off_foil.gif)"
   ]
  }
 ],
 "metadata": {
  "kernelspec": {
   "display_name": "env",
   "language": "python",
   "name": "python3"
  },
  "language_info": {
   "codemirror_mode": {
    "name": "ipython",
    "version": 3
   },
   "file_extension": ".py",
   "mimetype": "text/x-python",
   "name": "python",
   "nbconvert_exporter": "python",
   "pygments_lexer": "ipython3",
   "version": "3.10.15"
  }
 },
 "nbformat": 4,
 "nbformat_minor": 2
}
