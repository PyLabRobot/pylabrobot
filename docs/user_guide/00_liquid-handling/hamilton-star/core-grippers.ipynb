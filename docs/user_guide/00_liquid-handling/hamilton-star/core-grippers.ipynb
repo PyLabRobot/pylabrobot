{
 "cells": [
  {
   "cell_type": "markdown",
   "id": "0fe80c88",
   "metadata": {},
   "source": [
    "# Co-Re Grippers\n",
    "\n",
    "This tutorial demonstrates how to use the Co-Re grippers on Hamilton STAR liquid handling robots with PyLabRobot.\n",
    "\n",
    "The Co-Re grippers mount on pipetting channels and allow for moving labware around the deck."
   ]
  },
  {
   "cell_type": "markdown",
   "id": "55622e0d",
   "metadata": {},
   "source": [
    "## Deck setup\n",
    "\n",
    "There are two different types of core grippers:\n",
    "\n",
    "![Co-Re gripper types](./img/core-grippers/core-gripper-types.jpg)"
   ]
  },
  {
   "cell_type": "code",
   "execution_count": null,
   "id": "aeb84f69",
   "metadata": {},
   "outputs": [],
   "source": [
    "from pylabrobot.liquid_handling import LiquidHandler, STARBackend\n",
    "from pylabrobot.resources import STARDeck  # STARLetDeck\n",
    "deck = STARDeck(\n",
    "  core_grippers=\"1000uL-at-waste\"  # or \"1000uL-5mL-on-waste\"\n",
    ")  # STARLetDeck()\n",
    "lh = LiquidHandler(backend=STARBackend(), deck=deck)  # STARLetDeck())"
   ]
  },
  {
   "cell_type": "markdown",
   "id": "c158df6a",
   "metadata": {},
   "source": [
    "Let's also set up a dummy plate carrier and plate."
   ]
  },
  {
   "cell_type": "code",
   "execution_count": 2,
   "id": "7d024e1b",
   "metadata": {},
   "outputs": [],
   "source": [
    "from pylabrobot.resources import PLT_CAR_L5AC_A00, CellTreat_96_wellplate_350ul_Fb\n",
    "plate_carrier = PLT_CAR_L5AC_A00(name=\"plate_carrier\")\n",
    "plate_carrier[0] = plate = CellTreat_96_wellplate_350ul_Fb(name=\"plate\")\n",
    "deck.assign_child_resource(plate_carrier, rails=14)"
   ]
  },
  {
   "cell_type": "markdown",
   "id": "30168d2b",
   "metadata": {},
   "source": [
    "Finally call `setup` to initialize the robot:"
   ]
  },
  {
   "cell_type": "code",
   "execution_count": 3,
   "id": "90b60293",
   "metadata": {},
   "outputs": [],
   "source": [
    "await lh.setup()"
   ]
  },
  {
   "cell_type": "markdown",
   "id": "0a4a6ae0",
   "metadata": {},
   "source": [
    "## Moving resources\n",
    "\n",
    "There are two apis:\n",
    "\n",
    "- `move_resource`: a single call, simple to read. This function calls `pick_up_resource` and `drop_resource` internally.\n",
    "- `pick_up_resource` and `drop_resource`: two calls, more control over the timing of operations."
   ]
  },
  {
   "cell_type": "markdown",
   "id": "831e8798",
   "metadata": {},
   "source": [
    "## `move_resource` api\n",
    "\n",
    "This API is the simplest to read:"
   ]
  },
  {
   "cell_type": "code",
   "execution_count": 4,
   "id": "9c6cc552",
   "metadata": {},
   "outputs": [
    {
     "name": "stdout",
     "output_type": "stream",
     "text": [
      "C0ZPid0001xs04603xd0yj1141yv0050zj1864zy0500yo0882yg0822yw15th2800te2800\n",
      "C0ZRid0002xs04603xd0yj1141zj1864zi000zy0500yo0882th2800te2800\n",
      "C0ZSid0003xs13375xd0ya1056yb0796tp2150tz2050th2800te2800\n"
     ]
    }
   ],
   "source": [
    "await lh.move_resource(\n",
    "  plate,\n",
    "  plate_carrier[0],\n",
    "  pickup_distance_from_top=10,\n",
    "\n",
    "  # Specify to use the core arm.\n",
    "  use_arm=\"core\",\n",
    "\n",
    "  # use two channels to pick up the core gripper tools. Channels are 0-indexed.\n",
    "  channel_1=0,\n",
    "  channel_2=1,\n",
    ")"
   ]
  },
  {
   "cell_type": "markdown",
   "id": "dcd28a93",
   "metadata": {},
   "source": [
    "## `pick_up_resource` and `drop_resource` apis\n",
    "\n",
    "These APIs give more control over the pick up and drop actions:"
   ]
  },
  {
   "cell_type": "code",
   "execution_count": null,
   "id": "02b73541",
   "metadata": {},
   "outputs": [],
   "source": []
  }
 ],
 "metadata": {
  "kernelspec": {
   "display_name": "env",
   "language": "python",
   "name": "python3"
  },
  "language_info": {
   "codemirror_mode": {
    "name": "ipython",
    "version": 3
   },
   "file_extension": ".py",
   "mimetype": "text/x-python",
   "name": "python",
   "nbconvert_exporter": "python",
   "pygments_lexer": "ipython3",
   "version": "3.9.23"
  }
 },
 "nbformat": 4,
 "nbformat_minor": 5
}
