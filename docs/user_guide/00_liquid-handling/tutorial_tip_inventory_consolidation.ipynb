{
 "cells": [
  {
   "cell_type": "markdown",
   "id": "b658a60a-900b-408f-a9dc-512f4384bf0b",
   "metadata": {},
   "source": [
    "# Tip Inventory Consolidation"
   ]
  },
  {
   "cell_type": "code",
   "execution_count": 1,
   "id": "06ff7c82-4e66-4814-9ff9-6da8143a7e75",
   "metadata": {},
   "outputs": [],
   "source": [
    "script_mode = 'simulation'"
   ]
  },
  {
   "cell_type": "code",
   "execution_count": 2,
   "id": "39a171c6-899b-451c-aef8-b172d27d3811",
   "metadata": {},
   "outputs": [],
   "source": [
    "import numpy as np\n",
    "import random\n",
    "import timeit"
   ]
  },
  {
   "cell_type": "code",
   "execution_count": 3,
   "id": "b78d66f0-ef3a-4c17-b45e-05005fb093b0",
   "metadata": {},
   "outputs": [],
   "source": [
    "from typing import List, Any, Generator"
   ]
  },
  {
   "cell_type": "code",
   "execution_count": 4,
   "id": "acb53ed4-cce2-43a5-9d1a-2794fdda61b3",
   "metadata": {},
   "outputs": [],
   "source": [
    "def divide_list_into_chunks(\n",
    "        list_l: List[Any],\n",
    "        chunk_size: int\n",
    "    ) -> Generator[List[Any], None, None]:\n",
    "    \"\"\"\n",
    "    Divides a list into smaller chunks of a specified size.\n",
    "\n",
    "    Parameters:\n",
    "    - list_l (List[Any]): The list to be divided into chunks.\n",
    "    - chunk_size (int): The size of each chunk.\n",
    "\n",
    "    Returns:\n",
    "    - Generator[List[Any], None, None]: A generator that yields chunks of the list.\n",
    "    \"\"\"\n",
    "    for i in range(0, len(list_l), chunk_size):\n",
    "        yield list_l[i:i + chunk_size]"
   ]
  },
  {
   "cell_type": "markdown",
   "id": "36ee7f02-0ced-40f6-aa9a-0a08da863144",
   "metadata": {},
   "source": [
    "## Workcell Setup"
   ]
  },
  {
   "cell_type": "code",
   "execution_count": 5,
   "id": "9e66c819-df29-4b95-89e2-4c2b9a106296",
   "metadata": {},
   "outputs": [],
   "source": [
    "%load_ext autoreload\n",
    "%autoreload 2\n",
    "\n",
    "from pylabrobot.liquid_handling import LiquidHandler\n",
    "from pylabrobot.resources.hamilton import STARLetDeck\n",
    "import logging\n",
    "from pylabrobot.visualizer.visualizer import Visualizer\n",
    "\n",
    "if script_mode == 'execution':\n",
    "    from pylabrobot.liquid_handling.backends import STARBackend\n",
    "    backend = STARBackend()\n",
    "elif script_mode == 'simulation':\n",
    "    # from pylabrobot.liquid_handling.backends.simulation.simulator_backend import SimulatorBackend\n",
    "    from pylabrobot.liquid_handling.backends import LiquidHandlerChatterboxBackend\n",
    "    backend = LiquidHandlerChatterboxBackend()\n",
    "\n",
    "logger = logging.getLogger(\"pylabrobot\")\n",
    "logger.setLevel(logging.DEBUG) # <-- choose a level"
   ]
  },
  {
   "cell_type": "code",
   "execution_count": 6,
   "id": "de15ed3c-99da-4e4b-8501-a2471d63874a",
   "metadata": {},
   "outputs": [
    {
     "name": "stdout",
     "output_type": "stream",
     "text": [
      "Setting up the liquid handler.\n",
      "Resource deck was assigned to the liquid handler.\n",
      "Resource trash was assigned to the liquid handler.\n",
      "Resource trash_core96 was assigned to the liquid handler.\n",
      "Resource teaching_carrier was assigned to the liquid handler.\n",
      "Websocket server started at http://127.0.0.1:2121\n",
      "File server started at http://127.0.0.1:1337 . Open this URL in your browser.\n"
     ]
    }
   ],
   "source": [
    "lh = LiquidHandler(backend=backend, deck=STARLetDeck())\n",
    "\n",
    "await lh.setup()\n",
    "vis = Visualizer(resource=lh)\n",
    "await vis.setup()\n",
    "if script_mode == 'simulation':\n",
    "    from pylabrobot.resources import set_tip_tracking, set_volume_tracking\n",
    "    set_tip_tracking(True), set_volume_tracking(False);\n",
    "else:\n",
    "    await lh.backend.disable_cover_control()\n",
    "    await lh.backend.move_all_channels_in_z_safety()\n",
    "    lh.backend.allow_firmware_planning = True # very powerful\n",
    "    lh.backend.read_timeout = 240 # give your commands more time"
   ]
  },
  {
   "cell_type": "markdown",
   "id": "0552ff21-c24e-4431-9edb-79031dc70259",
   "metadata": {},
   "source": [
    "## Deck Setup"
   ]
  },
  {
   "cell_type": "code",
   "execution_count": 7,
   "id": "c8e4fc7b-8aa1-4b41-bc6d-f9d0ef767a7e",
   "metadata": {},
   "outputs": [],
   "source": [
    "from pylabrobot.resources import (\n",
    "    TIP_CAR_480_A00, PLT_CAR_L5AC_A00, # TIP & PLATE CARRIERS\n",
    "    MFX_CAR_L4_SHAKER,\n",
    "    HTF, STF, TIP_50ul, # TIPS\n",
    "    Coordinate\n",
    ")"
   ]
  },
  {
   "cell_type": "code",
   "execution_count": 8,
   "id": "3f59a2a9-c0e6-4674-b80d-38df9835005b",
   "metadata": {},
   "outputs": [],
   "source": [
    "import numpy as np"
   ]
  },
  {
   "cell_type": "code",
   "execution_count": 9,
   "id": "bae4ed78-12ac-451a-9c32-e062ee499558",
   "metadata": {},
   "outputs": [
    {
     "name": "stdout",
     "output_type": "stream",
     "text": [
      "Resource tip carrier was assigned to the liquid handler.\n"
     ]
    }
   ],
   "source": [
    "tip_carrier = TIP_CAR_480_A00(name=\"tip carrier\") # initialize a tip carrier\n",
    "\n",
    "tip_carrier[2] = tip_rack_1000ul_3 = HTF(name=\"tip_rack_1000ul_3\", with_tips=False)\n",
    "tip_carrier[1] = tip_rack_1000ul_2 = HTF(name=\"tip_rack_1000ul_2\")\n",
    "tip_carrier[0] = tip_rack_1000ul_1 = HTF(name=\"tip_rack_1000ul_1\")\n",
    "\n",
    "lh.deck.assign_child_resource(tip_carrier, rails=15)"
   ]
  },
  {
   "cell_type": "code",
   "execution_count": 10,
   "id": "9ab18a79-f758-4332-b8aa-2e2769606add",
   "metadata": {},
   "outputs": [
    {
     "name": "stdout",
     "output_type": "stream",
     "text": [
      "Resource tip carrier 2 was assigned to the liquid handler.\n"
     ]
    }
   ],
   "source": [
    "tip_carrier_2 = TIP_CAR_480_A00(name=\"tip carrier 2\") # initialize a tip carrier\n",
    "\n",
    "tip_carrier_2[2] = tip_rack_50ul_3 = TIP_50ul(name=\"tip_rack_50ul_3\", with_tips=False)\n",
    "tip_carrier_2[1] = tip_rack_50ul_2 = TIP_50ul(name=\"tip_rack_50ul_2\")\n",
    "tip_carrier_2[0] = tip_rack_50ul_1 = TIP_50ul(name=\"tip_rack_50ul_1\")\n",
    "\n",
    "lh.deck.assign_child_resource(tip_carrier_2, rails=22)"
   ]
  },
  {
   "cell_type": "code",
   "execution_count": 11,
   "id": "a8f314c7-9b3f-45a2-b8ba-dd734dded07e",
   "metadata": {},
   "outputs": [],
   "source": [
    "np.set_printoptions(linewidth=120)  # increase line width\n"
   ]
  },
  {
   "cell_type": "code",
   "execution_count": 12,
   "id": "57df36a6-2bd6-4d16-a9f2-962369844a14",
   "metadata": {},
   "outputs": [],
   "source": [
    "n = 40\n",
    "numbers = random.sample(range(96), k=n)\n",
    "\n",
    "_ = [tip_rack_1000ul_1.children[idx].tracker.remove_tip() for idx in numbers]"
   ]
  },
  {
   "cell_type": "code",
   "execution_count": 13,
   "id": "b0f80e38-ff9e-45a4-9f2c-9b8ca201cc1a",
   "metadata": {
    "scrolled": true
   },
   "outputs": [],
   "source": [
    "n = 20\n",
    "numbers = random.sample(range(96), k=n)\n",
    "\n",
    "_ = [tip_rack_1000ul_2.children[idx].tracker.remove_tip() for idx in numbers]"
   ]
  },
  {
   "cell_type": "code",
   "execution_count": 14,
   "id": "1331c61a-02cf-49df-842b-9875f0c157ad",
   "metadata": {},
   "outputs": [],
   "source": [
    "n = 55\n",
    "numbers = random.sample(range(96), k=n)\n",
    "\n",
    "_ = [tip_rack_50ul_1.children[idx].tracker.remove_tip() for idx in numbers]"
   ]
  },
  {
   "cell_type": "code",
   "execution_count": 15,
   "id": "8d0f0053-436a-4ff9-8ed7-eedb536120a0",
   "metadata": {},
   "outputs": [
    {
     "name": "stdout",
     "output_type": "stream",
     "text": [
      "Rail  Resource                      Type           Coordinates (mm)\n",
      "=================================================================================\n",
      "(-6)  ├── trash_core96              Trash          (-58.200, 106.000, 229.000)\n",
      "      │\n",
      "(15)  ├── tip carrier               TipCarrier     (415.000, 063.000, 100.000)\n",
      "      │   ├── tip_rack_1000ul_1     TipRack        (421.200, 073.000, 214.950)\n",
      "      │   ├── tip_rack_1000ul_2     TipRack        (421.200, 169.000, 214.950)\n",
      "      │   ├── tip_rack_1000ul_3     TipRack        (421.200, 265.000, 214.950)\n",
      "      │   ├── <empty>\n",
      "      │   ├── <empty>\n",
      "      │\n",
      "(22)  ├── tip carrier 2             TipCarrier     (572.500, 063.000, 100.000)\n",
      "      │   ├── tip_rack_50ul_1       TipRack        (578.700, 073.000, 214.950)\n",
      "      │   ├── tip_rack_50ul_2       TipRack        (578.700, 169.000, 214.950)\n",
      "      │   ├── tip_rack_50ul_3       TipRack        (578.700, 265.000, 214.950)\n",
      "      │   ├── <empty>\n",
      "      │   ├── <empty>\n",
      "      │\n",
      "(31)  ├── teaching_carrier          Resource       (775.000, 051.800, 100.000)\n",
      "      │   ├── teaching_tip_rack     TipRack        (780.900, 461.100, 100.000)\n",
      "      │\n",
      "(32)  ├── trash                     Trash          (800.000, 190.600, 137.100)\n",
      "\n"
     ]
    }
   ],
   "source": [
    "lh.summary()"
   ]
  },
  {
   "cell_type": "code",
   "execution_count": 16,
   "id": "4ea87825-23e3-411e-8112-1a18a3c6db3b",
   "metadata": {},
   "outputs": [],
   "source": [
    "import matplotlib.pyplot as plt"
   ]
  },
  {
   "cell_type": "code",
   "execution_count": 17,
   "id": "137b91c5-1df5-4e52-a41a-5e89dd029df0",
   "metadata": {},
   "outputs": [],
   "source": [
    "# Convert to integer for visualization (True -> 1, False -> 0)\n",
    "\n",
    "def show_tip_rack(tip_rack):\n",
    "\n",
    "    def show_real_tiprack_state(tiprack_l):\n",
    "        tip_rack_arr = np.array(tiprack_l.children, dtype=object).reshape(12,8).T\n",
    "        \n",
    "        has_tip_vectorized = np.vectorize(lambda obj: obj.has_tip())\n",
    "        \n",
    "        return has_tip_vectorized(tip_rack_arr)\n",
    "    \n",
    "    int_array = show_real_tiprack_state(tip_rack).astype(int)\n",
    "    \n",
    "    # Display using imshow\n",
    "    plt.imshow(int_array, cmap=\"gray_r\")  # gray_r: black=1, white=0\n",
    "    plt.title(\"Boolean Array Visualization\")\n",
    "    plt.colorbar(label='Value')\n",
    "    plt.xticks(range(int_array.shape[1]))\n",
    "    plt.yticks(range(int_array.shape[0]))\n",
    "    plt.grid(False)\n",
    "    plt.show()\n",
    "\n"
   ]
  },
  {
   "cell_type": "markdown",
   "id": "d418f9c8-b291-4363-b000-cd3fee6f5bcb",
   "metadata": {},
   "source": [
    "## 1- identify tipracks"
   ]
  },
  {
   "cell_type": "code",
   "execution_count": 18,
   "id": "9c22519a-3f75-428e-8f66-a1af5e9a4003",
   "metadata": {},
   "outputs": [],
   "source": [
    "from pylabrobot.resources import TipRack\n",
    "\n",
    "all_tipracks_on_deck_list = [\n",
    "    item for item in lh.get_all_children()\n",
    "    if all(\n",
    "        [\n",
    "            isinstance(item, TipRack),\n",
    "            item.name != \"teaching_tip_rack\"\n",
    "        ]\n",
    "    )\n",
    "]"
   ]
  },
  {
   "cell_type": "code",
   "execution_count": 19,
   "id": "c3eb8ac9-97c4-4594-b986-298d1cd0662f",
   "metadata": {},
   "outputs": [
    {
     "data": {
      "image/png": "[encoded data removed]",
      "text/plain": [
       "<Figure size 640x480 with 2 Axes>"
      ]
     },
     "metadata": {},
     "output_type": "display_data"
    }
   ],
   "source": [
    "show_tip_rack(all_tipracks_on_deck_list[0])"
   ]
  },
  {
   "cell_type": "code",
   "execution_count": 20,
   "id": "fad2a307-e3b5-4cd6-a130-e50cc8dc1399",
   "metadata": {},
   "outputs": [
    {
     "name": "stdout",
     "output_type": "stream",
     "text": [
      "+------------+\n",
      "|oo o  ooooo |\n",
      "|o ooo  o o  |\n",
      "|   o oo ooo |\n",
      "|o oo  ooo oo|\n",
      "|oo o oo o o |\n",
      "|oo ooo oo   |\n",
      "|oo o o o ooo|\n",
      "|o  ooo   o o|\n",
      "+------------+\n",
      "\n"
     ]
    }
   ],
   "source": [
    "all_tipracks_on_deck_list[0].summary()"
   ]
  },
  {
   "cell_type": "code",
   "execution_count": null,
   "id": "6a94b15f-6888-4d72-808f-1a6a5cd5077d",
   "metadata": {},
   "outputs": [],
   "source": []
  },
  {
   "cell_type": "markdown",
   "id": "3feaf388-5b63-4d33-9431-c7b5ecde9507",
   "metadata": {},
   "source": [
    "## 3- sorting algorithm\n",
    "\n",
    "### 3.1- cluster tipracks by model"
   ]
  },
  {
   "cell_type": "markdown",
   "id": "a4c6a629-18ca-47ca-91a4-64ff1a187b51",
   "metadata": {},
   "source": [
    "### 3.2- store only partially-filled tipracks"
   ]
  },
  {
   "cell_type": "markdown",
   "id": "56c34adc-4be7-44bf-ab55-8c0b4b065081",
   "metadata": {},
   "source": [
    "### 3.3- sort partially-filled tipracks by minimal fill_len"
   ]
  },
  {
   "cell_type": "code",
   "execution_count": 21,
   "id": "2f4dd857-d37a-47d9-8dfb-cb919d7c11f7",
   "metadata": {},
   "outputs": [
    {
     "data": {
      "text/plain": [
       "[TipRack(name=tip_rack_1000ul_1, size_x=122.4, size_y=82.6, size_z=20.0, location=Coordinate(000.000, 000.000, 000.000)),\n",
       " TipRack(name=tip_rack_1000ul_2, size_x=122.4, size_y=82.6, size_z=20.0, location=Coordinate(000.000, 000.000, 000.000)),\n",
       " TipRack(name=tip_rack_1000ul_3, size_x=122.4, size_y=82.6, size_z=20.0, location=Coordinate(000.000, 000.000, 000.000)),\n",
       " TipRack(name=tip_rack_50ul_1, size_x=122.4, size_y=82.6, size_z=18.0, location=Coordinate(000.000, 000.000, 000.000)),\n",
       " TipRack(name=tip_rack_50ul_2, size_x=122.4, size_y=82.6, size_z=18.0, location=Coordinate(000.000, 000.000, 000.000)),\n",
       " TipRack(name=tip_rack_50ul_3, size_x=122.4, size_y=82.6, size_z=18.0, location=Coordinate(000.000, 000.000, 000.000))]"
      ]
     },
     "execution_count": 21,
     "metadata": {},
     "output_type": "execute_result"
    }
   ],
   "source": [
    "all_tipracks_on_deck_list"
   ]
  },
  {
   "cell_type": "code",
   "execution_count": 27,
   "id": "873f9424-6085-4e5d-bfa3-d14870cc0a13",
   "metadata": {},
   "outputs": [
    {
     "name": "stdout",
     "output_type": "stream",
     "text": [
      "0 TipRack(name=tip_rack_1000ul_1, size_x=122.4, size_y=82.6, size_z=20.0, location=Coordinate(000.000, 000.000, 000.000))\n",
      "1 TipRack(name=tip_rack_1000ul_2, size_x=122.4, size_y=82.6, size_z=20.0, location=Coordinate(000.000, 000.000, 000.000))\n",
      "2 TipRack(name=tip_rack_1000ul_3, size_x=122.4, size_y=82.6, size_z=20.0, location=Coordinate(000.000, 000.000, 000.000))\n",
      "3 TipRack(name=tip_rack_50ul_1, size_x=122.4, size_y=82.6, size_z=18.0, location=Coordinate(000.000, 000.000, 000.000))\n",
      "4 TipRack(name=tip_rack_50ul_2, size_x=122.4, size_y=82.6, size_z=18.0, location=Coordinate(000.000, 000.000, 000.000))\n",
      "5 TipRack(name=tip_rack_50ul_3, size_x=122.4, size_y=82.6, size_z=18.0, location=Coordinate(000.000, 000.000, 000.000))\n"
     ]
    }
   ],
   "source": [
    "clusters_by_model = {}\n",
    "\n",
    "for idx, tip_rack in enumerate(all_tipracks_on_deck_list):\n",
    "    print(idx, tip_rack)\n",
    "\n",
    "    # Only consider partially-filled tip_racks\n",
    "    tip_status = [\n",
    "            tip_spot.tracker.has_tip\n",
    "            for tip_spot in tip_rack.children\n",
    "        ]\n",
    "    partially_filled = any(tip_status) and not all(tip_status)\n",
    "\n",
    "    if partially_filled:\n",
    "        \n",
    "        # Identify model by hashed unique physical characteristics\n",
    "        current_model = hash(tip_rack.children[0].tracker.get_tip())\n",
    "        num_empty_tipspots = len([tip for tip in tip_status if tip==False])\n",
    "        \n",
    "        sanity_check = all(\n",
    "            [\n",
    "                hash(tip_spot.tracker.get_tip())==current_model \n",
    "                for tip_spot in tip_rack.children[1:]\n",
    "            ]\n",
    "        )\n",
    "        \n",
    "        if sanity_check:\n",
    "            clusters_by_model.setdefault(current_model, []).append((tip_rack, num_empty_tipspots))\n",
    "\n",
    "# Sort partially-filled tipracks by minimal fill_len\n",
    "for model, rack_list in clusters_by_model.items():\n",
    "    rack_list.sort(key=lambda x: x[1])"
   ]
  },
  {
   "cell_type": "code",
   "execution_count": 28,
   "id": "1bf193da-63f5-4c1b-a1c1-9c89fda9d100",
   "metadata": {},
   "outputs": [
    {
     "data": {
      "text/plain": [
       "False"
      ]
     },
     "execution_count": 28,
     "metadata": {},
     "output_type": "execute_result"
    }
   ],
   "source": [
    "partially_filled"
   ]
  },
  {
   "cell_type": "code",
   "execution_count": 29,
   "id": "e9fe77b5-c823-488c-a8f2-fb263b524895",
   "metadata": {},
   "outputs": [
    {
     "data": {
      "text/plain": [
       "{5739056366146733264: [(TipRack(name=tip_rack_1000ul_2, size_x=122.4, size_y=82.6, size_z=20.0, location=Coordinate(000.000, 000.000, 000.000)),\n",
       "   20),\n",
       "  (TipRack(name=tip_rack_1000ul_1, size_x=122.4, size_y=82.6, size_z=20.0, location=Coordinate(000.000, 000.000, 000.000)),\n",
       "   40)],\n",
       " -4776705104022072233: [(TipRack(name=tip_rack_50ul_1, size_x=122.4, size_y=82.6, size_z=18.0, location=Coordinate(000.000, 000.000, 000.000)),\n",
       "   55)]}"
      ]
     },
     "execution_count": 29,
     "metadata": {},
     "output_type": "execute_result"
    }
   ],
   "source": [
    "clusters_by_model"
   ]
  },
  {
   "cell_type": "code",
   "execution_count": 26,
   "id": "12d66e67-a89e-4261-ab94-a9d702843405",
   "metadata": {},
   "outputs": [
    {
     "data": {
      "text/plain": [
       "(TipRack(name=tip_rack_1000ul_1, size_x=122.4, size_y=82.6, size_z=20.0, location=Coordinate(000.000, 000.000, 000.000)),\n",
       " 40)"
      ]
     },
     "execution_count": 26,
     "metadata": {},
     "output_type": "execute_result"
    }
   ],
   "source": [
    "clusters_by_model[list(clusters_by_model.keys())[0]"
   ]
  },
  {
   "cell_type": "code",
   "execution_count": null,
   "id": "a2a86ea2-40be-4e67-ad66-954365e9d505",
   "metadata": {},
   "outputs": [],
   "source": []
  },
  {
   "cell_type": "markdown",
   "id": "373299f8-b332-487e-bc35-5bd98a447d32",
   "metadata": {},
   "source": [
    "### 3.4- vector calculations to assess `add` & `remove` TipSpots"
   ]
  },
  {
   "cell_type": "code",
   "execution_count": 27,
   "id": "bcc3991b-1ab7-420e-8b3f-216f653061ac",
   "metadata": {},
   "outputs": [
    {
     "data": {
      "image/png": "[encoded data removed]",
      "text/plain": [
       "<Figure size 1200x300 with 2 Axes>"
      ]
     },
     "metadata": {},
     "output_type": "display_data"
    }
   ],
   "source": [
    "import random\n",
    "import matplotlib.pyplot as plt\n",
    "\n",
    "# Parameters\n",
    "total_length = 182\n",
    "num_tips = 106\n",
    "\n",
    "# Generate current tip list\n",
    "random.seed(42)\n",
    "current_tips_list = [0] * total_length\n",
    "for i in random.sample(range(total_length), num_tips):\n",
    "    current_tips_list[i] = 1\n",
    "\n",
    "# Generate target tip list\n",
    "target_tips_list = [1 if i < num_tips else 0 for i in range(total_length)]\n",
    "\n",
    "# Compute movement list\n",
    "tip_movement_list = [\n",
    "    c - t for c, t in zip(current_tips_list, target_tips_list)\n",
    "]\n",
    "\n",
    "# Stack lists for visualization\n",
    "tips_matrix = [current_tips_list, target_tips_list, tip_movement_list]\n",
    "\n",
    "# Convert to 2D list of floats for imshow\n",
    "tips_matrix_float = [[float(x) for x in row] for row in tips_matrix]\n",
    "\n",
    "# Plot using matplotlib\n",
    "fig, ax = plt.subplots(figsize=(12, 3))\n",
    "cax = ax.imshow(tips_matrix_float, cmap=\"bwr\", aspect=\"auto\", vmin=-1, vmax=1)\n",
    "ax.set_yticks([0, 1, 2])\n",
    "ax.set_yticklabels([\"Current\", \"Target\", \"Movement\"])\n",
    "ax.set_xticks([])\n",
    "ax.set_title(\"Tip Movement Overview (No NumPy)\")\n",
    "plt.colorbar(cax, orientation='vertical', label='Tip Delta')\n",
    "plt.tight_layout()\n",
    "plt.show()\n"
   ]
  },
  {
   "cell_type": "markdown",
   "id": "b0f08f4d-9938-46e0-b9f4-523f0634d3a8",
   "metadata": {},
   "source": [
    "### 3.5- Cluster `add` by x-coordiate"
   ]
  },
  {
   "cell_type": "code",
   "execution_count": 28,
   "id": "4452e115-1352-4fde-bb82-eb7e7801bf23",
   "metadata": {},
   "outputs": [],
   "source": [
    "from array import array"
   ]
  },
  {
   "cell_type": "code",
   "execution_count": null,
   "id": "6f5cc8d5-1880-46b6-90cb-4a4e9dbf7832",
   "metadata": {},
   "outputs": [],
   "source": []
  },
  {
   "cell_type": "markdown",
   "id": "fe05e51e-1ac3-4602-8a66-193076ffecb3",
   "metadata": {},
   "source": [
    "### 3.6- Merge `add` clusters if len(clusters) <= len(use_channels)"
   ]
  },
  {
   "cell_type": "code",
   "execution_count": null,
   "id": "93e68b6a-90d7-4c10-962e-eb2baf39bb03",
   "metadata": {},
   "outputs": [],
   "source": []
  },
  {
   "cell_type": "code",
   "execution_count": null,
   "id": "f26fc5ec-5588-4be1-8abf-422366fc3d1d",
   "metadata": {},
   "outputs": [],
   "source": []
  },
  {
   "cell_type": "code",
   "execution_count": null,
   "id": "f8ac3180-04fb-41cc-b781-d50819a285d1",
   "metadata": {},
   "outputs": [],
   "source": []
  },
  {
   "cell_type": "code",
   "execution_count": null,
   "id": "b2d1bec3-3ecd-4e10-b7e3-30c771712f26",
   "metadata": {},
   "outputs": [],
   "source": []
  },
  {
   "cell_type": "code",
   "execution_count": null,
   "id": "405b7af1-59ee-43b9-9a2f-4ee018b148c2",
   "metadata": {},
   "outputs": [],
   "source": []
  },
  {
   "cell_type": "code",
   "execution_count": null,
   "id": "e5c9e959-ac1c-4635-9842-a757584b6cbf",
   "metadata": {},
   "outputs": [],
   "source": []
  },
  {
   "cell_type": "code",
   "execution_count": 24,
   "id": "a5d6261d-7d70-4438-80f1-f0e46c3e3478",
   "metadata": {},
   "outputs": [
    {
     "data": {
      "text/plain": [
       "[[True, True, True, True, True, True, True, True],\n",
       " [True, True, True, True, True, True, True, True],\n",
       " [True, True, True, True, True, True, True, True],\n",
       " [True, True, True, True, True, True, True, True],\n",
       " [True, True, True, True, True, True, True, True],\n",
       " [True, True, True, True, True, True, True, True],\n",
       " [True, True, True, True, True, True, True, True],\n",
       " [True, True, True, True, True, True, True, True],\n",
       " [True, True, True, True, True, True, True, True],\n",
       " [True, True, True, True, True, True, True, True],\n",
       " [True, True, True, True, True, True, True, True],\n",
       " [True, True, True, True, True, True, True, True]]"
      ]
     },
     "execution_count": 24,
     "metadata": {},
     "output_type": "execute_result"
    }
   ],
   "source": [
    "list(divide_list_into_chunks(\n",
    "    [tipspot_x.has_tip() for tipspot_x in tip_rack.children],\n",
    "    chunk_size=8\n",
    "))"
   ]
  },
  {
   "cell_type": "code",
   "execution_count": 67,
   "id": "d20945ef-42ee-45b4-84dd-44d757a62706",
   "metadata": {},
   "outputs": [
    {
     "name": "stdout",
     "output_type": "stream",
     "text": [
      "Collecting line_profiler\n",
      "  Downloading line_profiler-4.2.0-cp310-cp310-manylinux_2_17_x86_64.manylinux2014_x86_64.whl.metadata (34 kB)\n",
      "Downloading line_profiler-4.2.0-cp310-cp310-manylinux_2_17_x86_64.manylinux2014_x86_64.whl (718 kB)\n",
      "\u001b[2K   \u001b[90m━━━━━━━━━━━━━━━━━━━━━━━━━━━━━━━━━━━━━━━━\u001b[0m \u001b[32m718.3/718.3 kB\u001b[0m \u001b[31m7.1 MB/s\u001b[0m eta \u001b[36m0:00:00\u001b[0m\n",
      "\u001b[?25hInstalling collected packages: line_profiler\n",
      "Successfully installed line_profiler-4.2.0\n"
     ]
    }
   ],
   "source": [
    "# Cell 1: Setup\n",
    "\n",
    "\n",
    "# Optional: Install line_profiler in notebook (uncomment if not installed)\n",
    "# !pip install line_profiler\n",
    "\n",
    "# Load %lprun magic for line-by-line profiling\n",
    "%load_ext line_profiler\n"
   ]
  },
  {
   "cell_type": "code",
   "execution_count": 68,
   "id": "e5687eda-69d0-4033-a3f3-01721dc4a978",
   "metadata": {},
   "outputs": [],
   "source": [
    "# Cell 2: Define both functions for comparison\n",
    "\n",
    "def use_numpy_randint(n=10):\n",
    "    numbers = np.random.randint(0, 96, size=n)\n",
    "    return numbers\n",
    "\n",
    "def use_list_comprehension(n=10):\n",
    "    numbers = [random.randint(0, 95) for _ in range(n)]\n",
    "    return numbers\n"
   ]
  },
  {
   "cell_type": "code",
   "execution_count": 65,
   "id": "19e79b34-45ef-4cc3-a0de-379cd6f8bd57",
   "metadata": {},
   "outputs": [
    {
     "name": "stdout",
     "output_type": "stream",
     "text": [
      "CPU times: user 267 µs, sys: 206 µs, total: 473 µs\n",
      "Wall time: 437 µs\n"
     ]
    }
   ],
   "source": [
    "%%time\n",
    "n = 10  # number of integers you want\n",
    "numbers = np.random.randint(0, 96, size=n)\n",
    "# print(numbers)\n",
    "\n",
    "n = 10  # number of integers you want\n",
    "numbers = [random.randint(0, 95) for _ in range(n)]\n"
   ]
  },
  {
   "cell_type": "code",
   "execution_count": 69,
   "id": "f524e482-5612-448f-9dd5-abd1c0962cbb",
   "metadata": {},
   "outputs": [
    {
     "name": "stdout",
     "output_type": "stream",
     "text": [
      "Timing results (10000 runs):\n",
      "NumPy method: 0.069364 seconds\n",
      "List comprehension method: 0.049671 seconds\n"
     ]
    }
   ],
   "source": [
    "# Cell 3: Use timeit to compare overall execution time\n",
    "\n",
    "print(\"Timing results (10000 runs):\")\n",
    "\n",
    "numpy_time = timeit.timeit(\"use_numpy_randint()\", globals=globals(), number=10_000)\n",
    "print(f\"NumPy method: {numpy_time:.6f} seconds\")\n",
    "\n",
    "listcomp_time = timeit.timeit(\"use_list_comprehension()\", globals=globals(), number=10_000)\n",
    "print(f\"List comprehension method: {listcomp_time:.6f} seconds\")\n"
   ]
  },
  {
   "cell_type": "code",
   "execution_count": 71,
   "id": "4c215758-96b9-4da5-9d19-8db9400f12c4",
   "metadata": {},
   "outputs": [
    {
     "data": {
      "text/plain": [
       "Timer unit: 1e-09 s\n",
       "\n",
       "Total time: 5.2595e-05 s\n",
       "File: /tmp/ipykernel_111796/2755184475.py\n",
       "Function: use_list_comprehension at line 7\n",
       "\n",
       "Line #      Hits         Time  Per Hit   % Time  Line Contents\n",
       "==============================================================\n",
       "     7                                           def use_list_comprehension(n=10):\n",
       "     8         1      52315.0  52315.0     99.5      numbers = [random.randint(0, 95) for _ in range(n)]\n",
       "     9         1        280.0    280.0      0.5      return numbers"
      ]
     },
     "metadata": {},
     "output_type": "display_data"
    }
   ],
   "source": [
    "# Cell 4: Use line_profiler to analyze each function line by line\n",
    "\n",
    "# Line-by-line profiling of list comprehension method\n",
    "%lprun -f use_list_comprehension use_list_comprehension()"
   ]
  },
  {
   "cell_type": "code",
   "execution_count": 72,
   "id": "37c58c41-59c8-4916-90c4-de3655dbfa52",
   "metadata": {},
   "outputs": [
    {
     "data": {
      "text/plain": [
       "Timer unit: 1e-09 s\n",
       "\n",
       "Total time: 0.000164986 s\n",
       "File: /tmp/ipykernel_111796/2755184475.py\n",
       "Function: use_numpy_randint at line 3\n",
       "\n",
       "Line #      Hits         Time  Per Hit   % Time  Line Contents\n",
       "==============================================================\n",
       "     3                                           def use_numpy_randint(n=10):\n",
       "     4         1     164734.0 164734.0     99.8      numbers = np.random.randint(0, 96, size=n)\n",
       "     5         1        252.0    252.0      0.2      return numbers"
      ]
     },
     "metadata": {},
     "output_type": "display_data"
    }
   ],
   "source": [
    "\n",
    "# Line-by-line profiling of NumPy method\n",
    "%lprun -f use_numpy_randint use_numpy_randint()"
   ]
  },
  {
   "cell_type": "code",
   "execution_count": null,
   "id": "2de5b477-00e7-4fe9-bb9a-43bd83e1fd01",
   "metadata": {},
   "outputs": [],
   "source": []
  },
  {
   "cell_type": "code",
   "execution_count": 25,
   "id": "3753c944-6d2d-4080-b900-26dc670bf387",
   "metadata": {},
   "outputs": [
    {
     "data": {
      "text/plain": [
       "[None, None, None, None, None]"
      ]
     },
     "execution_count": 25,
     "metadata": {},
     "output_type": "execute_result"
    }
   ],
   "source": [
    "[tipspot_x.tracker.remove_tip() for tipspot_x in tip_rack.children[:5]]"
   ]
  },
  {
   "cell_type": "code",
   "execution_count": 54,
   "id": "a4214f7c-bdb4-41e9-b964-02a1aa4a6c51",
   "metadata": {},
   "outputs": [
    {
     "data": {
      "text/plain": [
       "array([['tip rack_tipspot_0_0', 'tip rack_tipspot_1_0', 'tip rack_tipspot_2_0', 'tip rack_tipspot_3_0', 'tip rack_tipspot_4_0', 'tip rack_tipspot_5_0', 'tip rack_tipspot_6_0', 'tip rack_tipspot_7_0', 'tip rack_tipspot_8_0', 'tip rack_tipspot_9_0', 'tip rack_tipspot_10_0', 'tip rack_tipspot_11_0'],\n",
       "       ['tip rack_tipspot_0_1', 'tip rack_tipspot_1_1', 'tip rack_tipspot_2_1', 'tip rack_tipspot_3_1', 'tip rack_tipspot_4_1', 'tip rack_tipspot_5_1', 'tip rack_tipspot_6_1', 'tip rack_tipspot_7_1', 'tip rack_tipspot_8_1', 'tip rack_tipspot_9_1', 'tip rack_tipspot_10_1', 'tip rack_tipspot_11_1'],\n",
       "       ['tip rack_tipspot_0_2', 'tip rack_tipspot_1_2', 'tip rack_tipspot_2_2', 'tip rack_tipspot_3_2', 'tip rack_tipspot_4_2', 'tip rack_tipspot_5_2', 'tip rack_tipspot_6_2', 'tip rack_tipspot_7_2', 'tip rack_tipspot_8_2', 'tip rack_tipspot_9_2', 'tip rack_tipspot_10_2', 'tip rack_tipspot_11_2'],\n",
       "       ['tip rack_tipspot_0_3', 'tip rack_tipspot_1_3', 'tip rack_tipspot_2_3', 'tip rack_tipspot_3_3', 'tip rack_tipspot_4_3', 'tip rack_tipspot_5_3', 'tip rack_tipspot_6_3', 'tip rack_tipspot_7_3', 'tip rack_tipspot_8_3', 'tip rack_tipspot_9_3', 'tip rack_tipspot_10_3', 'tip rack_tipspot_11_3'],\n",
       "       ['tip rack_tipspot_0_4', 'tip rack_tipspot_1_4', 'tip rack_tipspot_2_4', 'tip rack_tipspot_3_4', 'tip rack_tipspot_4_4', 'tip rack_tipspot_5_4', 'tip rack_tipspot_6_4', 'tip rack_tipspot_7_4', 'tip rack_tipspot_8_4', 'tip rack_tipspot_9_4', 'tip rack_tipspot_10_4', 'tip rack_tipspot_11_4'],\n",
       "       ['tip rack_tipspot_0_5', 'tip rack_tipspot_1_5', 'tip rack_tipspot_2_5', 'tip rack_tipspot_3_5', 'tip rack_tipspot_4_5', 'tip rack_tipspot_5_5', 'tip rack_tipspot_6_5', 'tip rack_tipspot_7_5', 'tip rack_tipspot_8_5', 'tip rack_tipspot_9_5', 'tip rack_tipspot_10_5', 'tip rack_tipspot_11_5'],\n",
       "       ['tip rack_tipspot_0_6', 'tip rack_tipspot_1_6', 'tip rack_tipspot_2_6', 'tip rack_tipspot_3_6', 'tip rack_tipspot_4_6', 'tip rack_tipspot_5_6', 'tip rack_tipspot_6_6', 'tip rack_tipspot_7_6', 'tip rack_tipspot_8_6', 'tip rack_tipspot_9_6', 'tip rack_tipspot_10_6', 'tip rack_tipspot_11_6'],\n",
       "       ['tip rack_tipspot_0_7', 'tip rack_tipspot_1_7', 'tip rack_tipspot_2_7', 'tip rack_tipspot_3_7', 'tip rack_tipspot_4_7', 'tip rack_tipspot_5_7', 'tip rack_tipspot_6_7', 'tip rack_tipspot_7_7', 'tip rack_tipspot_8_7', 'tip rack_tipspot_9_7', 'tip rack_tipspot_10_7', 'tip rack_tipspot_11_7']], dtype='<U21')"
      ]
     },
     "execution_count": 54,
     "metadata": {},
     "output_type": "execute_result"
    }
   ],
   "source": [
    "tip_rack_arr = np.array(tip_rack.children, dtype=object).reshape(12,8).T\n",
    "\n",
    "has_tip_vectorized = np.vectorize(lambda obj: obj.name)\n",
    "\n",
    "has_tip_vectorized(tip_rack_arr)"
   ]
  },
  {
   "cell_type": "code",
   "execution_count": 14,
   "id": "40979c60-7373-42df-9297-f49c3656566a",
   "metadata": {},
   "outputs": [],
   "source": []
  },
  {
   "cell_type": "code",
   "execution_count": null,
   "id": "ef509c97-c781-4027-bbe3-4a0cea4f704e",
   "metadata": {},
   "outputs": [],
   "source": []
  }
 ],
 "metadata": {
  "kernelspec": {
   "display_name": "Python 3 (ipykernel)",
   "language": "python",
   "name": "python3"
  },
  "language_info": {
   "codemirror_mode": {
    "name": "ipython",
    "version": 3
   },
   "file_extension": ".py",
   "mimetype": "text/x-python",
   "name": "python",
   "nbconvert_exporter": "python",
   "pygments_lexer": "ipython3",
   "version": "3.10.13"
  }
 },
 "nbformat": 4,
 "nbformat_minor": 5
}
