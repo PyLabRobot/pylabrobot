{
 "cells": [
  {
   "cell_type": "markdown",
   "id": "b658a60a-900b-408f-a9dc-512f4384bf0b",
   "metadata": {},
   "source": [
    "# Tip Inventory Consolidation"
   ]
  },
  {
   "cell_type": "code",
   "execution_count": 1,
   "id": "39a171c6-899b-451c-aef8-b172d27d3811",
   "metadata": {},
   "outputs": [],
   "source": [
    "import numpy as np\n",
    "import random\n",
    "import time"
   ]
  },
  {
   "cell_type": "markdown",
   "id": "36ee7f02-0ced-40f6-aa9a-0a08da863144",
   "metadata": {},
   "source": [
    "## Workcell Setup"
   ]
  },
  {
   "cell_type": "code",
   "execution_count": 2,
   "id": "8b219187-fe86-4d59-a9b6-adca80915ec8",
   "metadata": {},
   "outputs": [],
   "source": [
    "# === Configuration ===\n",
    "script_mode = \"execution\"  # \"simulation\" or \"execution\"\n",
    "liquid_handler_choice = \"starlet\"  # star | ot2 | evo100 | etc."
   ]
  },
  {
   "cell_type": "code",
   "execution_count": 3,
   "id": "9e66c819-df29-4b95-89e2-4c2b9a106296",
   "metadata": {},
   "outputs": [],
   "source": [
    "# For development: auto-reload modules\n",
    "%load_ext autoreload\n",
    "%autoreload 2\n",
    "\n",
    "import logging\n",
    "from pylabrobot.liquid_handling import LiquidHandler\n",
    "from pylabrobot.visualizer.visualizer import Visualizer\n",
    "\n",
    "# === Liquid handler configuration ===\n",
    "liquid_handler_config = {\n",
    "    \"star\": {\n",
    "        \"deck\": (\"pylabrobot.resources.hamilton\", \"STARDeck\"),\n",
    "        \"execution\": (\"pylabrobot.liquid_handling.backends\", \"STARBackend\"),\n",
    "        \"simulation\": (\"pylabrobot.liquid_handling.backends\", \"LiquidHandlerChatterboxBackend\"),\n",
    "    },\n",
    "    \"starlet\": {\n",
    "        \"deck\": (\"pylabrobot.resources.hamilton\", \"STARLetDeck\"),\n",
    "        \"execution\": (\"pylabrobot.liquid_handling.backends\", \"STARBackend\"),\n",
    "        \"simulation\": (\"pylabrobot.liquid_handling.backends\", \"LiquidHandlerChatterboxBackend\"),\n",
    "    },\n",
    "    \"vantage\": {\n",
    "        \"deck\": {\n",
    "            \"module\": \"pylabrobot.resources.hamilton\",\n",
    "            \"class\": \"VantageDeck\",\n",
    "            \"args\": { \"size\": 1.3 }\n",
    "        },\n",
    "        \"execution\": {\n",
    "            \"module\": \"pylabrobot.liquid_handling.backends\",\n",
    "            \"class\": \"VantageBackend\",\n",
    "        },\n",
    "        \"simulation\": {\n",
    "            \"module\": \"pylabrobot.liquid_handling.backends\",\n",
    "            \"class\": \"LiquidHandlerChatterboxBackend\",\n",
    "        }\n",
    "    },\n",
    "    \"ot2\": {\n",
    "        \"deck\": (\"pylabrobot.resources.opentrons\", \"OTDeck\"),\n",
    "        \"execution\": {\n",
    "            \"module\": \"pylabrobot.liquid_handling.backends\",\n",
    "            \"class\": \"OpentronsBackend\"\n",
    "        },\n",
    "        \"simulation\": {\n",
    "            \"module\": \"pylabrobot.liquid_handling.backends\",\n",
    "            \"class\": \"LiquidHandlerChatterboxBackend\",\n",
    "            \"args\": { \"num_channels\": 1 }\n",
    "        }\n",
    "    },\n",
    "    \"evo100\": {\n",
    "        \"deck\": (\"pylabrobot.resources.tecan\", \"EVO100Deck\"),\n",
    "        \"execution\": (\"pylabrobot.liquid_handling.backends\", \"EVOBackend\"),\n",
    "        \"simulation\": (\"pylabrobot.liquid_handling.backends\", \"LiquidHandlerChatterboxBackend\"),\n",
    "    },\n",
    "    \"evo150\": {\n",
    "        \"deck\": (\"pylabrobot.resources.tecan\", \"EVO150Deck\"),\n",
    "        \"execution\": (\"pylabrobot.liquid_handling.backends\", \"EVOBackend\"),\n",
    "        \"simulation\": (\"pylabrobot.liquid_handling.backends\", \"LiquidHandlerChatterboxBackend\"),\n",
    "    },\n",
    "    \"evo200\": {\n",
    "        \"deck\": (\"pylabrobot.resources.tecan\", \"EVO200Deck\"),\n",
    "        \"execution\": (\"pylabrobot.liquid_handling.backends\", \"EVOBackend\"),\n",
    "        \"simulation\": (\"pylabrobot.liquid_handling.backends\", \"LiquidHandlerChatterboxBackend\"),\n",
    "    },\n",
    "}\n",
    "\n",
    "# === Liquid handler selection ===\n",
    "# Define these before running\n",
    "# liquid_handler_choice = \"vantage\"\n",
    "# script_mode = \"simulation\"  # or \"execution\"\n",
    "\n",
    "lh_entry = liquid_handler_config.get(liquid_handler_choice)\n",
    "if lh_entry is None:\n",
    "    raise ValueError(f\"Unknown liquid handler: {liquid_handler_choice}\")\n",
    "\n",
    "# === Deck loading ===\n",
    "deck_entry = lh_entry[\"deck\"]\n",
    "\n",
    "if isinstance(deck_entry, tuple):\n",
    "    deck_module, deck_class = deck_entry\n",
    "    deck_args = {}\n",
    "elif isinstance(deck_entry, dict):\n",
    "    deck_module = deck_entry[\"module\"]\n",
    "    deck_class = deck_entry[\"class\"]\n",
    "    deck_args = deck_entry.get(\"args\", {})\n",
    "else:\n",
    "    raise ValueError(f\"Invalid deck entry format: {deck_entry}\")\n",
    "\n",
    "exec(f\"from {deck_module} import {deck_class} as Deck\")\n",
    "deck = Deck(**deck_args)\n",
    "\n",
    "# === Backend loading ===\n",
    "backend_entry = lh_entry.get(script_mode)\n",
    "if backend_entry is None:\n",
    "    raise ValueError(f\"No backend configured for mode '{script_mode}' in '{liquid_handler_choice}'\")\n",
    "\n",
    "if isinstance(backend_entry, tuple):\n",
    "    backend_module, backend_class = backend_entry\n",
    "    backend_args = {}\n",
    "elif isinstance(backend_entry, dict):\n",
    "    backend_module = backend_entry[\"module\"]\n",
    "    backend_class = backend_entry[\"class\"]\n",
    "    backend_args = backend_entry.get(\"args\", {})\n",
    "else:\n",
    "    raise ValueError(f\"Invalid backend entry format: {backend_entry}\")\n",
    "\n",
    "exec(f\"from {backend_module} import {backend_class} as Backend\")\n",
    "backend = Backend(**backend_args)\n",
    "\n",
    "# === Create LiquidHandler ===\n",
    "lh = LiquidHandler(backend=backend, deck=deck)\n",
    "\n",
    "# === Logging setup ===\n",
    "logger = logging.getLogger(\"pylabrobot\")\n",
    "logger.setLevel(logging.DEBUG)\n"
   ]
  },
  {
   "cell_type": "code",
   "execution_count": 4,
   "id": "de15ed3c-99da-4e4b-8501-a2471d63874a",
   "metadata": {
    "scrolled": true
   },
   "outputs": [
    {
     "name": "stdout",
     "output_type": "stream",
     "text": [
      "Websocket server started at http://127.0.0.1:2121\n",
      "File server started at http://127.0.0.1:1337 . Open this URL in your browser.\n"
     ]
    }
   ],
   "source": [
    "lh = LiquidHandler(backend=backend, deck=deck)\n",
    "\n",
    "await lh.setup()\n",
    "vis = Visualizer(resource=lh)\n",
    "await vis.setup()\n",
    "\n",
    "from pylabrobot.resources import set_tip_tracking, set_volume_tracking\n",
    "set_tip_tracking(True), set_volume_tracking(False);\n",
    "\n",
    "if script_mode == \"execution\":\n",
    "    await lh.backend.disable_cover_control()\n",
    "    await lh.backend.move_all_channels_in_z_safety()\n",
    "    lh.backend.allow_firmware_planning = True # very powerful\n",
    "    lh.backend.read_timeout = 240 # give your commands more time"
   ]
  },
  {
   "cell_type": "markdown",
   "id": "97ad91ab-a309-4ae4-bc05-0658a13bff9b",
   "metadata": {},
   "source": [
    "### Function Defintions"
   ]
  },
  {
   "cell_type": "code",
   "execution_count": 5,
   "id": "7026bf04-7997-4c1c-b7cd-3f03ae7a4220",
   "metadata": {},
   "outputs": [],
   "source": [
    "from typing import List, Any, Generator\n",
    "\n",
    "def divide_list_into_chunks(\n",
    "        list_l: List[Any],\n",
    "        chunk_size: int\n",
    "    ) -> Generator[List[Any], None, None]:\n",
    "    \"\"\"\n",
    "    Divides a list into smaller chunks of a specified size.\n",
    "\n",
    "    Parameters:\n",
    "    - list_l (List[Any]): The list to be divided into chunks.\n",
    "    - chunk_size (int): The size of each chunk.\n",
    "\n",
    "    Returns:\n",
    "    - Generator[List[Any], None, None]: A generator that yields chunks of the list.\n",
    "    \"\"\"\n",
    "    for i in range(0, len(list_l), chunk_size):\n",
    "        yield list_l[i:i + chunk_size]"
   ]
  },
  {
   "cell_type": "markdown",
   "id": "0552ff21-c24e-4431-9edb-79031dc70259",
   "metadata": {},
   "source": [
    "## Deck Setup"
   ]
  },
  {
   "cell_type": "code",
   "execution_count": 6,
   "id": "bae4ed78-12ac-451a-9c32-e062ee499558",
   "metadata": {},
   "outputs": [],
   "source": [
    "if any([liquid_handler_choice == \"star\", liquid_handler_choice == \"starlet\"]):\n",
    "\n",
    "    from pylabrobot.resources import (\n",
    "        TIP_CAR_480_A00, HTF, STF, TIP_50ul\n",
    "    )\n",
    "    \n",
    "    tip_carrier = TIP_CAR_480_A00(name=\"tip carrier\")\n",
    "    \n",
    "    tip_carrier[2] = tip_rack_1000ul_3 = HTF(name=\"tip_rack_1000ul_3\", with_tips=False)\n",
    "    tip_carrier[1] = tip_rack_1000ul_2 = HTF(name=\"tip_rack_1000ul_2\")\n",
    "    tip_carrier[0] = tip_rack_1000ul_1 = HTF(name=\"tip_rack_1000ul_1\")\n",
    "    \n",
    "    lh.deck.assign_child_resource(tip_carrier, rails=15)\n",
    "    \n",
    "    tip_carrier_2 = TIP_CAR_480_A00(name=\"tip carrier 2\")\n",
    "    \n",
    "    tip_carrier_2[2] = tip_rack_50ul_3 = TIP_50ul(name=\"tip_rack_50ul_3\", with_tips=False)\n",
    "    tip_carrier_2[1] = tip_rack_50ul_2 = TIP_50ul(name=\"tip_rack_50ul_2\")\n",
    "    tip_carrier_2[0] = tip_rack_50ul_1 = TIP_50ul(name=\"tip_rack_50ul_1\")\n",
    "    \n",
    "    lh.deck.assign_child_resource(tip_carrier_2, rails=22)\n",
    "\n",
    "    # Move 50ul tips in random source location to empty tip_rack, filled \"down_left\"\n",
    "    dest_tip_spot_chunked = tip_rack_50ul_3.traverse(\n",
    "            batch_size=lh.backend.num_channels,\n",
    "            direction=\"down_left\"\n",
    "        ) \n",
    "    \n",
    "    dest_tip_spot_iterator = iter(\n",
    "        [tip_spot for column in dest_tip_spot_chunked for tip_spot in column]\n",
    "    )\n",
    "    \n",
    "    n = 60\n",
    "    random_source_numbers = random.sample(range(96), k=n)\n",
    "    \n",
    "    source_tip_spot_chunked =  divide_list_into_chunks(\n",
    "        list_l=[tip_rack_50ul_1.children[idx] for idx in sorted(random_source_numbers)],\n",
    "        chunk_size = lh.backend.num_channels\n",
    "    )\n",
    "    \n",
    "    for source_tip_spots in source_tip_spot_chunked:\n",
    "    \n",
    "        destination_tip_spots = [next(dest_tip_spot_iterator) for idx in source_tip_spots]\n",
    "    \n",
    "        await lh.pick_up_tips(\n",
    "            source_tip_spots,\n",
    "        )\n",
    "    \n",
    "        if script_mode == \"simulation\":\n",
    "            time.sleep(1)\n",
    "    \n",
    "        await lh.drop_tips(\n",
    "            destination_tip_spots,\n",
    "            )\n",
    "    # # if script_mode == \"simulation\":\n",
    "    # _ = [tip_rack_1000ul_1.children[idx].tracker.remove_tip() for idx in random_source_numbers]\n",
    "    # _ = [tip_rack_1000ul_1.children[idx].tracker.commit() for idx in random_source_numbers]"
   ]
  },
  {
   "cell_type": "code",
   "execution_count": 7,
   "id": "613cc63e-b161-4080-91a4-050b90fc8ac9",
   "metadata": {},
   "outputs": [],
   "source": [
    "if liquid_handler_choice == \"ot2\" :\n",
    "\n",
    "    from pylabrobot.resources import (\n",
    "        opentrons_96_filtertiprack_1000ul,\n",
    "        opentrons_96_filtertiprack_20ul\n",
    "    )\n",
    "\n",
    "    tip_rack_1000ul_3 = opentrons_96_filtertiprack_1000ul(name=\"tip_rack_1000ul_3\", with_tips=False)\n",
    "    tip_rack_1000ul_2 = opentrons_96_filtertiprack_1000ul(name=\"tip_rack_1000ul_2\")\n",
    "    tip_rack_1000ul_1 = opentrons_96_filtertiprack_1000ul(name=\"tip_rack_1000ul_1\")\n",
    "\n",
    "    lh.deck.assign_child_at_slot(tip_rack_1000ul_3, slot=8)\n",
    "    lh.deck.assign_child_at_slot(tip_rack_1000ul_2, slot=5)\n",
    "    lh.deck.assign_child_at_slot(tip_rack_1000ul_1, slot=2)\n",
    "\n",
    "    tip_rack_20ul_3 = opentrons_96_filtertiprack_20ul(name=\"tip_rack_20ul_3\", with_tips=False)\n",
    "    tip_rack_20ul_2 = opentrons_96_filtertiprack_20ul(name=\"tip_rack_20ul_2\")\n",
    "    tip_rack_20ul_1 = opentrons_96_filtertiprack_20ul(name=\"tip_rack_20ul_1\")\n",
    "\n",
    "    lh.deck.assign_child_at_slot(tip_rack_20ul_3, slot=9)\n",
    "    lh.deck.assign_child_at_slot(tip_rack_20ul_2, slot=6)\n",
    "    lh.deck.assign_child_at_slot(tip_rack_20ul_1, slot=3)\n",
    "\n",
    "    # Move 20ul tips in random source location to empty tip_rack, filled \"down_left\"\n",
    "    dest_tip_spot_chunked = tip_rack_20ul_3.traverse(\n",
    "            batch_size=lh.backend.num_channels,\n",
    "            direction=\"down_left\"\n",
    "        ) \n",
    "    \n",
    "    dest_tip_spot_iterator = iter(\n",
    "        [tip_spot for column in dest_tip_spot_chunked for tip_spot in column]\n",
    "    )\n",
    "    \n",
    "    n = 60\n",
    "    random_source_numbers = random.sample(range(96), k=n)\n",
    "    \n",
    "    source_tip_spot_chunked =  divide_list_into_chunks(\n",
    "        list_l=[tip_rack_20ul_1.children[idx] for idx in sorted(random_source_numbers)],\n",
    "        chunk_size = lh.backend.num_channels\n",
    "    )\n",
    "    \n",
    "    for source_tip_spots in source_tip_spot_chunked:\n",
    "    \n",
    "        destination_tip_spots = [next(dest_tip_spot_iterator) for idx in source_tip_spots]\n",
    "    \n",
    "        await lh.pick_up_tips(\n",
    "            source_tip_spots,\n",
    "        )\n",
    "    \n",
    "        if script_mode == \"simulation\":\n",
    "            time.sleep(1)\n",
    "    \n",
    "        await lh.drop_tips(\n",
    "            destination_tip_spots,\n",
    "            )"
   ]
  },
  {
   "cell_type": "code",
   "execution_count": 8,
   "id": "cd1e82f1-e3cc-4be9-9242-f81c054c864d",
   "metadata": {},
   "outputs": [],
   "source": [
    "if liquid_handler_choice == \"evo150\" :\n",
    "\n",
    "    from pylabrobot.resources import (\n",
    "        opentrons_96_filtertiprack_1000ul,\n",
    "        opentrons_96_filtertiprack_20ul\n",
    "    )\n",
    "\n",
    "    # TODO: generate EVO150 showcase"
   ]
  },
  {
   "cell_type": "code",
   "execution_count": 9,
   "id": "57df36a6-2bd6-4d16-a9f2-962369844a14",
   "metadata": {
    "scrolled": true
   },
   "outputs": [],
   "source": [
    "dest_tip_spot_chunked = tip_rack_1000ul_3.traverse(\n",
    "        batch_size=lh.backend.num_channels,\n",
    "        direction=\"down_left\"\n",
    "    )\n",
    "\n",
    "dest_tip_spot_iterator = iter(\n",
    "    [tip_spot for column in dest_tip_spot_chunked for tip_spot in column]\n",
    ")\n",
    "\n",
    "n = 40\n",
    "random_source_numbers = random.sample(range(96), k=n)\n",
    "\n",
    "source_tip_spot_chunked =  divide_list_into_chunks(\n",
    "    list_l=[tip_rack_1000ul_1.children[idx] for idx in sorted(random_source_numbers)],\n",
    "    chunk_size = lh.backend.num_channels\n",
    ")\n",
    "\n",
    "for source_tip_spots in source_tip_spot_chunked:\n",
    "\n",
    "    destination_tip_spots = [next(dest_tip_spot_iterator) for idx in source_tip_spots]\n",
    "\n",
    "    await lh.pick_up_tips(\n",
    "        source_tip_spots,\n",
    "    )\n",
    "\n",
    "    if script_mode == \"simulation\":\n",
    "        time.sleep(0.5)\n",
    "\n",
    "    await lh.drop_tips(\n",
    "        destination_tip_spots,\n",
    "        )\n",
    "\n",
    "# if script_mode == \"simulation\":\n",
    "#     _ = [tip_rack_1000ul_1.children[idx].tracker.remove_tip() for idx in numbers]\n",
    "#     _ = [tip_rack_1000ul_1.children[idx].tracker.commit() for idx in numbers]"
   ]
  },
  {
   "cell_type": "code",
   "execution_count": 10,
   "id": "b0f80e38-ff9e-45a4-9f2c-9b8ca201cc1a",
   "metadata": {
    "scrolled": true
   },
   "outputs": [],
   "source": [
    "n = 30\n",
    "# random_source_numbers = random.sample(range(96), k=n)\n",
    "\n",
    "source_tip_spot_chunked =  divide_list_into_chunks(\n",
    "    list_l=[tip_rack_1000ul_2.children[idx] for idx in sorted(random_source_numbers)],\n",
    "    chunk_size = lh.backend.num_channels\n",
    ")\n",
    "\n",
    "for source_tip_spots in source_tip_spot_chunked:\n",
    "\n",
    "    destination_tip_spots = [next(dest_tip_spot_iterator) for idx in source_tip_spots]\n",
    "\n",
    "    await lh.pick_up_tips(\n",
    "        source_tip_spots,\n",
    "    )\n",
    "\n",
    "    if script_mode == \"simulation\":\n",
    "        time.sleep(0.5)\n",
    "\n",
    "    await lh.drop_tips(\n",
    "        destination_tip_spots,\n",
    "        )\n",
    "\n",
    "# if script_mode == \"simulation\":\n",
    "#     _ = [tip_rack_1000ul_1.children[idx].tracker.remove_tip() for idx in numbers]\n",
    "#     _ = [tip_rack_1000ul_1.children[idx].tracker.commit() for idx in numbers]"
   ]
  },
  {
   "cell_type": "markdown",
   "id": "427a2ce5-e5e7-4507-83a3-d8cc116e23da",
   "metadata": {},
   "source": [
    "## Consolidate tip inventory"
   ]
  },
  {
   "cell_type": "code",
   "execution_count": 11,
   "id": "71e6c186-218c-45d2-b885-d401a6ca841f",
   "metadata": {},
   "outputs": [
    {
     "data": {
      "text/plain": [
       "8"
      ]
     },
     "execution_count": 11,
     "metadata": {},
     "output_type": "execute_result"
    }
   ],
   "source": [
    "lh.backend.num_channels"
   ]
  },
  {
   "cell_type": "code",
   "execution_count": 12,
   "id": "702d29eb-1163-489b-a9a8-a99e87d4f49a",
   "metadata": {
    "scrolled": true
   },
   "outputs": [
    {
     "name": "stdout",
     "output_type": "stream",
     "text": [
      "Consolidating:\n",
      " - tip_rack_1000ul_3, tip_rack_1000ul_1, tip_rack_1000ul_2\n",
      "     - tip transfer cycle: 0 / 7\n",
      "     - tip transfer cycle: 1 / 7\n",
      "     - tip transfer cycle: 2 / 7\n",
      "     - tip transfer cycle: 3 / 7\n",
      "     - tip transfer cycle: 4 / 7\n",
      "     - tip transfer cycle: 5 / 7\n",
      "     - tip transfer cycle: 6 / 7\n",
      "     - tip transfer cycle: 7 / 7\n",
      "Consolidating:\n",
      " - tip_rack_50ul_3, tip_rack_50ul_1\n",
      "     - tip transfer cycle: 0 / 4\n",
      "     - tip transfer cycle: 1 / 4\n",
      "     - tip transfer cycle: 2 / 4\n",
      "     - tip transfer cycle: 3 / 4\n",
      "     - tip transfer cycle: 4 / 4\n"
     ]
    }
   ],
   "source": [
    "await lh.consolidate_tip_inventory(\n",
    "    # lh=lh,\n",
    "    ignore_tiprack_list = [\"teaching_tip_rack\"]\n",
    ")"
   ]
  },
  {
   "cell_type": "code",
   "execution_count": null,
   "id": "e61da05d-d2d7-4cae-aa4e-e442486865c6",
   "metadata": {},
   "outputs": [],
   "source": []
  },
  {
   "cell_type": "markdown",
   "id": "041e8409-70c7-438d-9231-dfe0181b8dcf",
   "metadata": {},
   "source": [
    "# Liquid handler shut down"
   ]
  },
  {
   "cell_type": "code",
   "execution_count": 13,
   "id": "c80c8d06-27d0-4abb-9191-c834e5976e33",
   "metadata": {},
   "outputs": [
    {
     "data": {
      "text/plain": [
       "[False, False, False, False, False, False, False, False]"
      ]
     },
     "execution_count": 13,
     "metadata": {},
     "output_type": "execute_result"
    }
   ],
   "source": [
    "[lh.head[idx].has_tip for idx in range(8)]"
   ]
  },
  {
   "cell_type": "code",
   "execution_count": 14,
   "id": "6bb9efea-749b-4c5a-ad39-66c1af2b1449",
   "metadata": {},
   "outputs": [
    {
     "name": "stdout",
     "output_type": "stream",
     "text": [
      "An error occurred while stopping temperature control:\n",
      "'STARBackend' object has no attribute 'stop_temperature_control_at_hhs'\n",
      "An error occurred while stopping temperature control:\n",
      "'STARBackend' object has no attribute 'stop_temperature_control_at_hhc'\n"
     ]
    }
   ],
   "source": [
    "if script_mode == 'execution':\n",
    "    await lh.backend.move_all_channels_in_z_safety()\n",
    "    if not lh.backend.core_parked: # return grippers\n",
    "        await lh.backend.put_core()\n",
    "    # discard tips if any are present\n",
    "    has_tip_check = [lh.head[idx].has_tip for idx in range(8)]\n",
    "    if any(has_tip_check):\n",
    "        await lh.discard_tips()\n",
    "    await lh.backend.spread_pip_channels()\n",
    "    # Stop temperature control\n",
    "    try:\n",
    "        await lh.backend.stop_temperature_control_at_hhs(1)\n",
    "    except Exception as e:\n",
    "        print(f\"An error occurred while stopping temperature control:\\n{e}\")\n",
    "     # Stop temperature control\n",
    "    try:\n",
    "        await lh.backend.stop_temperature_control_at_hhc(2)\n",
    "    except Exception as e:\n",
    "        print(f\"An error occurred while stopping temperature control:\\n{e}\")\n",
    "\n",
    "await lh.stop()\n",
    "await vis.stop()"
   ]
  },
  {
   "cell_type": "code",
   "execution_count": null,
   "id": "23378332-64ed-4c02-95e5-2244f6fa8803",
   "metadata": {},
   "outputs": [],
   "source": []
  },
  {
   "cell_type": "code",
   "execution_count": null,
   "id": "713d84e8-dbe3-4585-a9c9-36f236d5ff87",
   "metadata": {},
   "outputs": [],
   "source": []
  },
  {
   "cell_type": "raw",
   "id": "5d2369c2-4abf-420f-baf4-ca94a58891ee",
   "metadata": {},
   "source": [
    "## 3- sorting algorithm"
   ]
  },
  {
   "cell_type": "raw",
   "id": "f111ab9d-74e9-4c1e-a74e-717199786426",
   "metadata": {},
   "source": [
    "### 3.0- identify tipracks\n",
    "\n",
    "### 3.1- cluster tipracks by model\n",
    "\n",
    "### 3.2- store only partially-filled tipracks\n",
    "\n",
    "### 3.3- sort partially-filled tipracks by minimal fill_len\n",
    "\n",
    "### 3.4- vector calculations to assess `add` & `remove` TipSpots\n",
    "\n",
    "### 3.5- Cluster `add` by x-coordiate\n",
    "\n",
    "### 3.6- Merge `add` clusters if len(clusters) <= len(use_channels)"
   ]
  },
  {
   "cell_type": "code",
   "execution_count": 15,
   "id": "bcc3991b-1ab7-420e-8b3f-216f653061ac",
   "metadata": {},
   "outputs": [
    {
     "ename": "NameError",
     "evalue": "name 'all_tip_presence_list' is not defined",
     "output_type": "error",
     "traceback": [
      "\u001b[1;31m---------------------------------------------------------------------------\u001b[0m",
      "\u001b[1;31mNameError\u001b[0m                                 Traceback (most recent call last)",
      "Cell \u001b[1;32mIn[15], line 10\u001b[0m\n\u001b[0;32m      8\u001b[0m \u001b[38;5;66;03m# Generate current tip list\u001b[39;00m\n\u001b[0;32m      9\u001b[0m random\u001b[38;5;241m.\u001b[39mseed(\u001b[38;5;241m42\u001b[39m)\n\u001b[1;32m---> 10\u001b[0m current_tips_list \u001b[38;5;241m=\u001b[39m all_tip_presence_list\n\u001b[0;32m     12\u001b[0m \u001b[38;5;66;03m# Generate target tip list\u001b[39;00m\n\u001b[0;32m     13\u001b[0m target_tips_list \u001b[38;5;241m=\u001b[39m target_tips_list\n",
      "\u001b[1;31mNameError\u001b[0m: name 'all_tip_presence_list' is not defined"
     ]
    }
   ],
   "source": [
    "import random\n",
    "import matplotlib.pyplot as plt\n",
    "\n",
    "# Parameters\n",
    "total_length = 182\n",
    "num_tips = 106\n",
    "\n",
    "# Generate current tip list\n",
    "random.seed(42)\n",
    "current_tips_list = all_tip_presence_list\n",
    "\n",
    "# Generate target tip list\n",
    "target_tips_list = target_tips_list\n",
    "\n",
    "# Compute movement list\n",
    "tip_movement_list = [\n",
    "    c - t for c, t in zip(current_tips_list, target_tips_list)\n",
    "]\n",
    "\n",
    "# Stack lists for visualization\n",
    "tips_matrix = [current_tips_list, target_tips_list, tip_movement_list]\n",
    "\n",
    "# Convert to 2D list of floats for imshow\n",
    "tips_matrix_float = [[float(x) for x in row] for row in tips_matrix]\n",
    "\n",
    "# Plot using matplotlib\n",
    "fig, ax = plt.subplots(figsize=(12, 3))\n",
    "cax = ax.imshow(tips_matrix_float, cmap=\"bwr\", aspect=\"auto\", vmin=-1, vmax=1)\n",
    "ax.set_yticks([0, 1, 2])\n",
    "ax.set_yticklabels([\"Current\", \"Target\", \"Movement\"])\n",
    "ax.set_xticks([])\n",
    "ax.set_title(\"Tip Movement Overview (No NumPy)\")\n",
    "plt.colorbar(cax, orientation='vertical', label='Tip Delta')\n",
    "plt.tight_layout()\n",
    "plt.show()\n"
   ]
  },
  {
   "cell_type": "code",
   "execution_count": null,
   "id": "f26fc5ec-5588-4be1-8abf-422366fc3d1d",
   "metadata": {},
   "outputs": [],
   "source": []
  }
 ],
 "metadata": {
  "kernelspec": {
   "display_name": "Python 3 (ipykernel)",
   "language": "python",
   "name": "python3"
  },
  "language_info": {
   "codemirror_mode": {
    "name": "ipython",
    "version": 3
   },
   "file_extension": ".py",
   "mimetype": "text/x-python",
   "name": "python",
   "nbconvert_exporter": "python",
   "pygments_lexer": "ipython3",
   "version": "3.11.7"
  }
 },
 "nbformat": 4,
 "nbformat_minor": 5
}
