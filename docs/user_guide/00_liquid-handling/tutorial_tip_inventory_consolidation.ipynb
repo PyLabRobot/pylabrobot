{
 "cells": [
  {
   "cell_type": "markdown",
   "id": "b658a60a-900b-408f-a9dc-512f4384bf0b",
   "metadata": {},
   "source": [
    "# Tip Inventory Consolidation"
   ]
  },
  {
   "cell_type": "markdown",
   "id": "765709c8",
   "metadata": {},
   "source": [
    "Enable tip tracking so PLR keeps track of where the tips are."
   ]
  },
  {
   "cell_type": "code",
   "execution_count": null,
   "id": "6f5d58c8",
   "metadata": {},
   "outputs": [],
   "source": [
    "from pylabrobot.resources import set_tip_tracking\n",
    "set_tip_tracking(True)"
   ]
  },
  {
   "cell_type": "code",
   "execution_count": null,
   "id": "37cde781",
   "metadata": {},
   "outputs": [],
   "source": [
    "use_channels = [0, 1, 2, 3, 4, 5, 6, 7]"
   ]
  },
  {
   "cell_type": "markdown",
   "id": "8e1a18ac",
   "metadata": {},
   "source": [
    "## Example LH setup\n",
    "\n",
    "For this notebook, we will use Hamilton STAR as an example but all robots should be supported."
   ]
  },
  {
   "cell_type": "code",
   "execution_count": null,
   "id": "695a4e86",
   "metadata": {},
   "outputs": [],
   "source": [
    "%load_ext autoreload\n",
    "%autoreload 2"
   ]
  },
  {
   "cell_type": "code",
   "execution_count": null,
   "id": "de15ed3c-99da-4e4b-8501-a2471d63874a",
   "metadata": {
    "scrolled": true
   },
   "outputs": [],
   "source": [
    "from pylabrobot.liquid_handling import LiquidHandler\n",
    "from pylabrobot.liquid_handling import STARBackend\n",
    "from pylabrobot.resources import STARDeck\n",
    "\n",
    "backend = STARBackend()\n",
    "deck = STARDeck()"
   ]
  },
  {
   "cell_type": "code",
   "execution_count": null,
   "id": "21204f35",
   "metadata": {},
   "outputs": [],
   "source": [
    "lh = LiquidHandler(backend=backend, deck=deck)\n",
    "await lh.setup()"
   ]
  },
  {
   "cell_type": "code",
   "execution_count": null,
   "id": "cda5abbc",
   "metadata": {},
   "outputs": [],
   "source": [
    "from pylabrobot.resources import HTF, TIP_CAR_480_A00\n",
    "tip_carrier = TIP_CAR_480_A00(name=\"tip_carrier\")\n",
    "tip_carrier[0] = tr0 = HTF(name=\"tr0\", with_tips=True)\n",
    "tip_carrier[1] = tr1 = HTF(name=\"tr1\", with_tips=False)\n",
    "deck.assign_child_resource(tip_carrier, rails=10)"
   ]
  },
  {
   "cell_type": "markdown",
   "id": "4b8ac9e5",
   "metadata": {},
   "source": [
    "## Setting up the visualizer"
   ]
  },
  {
   "cell_type": "markdown",
   "id": "2648b8b7",
   "metadata": {},
   "source": [
    "Let's use the visualizer to see the state of the deck."
   ]
  },
  {
   "cell_type": "code",
   "execution_count": null,
   "id": "282d5ad4",
   "metadata": {},
   "outputs": [],
   "source": [
    "from pylabrobot.visualizer import Visualizer\n",
    "visualizer = Visualizer(lh)\n",
    "await visualizer.setup()"
   ]
  },
  {
   "cell_type": "markdown",
   "id": "0c61a3a3",
   "metadata": {},
   "source": [
    "It should look like this:\n",
    "\n",
    "![full](./img/consolidation/start.jpg)"
   ]
  },
  {
   "cell_type": "markdown",
   "id": "48cbe65c",
   "metadata": {},
   "source": [
    "## Randomization\n",
    "\n",
    "To simulate a deck in the worst scenario, we completely randomize the state of the two tip racks. This serves as a stress test for the tip inventory consolidation algorithm. In more realistic runs, tip access is likely more structured."
   ]
  },
  {
   "cell_type": "code",
   "execution_count": null,
   "id": "f26fc5ec-5588-4be1-8abf-422366fc3d1d",
   "metadata": {},
   "outputs": [],
   "source": [
    "import random\n",
    "random.seed(42)\n",
    "\n",
    "n = 48  # Number of tips to transfer\n",
    "batch_size = len(use_channels)\n",
    "\n",
    "# Randomly select n tip spots from source and target racks\n",
    "source_tip_spots = [tr0.get_item(i) for i in sorted(random.sample(range(tr0.num_items), n))]\n",
    "target_tip_spots = [tr1.get_item(i) for i in sorted(random.sample(range(tr1.num_items), n))]\n",
    "\n",
    "for i in range(0, n, batch_size):\n",
    "  await lh.pick_up_tips(source_tip_spots[i:i + batch_size], use_channels=use_channels)\n",
    "  await lh.drop_tips(target_tip_spots[i:i + batch_size], use_channels=use_channels)"
   ]
  },
  {
   "cell_type": "markdown",
   "id": "35ac7180",
   "metadata": {},
   "source": [
    "After randomization, the visualizer should look like this:\n",
    "\n",
    "![full](./img/consolidation/random.jpg)"
   ]
  },
  {
   "cell_type": "markdown",
   "id": "c5c1547e",
   "metadata": {},
   "source": [
    "## Probing tip presence (optional)\n",
    "\n",
    "Because we enabled tip tracking, PLR knows exactly where the tips are. In some runs, when tip tracking was not enabled, we would not know where the tips are.\n",
    "\n",
    "Luckily, we can automatically detect where tips exist on the deck using \"pickup probing\". This means that we can use the robot to pick up tips and see if it succeeds or fails (error). If it succeeds, we know that the tip is present at that location. If it fails, we know that the tip is not present at that location.\n",
    "\n",
    "Below we \"forget\" the state of the tips, by telling it both tip racks are full, and then use probing to detect where the tips are. After that, we update the state of the tips again (back to the original state)."
   ]
  },
  {
   "cell_type": "code",
   "execution_count": null,
   "id": "213e278d",
   "metadata": {},
   "outputs": [],
   "source": [
    "tr0.fill()\n",
    "tr1.fill()"
   ]
  },
  {
   "cell_type": "markdown",
   "id": "f699eaa3",
   "metadata": {},
   "source": [
    "Now the visualizer should look like this:\n",
    "\n",
    "![full](./img/consolidation/full.jpg)"
   ]
  },
  {
   "cell_type": "code",
   "execution_count": null,
   "id": "7ca974ef",
   "metadata": {},
   "outputs": [],
   "source": [
    "import pylabrobot.resources.functional as F\n",
    "result = await lh.probe_tip_inventory(F.get_all_tip_spots([tr0, tr1]), use_channels=use_channels)"
   ]
  },
  {
   "cell_type": "code",
   "execution_count": null,
   "id": "dca288ad",
   "metadata": {},
   "outputs": [],
   "source": [
    "for ts_name, has_tip in result.items(): \n",
    "  tracker = lh.deck.get_resource(ts_name).tracker\n",
    "  if has_tip and not tracker.has_tip:\n",
    "    tracker.add_tip(lh.get_item(ts_name).make_tip(), commit=True)\n",
    "  elif not has_tip and tracker.has_tip:\n",
    "    tracker.remove_tip(commit=True)"
   ]
  },
  {
   "cell_type": "markdown",
   "id": "8d7a8b77",
   "metadata": {},
   "source": [
    "## Consolidating tip racks"
   ]
  },
  {
   "cell_type": "code",
   "execution_count": null,
   "id": "b7023bfa",
   "metadata": {},
   "outputs": [],
   "source": [
    "await lh.consolidate_tip_inventory([tr0, tr1], use_channels=use_channels)"
   ]
  },
  {
   "cell_type": "markdown",
   "id": "52341f6c",
   "metadata": {},
   "source": [
    "And we're back to neatly sorted tip racks!\n",
    "\n",
    "![full](./img/consolidation/start.jpg)"
   ]
  }
 ],
 "metadata": {
  "kernelspec": {
   "display_name": "env",
   "language": "python",
   "name": "python3"
  },
  "language_info": {
   "codemirror_mode": {
    "name": "ipython",
    "version": 3
   },
   "file_extension": ".py",
   "mimetype": "text/x-python",
   "name": "python",
   "nbconvert_exporter": "python",
   "pygments_lexer": "ipython3",
   "version": "3.10.15"
  }
 },
 "nbformat": 4,
 "nbformat_minor": 5
}
