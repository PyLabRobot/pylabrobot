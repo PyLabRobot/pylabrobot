{
 "cells": [
  {
   "cell_type": "markdown",
   "metadata": {},
   "source": [
    "# Validating against log file example"
   ]
  },
  {
   "cell_type": "code",
   "execution_count": 1,
   "metadata": {},
   "outputs": [],
   "source": [
    "%load_ext autoreload\n",
    "%autoreload 2"
   ]
  },
  {
   "cell_type": "markdown",
   "metadata": {},
   "source": [
    "Run with log level set to `LOG_LEVEL_IO` so that all IO oeprations are logged to the file."
   ]
  },
  {
   "cell_type": "code",
   "execution_count": 2,
   "metadata": {},
   "outputs": [],
   "source": [
    "from pathlib import Path\n",
    "from pylabrobot.config import Config\n",
    "from pylabrobot.io import LOG_LEVEL_IO\n",
    "\n",
    "config = Config(\n",
    "  logging=Config.Logging(\n",
    "    level=LOG_LEVEL_IO,\n",
    "    log_dir=Path(\"my_logs\")\n",
    "  )\n",
    ")\n",
    "import pylabrobot\n",
    "pylabrobot.configure(config)"
   ]
  },
  {
   "cell_type": "markdown",
   "metadata": {},
   "source": [
    "Instantiate the frontends and backends:"
   ]
  },
  {
   "cell_type": "code",
   "execution_count": 3,
   "metadata": {},
   "outputs": [],
   "source": [
    "from pylabrobot.liquid_handling import LiquidHandler\n",
    "from pylabrobot.liquid_handling.backends import STAR\n",
    "from pylabrobot.resources.hamilton import STARLetDeck\n",
    "\n",
    "backend = STAR()\n",
    "lh = LiquidHandler(backend=backend, deck=STARLetDeck())"
   ]
  },
  {
   "cell_type": "markdown",
   "metadata": {},
   "source": [
    "Do a real run first, without the validation enabled. This will generate the log file you can later compare against. This effectively ensures you have a real working protocol. The benefit of using log files is whenever you change your protocol and have seen it run, you can just grab the log file and use it for validation. No need to manually write tests.\n",
    "\n",
    "On validation, before calling setup, run `pylabrobot.validate` to enable the validation. Pass a log file that contains the commands we should check against. This returns a `LogReader` object which you can use at the end to check if the all commands were executed correctly."
   ]
  },
  {
   "cell_type": "code",
   "execution_count": 4,
   "metadata": {},
   "outputs": [],
   "source": [
    "import pylabrobot\n",
    "lr = pylabrobot.validate(\"./my_logs/pylabrobot-20250204.log\")"
   ]
  },
  {
   "cell_type": "code",
   "execution_count": 5,
   "metadata": {},
   "outputs": [],
   "source": [
    "await lh.setup()"
   ]
  },
  {
   "cell_type": "code",
   "execution_count": 6,
   "metadata": {},
   "outputs": [],
   "source": [
    "from pylabrobot.resources import TIP_CAR_480_A00, HT\n",
    "\n",
    "tip_car = TIP_CAR_480_A00(name=\"tip_car\")\n",
    "tip_car[0] = tr = HT(name=\"ht\")\n",
    "lh.deck.assign_child_resource(tip_car, rails=1)"
   ]
  },
  {
   "cell_type": "code",
   "execution_count": 7,
   "metadata": {},
   "outputs": [],
   "source": [
    "await lh.pick_up_tips(tr[\"A1:H1\"])"
   ]
  },
  {
   "cell_type": "code",
   "execution_count": 8,
   "metadata": {},
   "outputs": [],
   "source": [
    "await lh.return_tips()"
   ]
  },
  {
   "cell_type": "markdown",
   "metadata": {},
   "source": [
    "Use `lr.done()` to check if all commands were executed."
   ]
  },
  {
   "cell_type": "code",
   "execution_count": 9,
   "metadata": {},
   "outputs": [
    {
     "name": "stdout",
     "output_type": "stream",
     "text": [
      "Validation successful!\n"
     ]
    }
   ],
   "source": [
    "lr.done()"
   ]
  },
  {
   "cell_type": "code",
   "execution_count": 10,
   "metadata": {},
   "outputs": [],
   "source": [
    "await lh.stop()"
   ]
  },
  {
   "cell_type": "markdown",
   "metadata": {},
   "source": [
    "## Example: wrong log"
   ]
  },
  {
   "cell_type": "code",
   "execution_count": 11,
   "metadata": {},
   "outputs": [],
   "source": [
    "# reset the log validator\n",
    "lr.reset()"
   ]
  },
  {
   "cell_type": "markdown",
   "metadata": {},
   "source": [
    "Start with clean instances to prevent caching issues. (This is just for the sake of demonstration.)"
   ]
  },
  {
   "cell_type": "code",
   "execution_count": 12,
   "metadata": {},
   "outputs": [],
   "source": [
    "backend = STAR()\n",
    "lh = LiquidHandler(backend=backend, deck=STARLetDeck())\n",
    "\n",
    "lr = pylabrobot.validate(\"./my_logs/pylabrobot-20250204.log\")\n",
    "\n",
    "await lh.setup()\n",
    "\n",
    "tip_car = TIP_CAR_480_A00(name=\"tip_car\")\n",
    "tip_car[0] = tr = HT(name=\"ht\")\n",
    "lh.deck.assign_child_resource(tip_car, rails=1)"
   ]
  },
  {
   "cell_type": "markdown",
   "metadata": {},
   "source": [
    "When the generated command differs from the log file, a ValidationError will be raised."
   ]
  },
  {
   "cell_type": "code",
   "execution_count": 13,
   "metadata": {},
   "outputs": [
    {
     "name": "stdout",
     "output_type": "stream",
     "text": [
      "expected: C0TPid0011xp01179 01179 01179 01179 01179 01179 01179 01179yp1458 1368 1278 1188 1098 1008 0918 0828tm1 1 1 1 1 1 1 1tt01tp2266tz2166th2450td0\n",
      "actual:   C0TPid0011xp01269 01269 01269 01269 01269 01269 01269 01269yp1458 1368 1278 1188 1098 1008 0918 0828tm1 1 1 1 1 1 1 1tt01tp2266tz2166th2450td0\n",
      "                        ^^    ^^    ^^    ^^    ^^    ^^    ^^    ^^                                                                                    \n"
     ]
    },
    {
     "ename": "ValidationError",
     "evalue": "Data mismatch: difference was written to stdout.",
     "output_type": "error",
     "traceback": [
      "\u001b[0;31m---------------------------------------------------------------------------\u001b[0m",
      "\u001b[0;31mValidationError\u001b[0m                           Traceback (most recent call last)",
      "Cell \u001b[0;32mIn[13], line 1\u001b[0m\n\u001b[0;32m----> 1\u001b[0m \u001b[38;5;28;01mawait\u001b[39;00m lh\u001b[38;5;241m.\u001b[39mpick_up_tips(tr[\u001b[38;5;124m\"\u001b[39m\u001b[38;5;124mA2:H2\u001b[39m\u001b[38;5;124m\"\u001b[39m])  \u001b[38;5;66;03m# column 2 instead of 1\u001b[39;00m\n",
      "File \u001b[0;32m~/retro/pylabrobot/pylabrobot/machines/machine.py:35\u001b[0m, in \u001b[0;36mneed_setup_finished.<locals>.wrapper\u001b[0;34m(*args, **kwargs)\u001b[0m\n\u001b[1;32m     33\u001b[0m \u001b[38;5;28;01mif\u001b[39;00m \u001b[38;5;129;01mnot\u001b[39;00m \u001b[38;5;28mself\u001b[39m\u001b[38;5;241m.\u001b[39msetup_finished:\n\u001b[1;32m     34\u001b[0m   \u001b[38;5;28;01mraise\u001b[39;00m \u001b[38;5;167;01mRuntimeError\u001b[39;00m(\u001b[38;5;124m\"\u001b[39m\u001b[38;5;124mThe setup has not finished. See `setup`.\u001b[39m\u001b[38;5;124m\"\u001b[39m)\n\u001b[0;32m---> 35\u001b[0m \u001b[38;5;28;01mreturn\u001b[39;00m \u001b[38;5;28;01mawait\u001b[39;00m func(\u001b[38;5;241m*\u001b[39margs, \u001b[38;5;241m*\u001b[39m\u001b[38;5;241m*\u001b[39mkwargs)\n",
      "File \u001b[0;32m~/retro/pylabrobot/pylabrobot/liquid_handling/liquid_handler.py:467\u001b[0m, in \u001b[0;36mLiquidHandler.pick_up_tips\u001b[0;34m(self, tip_spots, use_channels, offsets, **backend_kwargs)\u001b[0m\n\u001b[1;32m    464\u001b[0m   (\u001b[38;5;28mself\u001b[39m\u001b[38;5;241m.\u001b[39mhead[channel]\u001b[38;5;241m.\u001b[39mcommit \u001b[38;5;28;01mif\u001b[39;00m success \u001b[38;5;28;01melse\u001b[39;00m \u001b[38;5;28mself\u001b[39m\u001b[38;5;241m.\u001b[39mhead[channel]\u001b[38;5;241m.\u001b[39mrollback)()\n\u001b[1;32m    466\u001b[0m \u001b[38;5;66;03m# trigger callback\u001b[39;00m\n\u001b[0;32m--> 467\u001b[0m \u001b[38;5;28;43mself\u001b[39;49m\u001b[38;5;241;43m.\u001b[39;49m\u001b[43m_trigger_callback\u001b[49m\u001b[43m(\u001b[49m\n\u001b[1;32m    468\u001b[0m \u001b[43m  \u001b[49m\u001b[38;5;124;43m\"\u001b[39;49m\u001b[38;5;124;43mpick_up_tips\u001b[39;49m\u001b[38;5;124;43m\"\u001b[39;49m\u001b[43m,\u001b[49m\n\u001b[1;32m    469\u001b[0m \u001b[43m  \u001b[49m\u001b[43mliquid_handler\u001b[49m\u001b[38;5;241;43m=\u001b[39;49m\u001b[38;5;28;43mself\u001b[39;49m\u001b[43m,\u001b[49m\n\u001b[1;32m    470\u001b[0m \u001b[43m  \u001b[49m\u001b[43moperations\u001b[49m\u001b[38;5;241;43m=\u001b[39;49m\u001b[43mpickups\u001b[49m\u001b[43m,\u001b[49m\n\u001b[1;32m    471\u001b[0m \u001b[43m  \u001b[49m\u001b[43muse_channels\u001b[49m\u001b[38;5;241;43m=\u001b[39;49m\u001b[43muse_channels\u001b[49m\u001b[43m,\u001b[49m\n\u001b[1;32m    472\u001b[0m \u001b[43m  \u001b[49m\u001b[43merror\u001b[49m\u001b[38;5;241;43m=\u001b[39;49m\u001b[43merror\u001b[49m\u001b[43m,\u001b[49m\n\u001b[1;32m    473\u001b[0m \u001b[43m  \u001b[49m\u001b[38;5;241;43m*\u001b[39;49m\u001b[38;5;241;43m*\u001b[39;49m\u001b[43mbackend_kwargs\u001b[49m\u001b[43m,\u001b[49m\n\u001b[1;32m    474\u001b[0m \u001b[43m\u001b[49m\u001b[43m)\u001b[49m\n",
      "File \u001b[0;32m~/retro/pylabrobot/pylabrobot/liquid_handling/liquid_handler.py:2200\u001b[0m, in \u001b[0;36mLiquidHandler._trigger_callback\u001b[0;34m(self, method_name, error, *args, **kwargs)\u001b[0m\n\u001b[1;32m   2198\u001b[0m   callback(\u001b[38;5;28mself\u001b[39m, \u001b[38;5;241m*\u001b[39margs, error\u001b[38;5;241m=\u001b[39merror, \u001b[38;5;241m*\u001b[39m\u001b[38;5;241m*\u001b[39mkwargs)\n\u001b[1;32m   2199\u001b[0m \u001b[38;5;28;01melif\u001b[39;00m error \u001b[38;5;129;01mis\u001b[39;00m \u001b[38;5;129;01mnot\u001b[39;00m \u001b[38;5;28;01mNone\u001b[39;00m:\n\u001b[0;32m-> 2200\u001b[0m   \u001b[38;5;28;01mraise\u001b[39;00m error\n",
      "File \u001b[0;32m~/retro/pylabrobot/pylabrobot/liquid_handling/liquid_handler.py:451\u001b[0m, in \u001b[0;36mLiquidHandler.pick_up_tips\u001b[0;34m(self, tip_spots, use_channels, offsets, **backend_kwargs)\u001b[0m\n\u001b[1;32m    449\u001b[0m error: Optional[\u001b[38;5;167;01mException\u001b[39;00m] \u001b[38;5;241m=\u001b[39m \u001b[38;5;28;01mNone\u001b[39;00m\n\u001b[1;32m    450\u001b[0m \u001b[38;5;28;01mtry\u001b[39;00m:\n\u001b[0;32m--> 451\u001b[0m   \u001b[38;5;28;01mawait\u001b[39;00m \u001b[38;5;28mself\u001b[39m\u001b[38;5;241m.\u001b[39mbackend\u001b[38;5;241m.\u001b[39mpick_up_tips(ops\u001b[38;5;241m=\u001b[39mpickups, use_channels\u001b[38;5;241m=\u001b[39muse_channels, \u001b[38;5;241m*\u001b[39m\u001b[38;5;241m*\u001b[39mbackend_kwargs)\n\u001b[1;32m    452\u001b[0m \u001b[38;5;28;01mexcept\u001b[39;00m \u001b[38;5;167;01mException\u001b[39;00m \u001b[38;5;28;01mas\u001b[39;00m e:\n\u001b[1;32m    453\u001b[0m   error \u001b[38;5;241m=\u001b[39m e\n",
      "File \u001b[0;32m~/retro/pylabrobot/pylabrobot/liquid_handling/backends/hamilton/STAR.py:1460\u001b[0m, in \u001b[0;36mSTAR.pick_up_tips\u001b[0;34m(self, ops, use_channels, begin_tip_pick_up_process, end_tip_pick_up_process, minimum_traverse_height_at_beginning_of_a_command, pickup_method)\u001b[0m\n\u001b[1;32m   1457\u001b[0m pickup_method \u001b[38;5;241m=\u001b[39m pickup_method \u001b[38;5;129;01mor\u001b[39;00m tip\u001b[38;5;241m.\u001b[39mpickup_method\n\u001b[1;32m   1459\u001b[0m \u001b[38;5;28;01mtry\u001b[39;00m:\n\u001b[0;32m-> 1460\u001b[0m   \u001b[38;5;28;01mreturn\u001b[39;00m \u001b[38;5;28;01mawait\u001b[39;00m \u001b[38;5;28mself\u001b[39m\u001b[38;5;241m.\u001b[39mpick_up_tip(\n\u001b[1;32m   1461\u001b[0m     x_positions\u001b[38;5;241m=\u001b[39mx_positions,\n\u001b[1;32m   1462\u001b[0m     y_positions\u001b[38;5;241m=\u001b[39my_positions,\n\u001b[1;32m   1463\u001b[0m     tip_pattern\u001b[38;5;241m=\u001b[39mchannels_involved,\n\u001b[1;32m   1464\u001b[0m     tip_type_idx\u001b[38;5;241m=\u001b[39mttti,\n\u001b[1;32m   1465\u001b[0m     begin_tip_pick_up_process\u001b[38;5;241m=\u001b[39mbegin_tip_pick_up_process,\n\u001b[1;32m   1466\u001b[0m     end_tip_pick_up_process\u001b[38;5;241m=\u001b[39mend_tip_pick_up_process,\n\u001b[1;32m   1467\u001b[0m     minimum_traverse_height_at_beginning_of_a_command\u001b[38;5;241m=\u001b[39mminimum_traverse_height_at_beginning_of_a_command,\n\u001b[1;32m   1468\u001b[0m     pickup_method\u001b[38;5;241m=\u001b[39mpickup_method,\n\u001b[1;32m   1469\u001b[0m   )\n\u001b[1;32m   1470\u001b[0m \u001b[38;5;28;01mexcept\u001b[39;00m STARFirmwareError \u001b[38;5;28;01mas\u001b[39;00m e:\n\u001b[1;32m   1471\u001b[0m   \u001b[38;5;28;01mif\u001b[39;00m plr_e \u001b[38;5;241m:=\u001b[39m convert_star_firmware_error_to_plr_error(e):\n",
      "File \u001b[0;32m~/retro/pylabrobot/pylabrobot/liquid_handling/backends/hamilton/STAR.py:98\u001b[0m, in \u001b[0;36mneed_iswap_parked.<locals>.wrapper\u001b[0;34m(self, *args, **kwargs)\u001b[0m\n\u001b[1;32m     93\u001b[0m \u001b[38;5;28;01mif\u001b[39;00m \u001b[38;5;28mself\u001b[39m\u001b[38;5;241m.\u001b[39miswap_installed \u001b[38;5;129;01mand\u001b[39;00m \u001b[38;5;129;01mnot\u001b[39;00m \u001b[38;5;28mself\u001b[39m\u001b[38;5;241m.\u001b[39miswap_parked:\n\u001b[1;32m     94\u001b[0m   \u001b[38;5;28;01mawait\u001b[39;00m \u001b[38;5;28mself\u001b[39m\u001b[38;5;241m.\u001b[39mpark_iswap(\n\u001b[1;32m     95\u001b[0m     minimum_traverse_height_at_beginning_of_a_command\u001b[38;5;241m=\u001b[39m\u001b[38;5;28mint\u001b[39m(\u001b[38;5;28mself\u001b[39m\u001b[38;5;241m.\u001b[39m_traversal_height \u001b[38;5;241m*\u001b[39m \u001b[38;5;241m10\u001b[39m)\n\u001b[1;32m     96\u001b[0m   )\n\u001b[0;32m---> 98\u001b[0m result \u001b[38;5;241m=\u001b[39m \u001b[38;5;28;01mawait\u001b[39;00m method(\u001b[38;5;28mself\u001b[39m, \u001b[38;5;241m*\u001b[39margs, \u001b[38;5;241m*\u001b[39m\u001b[38;5;241m*\u001b[39mkwargs)\n\u001b[1;32m    100\u001b[0m \u001b[38;5;28;01mreturn\u001b[39;00m result\n",
      "File \u001b[0;32m~/retro/pylabrobot/pylabrobot/liquid_handling/backends/hamilton/STAR.py:4034\u001b[0m, in \u001b[0;36mSTAR.pick_up_tip\u001b[0;34m(self, x_positions, y_positions, tip_pattern, tip_type_idx, begin_tip_pick_up_process, end_tip_pick_up_process, minimum_traverse_height_at_beginning_of_a_command, pickup_method)\u001b[0m\n\u001b[1;32m   4027\u001b[0m \u001b[38;5;28;01massert\u001b[39;00m (\n\u001b[1;32m   4028\u001b[0m   \u001b[38;5;241m0\u001b[39m \u001b[38;5;241m<\u001b[39m\u001b[38;5;241m=\u001b[39m end_tip_pick_up_process \u001b[38;5;241m<\u001b[39m\u001b[38;5;241m=\u001b[39m \u001b[38;5;241m3600\u001b[39m\n\u001b[1;32m   4029\u001b[0m ), \u001b[38;5;124m\"\u001b[39m\u001b[38;5;124mend_tip_pick_up_process must be between 0 and 3600\u001b[39m\u001b[38;5;124m\"\u001b[39m\n\u001b[1;32m   4030\u001b[0m \u001b[38;5;28;01massert\u001b[39;00m (\n\u001b[1;32m   4031\u001b[0m   \u001b[38;5;241m0\u001b[39m \u001b[38;5;241m<\u001b[39m\u001b[38;5;241m=\u001b[39m minimum_traverse_height_at_beginning_of_a_command \u001b[38;5;241m<\u001b[39m\u001b[38;5;241m=\u001b[39m \u001b[38;5;241m3600\u001b[39m\n\u001b[1;32m   4032\u001b[0m ), \u001b[38;5;124m\"\u001b[39m\u001b[38;5;124mminimum_traverse_height_at_beginning_of_a_command must be between 0 and 3600\u001b[39m\u001b[38;5;124m\"\u001b[39m\n\u001b[0;32m-> 4034\u001b[0m \u001b[38;5;28;01mreturn\u001b[39;00m \u001b[38;5;28;01mawait\u001b[39;00m \u001b[38;5;28mself\u001b[39m\u001b[38;5;241m.\u001b[39msend_command(\n\u001b[1;32m   4035\u001b[0m   module\u001b[38;5;241m=\u001b[39m\u001b[38;5;124m\"\u001b[39m\u001b[38;5;124mC0\u001b[39m\u001b[38;5;124m\"\u001b[39m,\n\u001b[1;32m   4036\u001b[0m   command\u001b[38;5;241m=\u001b[39m\u001b[38;5;124m\"\u001b[39m\u001b[38;5;124mTP\u001b[39m\u001b[38;5;124m\"\u001b[39m,\n\u001b[1;32m   4037\u001b[0m   tip_pattern\u001b[38;5;241m=\u001b[39mtip_pattern,\n\u001b[1;32m   4038\u001b[0m   read_timeout\u001b[38;5;241m=\u001b[39m\u001b[38;5;241m60\u001b[39m,\n\u001b[1;32m   4039\u001b[0m   xp\u001b[38;5;241m=\u001b[39m[\u001b[38;5;124mf\u001b[39m\u001b[38;5;124m\"\u001b[39m\u001b[38;5;132;01m{\u001b[39;00mx\u001b[38;5;132;01m:\u001b[39;00m\u001b[38;5;124m05\u001b[39m\u001b[38;5;132;01m}\u001b[39;00m\u001b[38;5;124m\"\u001b[39m \u001b[38;5;28;01mfor\u001b[39;00m x \u001b[38;5;129;01min\u001b[39;00m x_positions],\n\u001b[1;32m   4040\u001b[0m   yp\u001b[38;5;241m=\u001b[39m[\u001b[38;5;124mf\u001b[39m\u001b[38;5;124m\"\u001b[39m\u001b[38;5;132;01m{\u001b[39;00my\u001b[38;5;132;01m:\u001b[39;00m\u001b[38;5;124m04\u001b[39m\u001b[38;5;132;01m}\u001b[39;00m\u001b[38;5;124m\"\u001b[39m \u001b[38;5;28;01mfor\u001b[39;00m y \u001b[38;5;129;01min\u001b[39;00m y_positions],\n\u001b[1;32m   4041\u001b[0m   tm\u001b[38;5;241m=\u001b[39mtip_pattern,\n\u001b[1;32m   4042\u001b[0m   tt\u001b[38;5;241m=\u001b[39m\u001b[38;5;124mf\u001b[39m\u001b[38;5;124m\"\u001b[39m\u001b[38;5;132;01m{\u001b[39;00mtip_type_idx\u001b[38;5;132;01m:\u001b[39;00m\u001b[38;5;124m02\u001b[39m\u001b[38;5;132;01m}\u001b[39;00m\u001b[38;5;124m\"\u001b[39m,\n\u001b[1;32m   4043\u001b[0m   tp\u001b[38;5;241m=\u001b[39m\u001b[38;5;124mf\u001b[39m\u001b[38;5;124m\"\u001b[39m\u001b[38;5;132;01m{\u001b[39;00mbegin_tip_pick_up_process\u001b[38;5;132;01m:\u001b[39;00m\u001b[38;5;124m04\u001b[39m\u001b[38;5;132;01m}\u001b[39;00m\u001b[38;5;124m\"\u001b[39m,\n\u001b[1;32m   4044\u001b[0m   tz\u001b[38;5;241m=\u001b[39m\u001b[38;5;124mf\u001b[39m\u001b[38;5;124m\"\u001b[39m\u001b[38;5;132;01m{\u001b[39;00mend_tip_pick_up_process\u001b[38;5;132;01m:\u001b[39;00m\u001b[38;5;124m04\u001b[39m\u001b[38;5;132;01m}\u001b[39;00m\u001b[38;5;124m\"\u001b[39m,\n\u001b[1;32m   4045\u001b[0m   th\u001b[38;5;241m=\u001b[39m\u001b[38;5;124mf\u001b[39m\u001b[38;5;124m\"\u001b[39m\u001b[38;5;132;01m{\u001b[39;00mminimum_traverse_height_at_beginning_of_a_command\u001b[38;5;132;01m:\u001b[39;00m\u001b[38;5;124m04\u001b[39m\u001b[38;5;132;01m}\u001b[39;00m\u001b[38;5;124m\"\u001b[39m,\n\u001b[1;32m   4046\u001b[0m   td\u001b[38;5;241m=\u001b[39mpickup_method\u001b[38;5;241m.\u001b[39mvalue,\n\u001b[1;32m   4047\u001b[0m )\n",
      "File \u001b[0;32m~/retro/pylabrobot/pylabrobot/liquid_handling/backends/hamilton/base.py:248\u001b[0m, in \u001b[0;36mHamiltonLiquidHandler.send_command\u001b[0;34m(self, module, command, auto_id, tip_pattern, write_timeout, read_timeout, wait, fmt, **kwargs)\u001b[0m\n\u001b[1;32m    223\u001b[0m \u001b[38;5;250m\u001b[39m\u001b[38;5;124;03m\"\"\"Send a firmware command to the Hamilton machine.\u001b[39;00m\n\u001b[1;32m    224\u001b[0m \n\u001b[1;32m    225\u001b[0m \u001b[38;5;124;03mArgs:\u001b[39;00m\n\u001b[0;32m   (...)\u001b[0m\n\u001b[1;32m    238\u001b[0m \u001b[38;5;124;03m  A dictionary containing the parsed response, or None if no response was read within `timeout`.\u001b[39;00m\n\u001b[1;32m    239\u001b[0m \u001b[38;5;124;03m\"\"\"\u001b[39;00m\n\u001b[1;32m    241\u001b[0m cmd, id_ \u001b[38;5;241m=\u001b[39m \u001b[38;5;28mself\u001b[39m\u001b[38;5;241m.\u001b[39m_assemble_command(\n\u001b[1;32m    242\u001b[0m   module\u001b[38;5;241m=\u001b[39mmodule,\n\u001b[1;32m    243\u001b[0m   command\u001b[38;5;241m=\u001b[39mcommand,\n\u001b[0;32m   (...)\u001b[0m\n\u001b[1;32m    246\u001b[0m   \u001b[38;5;241m*\u001b[39m\u001b[38;5;241m*\u001b[39mkwargs,\n\u001b[1;32m    247\u001b[0m )\n\u001b[0;32m--> 248\u001b[0m resp \u001b[38;5;241m=\u001b[39m \u001b[38;5;28;01mawait\u001b[39;00m \u001b[38;5;28mself\u001b[39m\u001b[38;5;241m.\u001b[39m_write_and_read_command(\n\u001b[1;32m    249\u001b[0m   id_\u001b[38;5;241m=\u001b[39mid_,\n\u001b[1;32m    250\u001b[0m   cmd\u001b[38;5;241m=\u001b[39mcmd,\n\u001b[1;32m    251\u001b[0m   write_timeout\u001b[38;5;241m=\u001b[39mwrite_timeout,\n\u001b[1;32m    252\u001b[0m   read_timeout\u001b[38;5;241m=\u001b[39mread_timeout,\n\u001b[1;32m    253\u001b[0m   wait\u001b[38;5;241m=\u001b[39mwait,\n\u001b[1;32m    254\u001b[0m )\n\u001b[1;32m    255\u001b[0m \u001b[38;5;28;01mif\u001b[39;00m resp \u001b[38;5;129;01mis\u001b[39;00m \u001b[38;5;129;01mnot\u001b[39;00m \u001b[38;5;28;01mNone\u001b[39;00m \u001b[38;5;129;01mand\u001b[39;00m fmt \u001b[38;5;129;01mis\u001b[39;00m \u001b[38;5;129;01mnot\u001b[39;00m \u001b[38;5;28;01mNone\u001b[39;00m:\n\u001b[1;32m    256\u001b[0m   \u001b[38;5;28;01mreturn\u001b[39;00m \u001b[38;5;28mself\u001b[39m\u001b[38;5;241m.\u001b[39m_parse_response(resp, fmt)\n",
      "File \u001b[0;32m~/retro/pylabrobot/pylabrobot/liquid_handling/backends/hamilton/base.py:268\u001b[0m, in \u001b[0;36mHamiltonLiquidHandler._write_and_read_command\u001b[0;34m(self, id_, cmd, write_timeout, read_timeout, wait)\u001b[0m\n\u001b[1;32m    259\u001b[0m \u001b[38;5;28;01masync\u001b[39;00m \u001b[38;5;28;01mdef\u001b[39;00m \u001b[38;5;21m_write_and_read_command\u001b[39m(\n\u001b[1;32m    260\u001b[0m   \u001b[38;5;28mself\u001b[39m,\n\u001b[1;32m    261\u001b[0m   id_: Optional[\u001b[38;5;28mint\u001b[39m],\n\u001b[0;32m   (...)\u001b[0m\n\u001b[1;32m    265\u001b[0m   wait: \u001b[38;5;28mbool\u001b[39m \u001b[38;5;241m=\u001b[39m \u001b[38;5;28;01mTrue\u001b[39;00m,\n\u001b[1;32m    266\u001b[0m ) \u001b[38;5;241m-\u001b[39m\u001b[38;5;241m>\u001b[39m Optional[\u001b[38;5;28mstr\u001b[39m]:\n\u001b[1;32m    267\u001b[0m \u001b[38;5;250m  \u001b[39m\u001b[38;5;124;03m\"\"\"Write a command to the Hamilton machine and read the response.\"\"\"\u001b[39;00m\n\u001b[0;32m--> 268\u001b[0m   \u001b[38;5;28;43mself\u001b[39;49m\u001b[38;5;241;43m.\u001b[39;49m\u001b[43mio\u001b[49m\u001b[38;5;241;43m.\u001b[39;49m\u001b[43mwrite\u001b[49m\u001b[43m(\u001b[49m\u001b[43mcmd\u001b[49m\u001b[43m,\u001b[49m\u001b[43m \u001b[49m\u001b[43mtimeout\u001b[49m\u001b[38;5;241;43m=\u001b[39;49m\u001b[43mwrite_timeout\u001b[49m\u001b[43m)\u001b[49m\n\u001b[1;32m    270\u001b[0m   \u001b[38;5;28;01mif\u001b[39;00m \u001b[38;5;129;01mnot\u001b[39;00m wait:\n\u001b[1;32m    271\u001b[0m     \u001b[38;5;28;01mreturn\u001b[39;00m \u001b[38;5;28;01mNone\u001b[39;00m\n",
      "File \u001b[0;32m~/retro/pylabrobot/pylabrobot/io/usb.py:308\u001b[0m, in \u001b[0;36mUSBValidator.write\u001b[0;34m(self, data, timeout)\u001b[0m\n\u001b[1;32m    306\u001b[0m \u001b[38;5;28;01mif\u001b[39;00m \u001b[38;5;129;01mnot\u001b[39;00m log_data \u001b[38;5;241m==\u001b[39m data:\n\u001b[1;32m    307\u001b[0m   align_sequences(expected\u001b[38;5;241m=\u001b[39mlog_data, actual\u001b[38;5;241m=\u001b[39mdata)\n\u001b[0;32m--> 308\u001b[0m   \u001b[38;5;28;01mraise\u001b[39;00m ValidationError(\u001b[38;5;124mf\u001b[39m\u001b[38;5;124m\"\u001b[39m\u001b[38;5;124mData mismatch: difference was written to stdout.\u001b[39m\u001b[38;5;124m\"\u001b[39m)\n",
      "\u001b[0;31mValidationError\u001b[0m: Data mismatch: difference was written to stdout."
     ]
    }
   ],
   "source": [
    "await lh.pick_up_tips(tr[\"A2:H2\"])  # column 2 instead of 1"
   ]
  }
 ],
 "metadata": {
  "kernelspec": {
   "display_name": "env",
   "language": "python",
   "name": "python3"
  },
  "language_info": {
   "codemirror_mode": {
    "name": "ipython",
    "version": 3
   },
   "file_extension": ".py",
   "mimetype": "text/x-python",
   "name": "python",
   "nbconvert_exporter": "python",
   "pygments_lexer": "ipython3",
   "version": "3.9.19"
  }
 },
 "nbformat": 4,
 "nbformat_minor": 2
}
