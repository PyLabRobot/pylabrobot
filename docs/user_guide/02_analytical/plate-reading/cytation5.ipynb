    "res = await pr.capture(\n",
    "plt.imshow(res.images[0], cmap=\"gray\", vmin=0, vmax=255)"
    "res = await pr.capture(\n",
    "plt.imshow(res.images[0], cmap=\"gray\", vmin=0, vmax=255)"
    "res = await pr.capture(\n",
    "`.capture` returns an `ImagingResult`. Each `Image` is a `List[List[float]]` with values between 0 and 255. You can export these images to a file in many ways. Here's one example of exporting to a 16-bit tiff:"
    "array = np.array(res.images[0], dtype=np.float32)\n",
    "res = await pr.capture(\n",
    "len(res.images)"
      "2089.59 ms \u00b1 15.72 ms\n",
    "print(f\"{np.mean(l):.2f} ms \u00b1 {np.std(l):.2f} ms\")\n",
}