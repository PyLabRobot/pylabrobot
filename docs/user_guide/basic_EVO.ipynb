{
 "cells": [
  {
   "cell_type": "markdown",
   "metadata": {},
   "source": [
    "# Getting started with liquid handling on a Hamilton STAR(let)\n",
    "\n",
    "In this notebook, you will learn how to use PyLabRobot to move water from one range of wells to another.\n",
    "\n",
    "**Note: before running this notebook, you should have**:\n",
    "\n",
    "- Installed PyLabRobot and the USB driver as described in [the installation guide](/user_guide/installation).\n",
    "- Connected the Hamilton to your computer using the USB cable.\n",
    "\n",
    "Video of what this code does:\n"
   ]
  },
  {
   "cell_type": "markdown",
   "metadata": {},
   "source": [
    "## Setting up a connection with the robot\n",
    "\n",
    "Start by importing the {class}`~pylabrobot.liquid_handling.liquid_handler.LiquidHandler` class, which will serve as a front end for all liquid handling operations.\n",
    "\n",
    "Backends serve as communicators between `LiquidHandler`s and the actual hardware. Since we are using a Hamilton STAR, we also import the {class}`~pylabrobot.liquid_handling.backends.STAR` backend."
   ]
  },
  {
   "cell_type": "code",
   "execution_count": 1,
   "metadata": {},
   "outputs": [],
   "source": [
    "%load_ext autoreload\n",
    "%autoreload 2"
   ]
  },
  {
   "cell_type": "code",
   "execution_count": null,
   "metadata": {},
   "outputs": [],
   "source": []
  },
  {
   "cell_type": "code",
   "execution_count": 2,
   "metadata": {},
   "outputs": [],
   "source": [
    "from pylabrobot.liquid_handling import LiquidHandler\n",
    "from pylabrobot.liquid_handling.backends import EVO"
   ]
  },
  {
   "cell_type": "markdown",
   "metadata": {},
   "source": [
    "In addition, import the {class}`~pylabrobot.resources.hamilton.STARLetDeck`, which represents the deck of the Hamilton STAR."
   ]
  },
  {
   "cell_type": "code",
   "execution_count": 3,
   "metadata": {},
   "outputs": [],
   "source": [
    "from pylabrobot.resources.tecan import EVO200Deck"
   ]
  },
  {
   "cell_type": "markdown",
   "metadata": {},
   "source": [
    "Create a new liquid handler using `STAR` as its backend."
   ]
  },
  {
   "cell_type": "code",
   "execution_count": 4,
   "metadata": {},
   "outputs": [],
   "source": [
    "backend = EVO()\n",
    "lh = LiquidHandler(backend=backend, deck=EVO200Deck())\n",
    "\n",
    "\n",
    "# backend.num_channels\n",
    "# backend.diti_count = 96 # need to add the number of tips to the backend. TODO should be done automactically"
   ]
  },
  {
   "cell_type": "markdown",
   "metadata": {},
   "source": [
    "The final step is to open communication with the robot. This is done using the {func}`~pylabrobot.liquid_handling.LiquidHandler.setup` method."
   ]
  },
  {
   "cell_type": "code",
   "execution_count": 5,
   "metadata": {
    "scrolled": false
   },
   "outputs": [
    {
     "name": "stdout",
     "output_type": "stream",
     "text": [
      "Raw Response: bytearray(b'\\x02C5\\x80\\x00')\n",
      "Raw Response: bytearray(b'\\x02C5\\x80\\x00')\n",
      "Raw Response: bytearray(b'\\x02W1\\x80\\x00')\n",
      "{'module': 'W1', 'data': []}\n",
      "Raw Response: bytearray(b'\\x02W1\\x80\\x00')\n",
      "Raw Response: bytearray(b'\\x02C1\\x80\\x00')\n",
      "Raw Response: bytearray(b'\\x02C1\\x80\\x00')\n",
      "Raw Response: bytearray(b'\\x02C1\\x80\\x00')\n",
      "RoMa connected!\n",
      "Raw Response: bytearray(b'\\x02C1\\x803588\\x00')\n",
      "cur_x RoMa() 3588 <class 'int'>\n",
      "x RoMa() 9000 <class 'int'>\n",
      "pos RoMa() 3588 <class 'int'>\n",
      "Raw Response: bytearray(b'\\x02C1\\x80\\x00')\n",
      "Raw Response: bytearray(b'\\x02C1\\x80\\x00')\n",
      "Raw Response: bytearray(b'\\x02C1\\x809000\\x00')\n",
      "MCA connected!\n",
      "Raw Response: bytearray(b'\\x02W1\\x80\\x00')\n",
      "Raw Response: bytearray(b'\\x02W1\\x80\\x00')\n",
      "Raw Response: bytearray(b'\\x02W1\\x80\\x00')\n",
      "Raw Response: bytearray(b'\\x02W1\\x80\\x00')\n",
      "MCA parked safely.\n",
      "Raw Response: bytearray(b'\\x02C5\\x80\\x00')\n",
      "LiHa connected!\n",
      "Raw Response: bytearray(b'\\x02C5\\x808\\x00')\n",
      "Raw Response: bytearray(b'\\x02C5\\x8013559\\x00')\n",
      "Raw Response: bytearray(b'\\x02C5\\x802825,2825\\x00')\n",
      "Raw Response: bytearray(b'\\x02C5\\x802100,2100,2100,2100,2100,2100,2100,2100\\x00')\n",
      "Raw Response: bytearray(b'\\x02C5\\x80\\x00')\n",
      "Raw Response: bytearray(b'\\x02C5\\x80\\x00')\n",
      "Raw Response: bytearray(b'\\x02C5\\x80-147\\x00')\n",
      "cur_x LiHa() -147 <class 'int'>\n",
      "x LiHa() 45 <class 'int'>\n",
      "pos LiHa() 9000 <class 'int'>\n",
      "Raw Response: bytearray(b'\\x02C5\\x80\\x00')\n",
      "Raw Response: bytearray(b'\\x02C5\\x80\\x00')\n",
      "Raw Response: bytearray(b'\\x02C5\\x80\\x00')\n",
      "Raw Response: bytearray(b'\\x02C5\\x80\\x00')\n",
      "Raw Response: bytearray(b'\\x02C5\\x80\\x00')\n",
      "Raw Response: bytearray(b'\\x02C5\\x80\\x00')\n",
      "Raw Response: bytearray(b'\\x02C5\\x80\\x00')\n",
      "Raw Response: bytearray(b'\\x02C5\\x80\\x00')\n",
      "Raw Response: bytearray(b'\\x02C5\\x80-147\\x00')\n",
      "cur_x LiHa() 45 <class 'int'>\n",
      "x LiHa() 45 <class 'int'>\n",
      "pos LiHa() 9000 <class 'int'>\n",
      "Raw Response: bytearray(b'\\x02C5\\x80\\x00')\n"
     ]
    }
   ],
   "source": [
    "\n",
    "\n",
    "await lh.setup()\n",
    "\n"
   ]
  },
  {
   "cell_type": "code",
   "execution_count": 6,
   "metadata": {},
   "outputs": [],
   "source": [
    "diti_cones = True\n",
    "## if on LiHa you are using DITI cones then set\n",
    "if diti_cones:\n",
    "    diti_count = 8\n",
    "    lh.diti_count = diti_count\n",
    "else:\n",
    "  ## If usinng fixed tips then set\n",
    "  from pylabrobot.resources.tecan.tip_creators import standard_fixed_tip\n",
    "  for i in range(lh.backend.num_channels):\n",
    "    lh.head[i]._tip = standard_fixed_tip()"
   ]
  },
  {
   "cell_type": "code",
   "execution_count": 7,
   "metadata": {},
   "outputs": [
    {
     "data": {
      "text/plain": [
       "True"
      ]
     },
     "execution_count": 7,
     "metadata": {},
     "output_type": "execute_result"
    }
   ],
   "source": [
    "backend.roma_connected"
   ]
  },
  {
   "cell_type": "code",
   "execution_count": 8,
   "metadata": {},
   "outputs": [
    {
     "data": {
      "text/plain": [
       "True"
      ]
     },
     "execution_count": 8,
     "metadata": {},
     "output_type": "execute_result"
    }
   ],
   "source": [
    "backend.liha_connected"
   ]
  },
  {
   "cell_type": "code",
   "execution_count": 9,
   "metadata": {},
   "outputs": [
    {
     "data": {
      "text/plain": [
       "True"
      ]
     },
     "execution_count": 9,
     "metadata": {},
     "output_type": "execute_result"
    }
   ],
   "source": [
    "backend.mca_connected # not acting. some error in EVO.py try to run in debug mode and see where the ROMA and LiHa activate\n",
    "## WHY DOES IT NOT ENTER INTO THE LOOP"
   ]
  },
  {
   "cell_type": "markdown",
   "metadata": {},
   "source": [
    "## Creating the deck layout\n",
    "\n",
    "Now that we have a `LiquidHandler` instance, we can define the deck layout.\n",
    "\n",
    "The layout in this tutorial will contain five sets of standard volume tips with filter, 1 set of 96 1mL wells, and tip and plate carriers on which these resources are positioned.\n",
    "\n",
    "Start by importing the relevant objects and variables from the PyLabRobot package. This notebook uses the following resources:\n",
    "\n",
    "- {class}`~pylabrobot.resources.hamilton.tip_carriers.TIP_CAR_480_A00` tip carrier\n",
    "- {class}`~pylabrobot.resources.hamilton.plate_carriers.PLT_CAR_L5AC_A00` plate carrier\n",
    "- {class}`~pylabrobot.resources.corning_costar.plates.Cor_96_wellplate_360ul_Fb` wells\n",
    "- {class}`~pylabrobot.resources.hamilton.tip_racks.HTF` tips"
   ]
  },
  {
   "cell_type": "code",
   "execution_count": 10,
   "metadata": {},
   "outputs": [],
   "source": [
    "from pylabrobot.resources import (\n",
    "  MP_3Pos,\n",
    "  MP_4Pos_flat,\n",
    "  Washstation_2Grid_Trough_DiTi, # selected based on partnumer 10650037 from page 194 https://www.tecan.com/hubfs/402249_en_V1_0%20OM%20Freedom%20EVOlyzer-3%20for%20GP%20Use-1.pdf\n",
    "\n",
    "  # added labware/tipracks(aka tipboxes)\n",
    "  DiTi_1000ul_SBS_LiHa, # for testing maybe similar to specs of flat carrie. page 187\n",
    "  DiTi_1000ul_LiHa, # test how that works\n",
    "  DiTi_1000ul_Filter_LiHa, # test how that works\n",
    "  DiTi_50ul_MCA384,\n",
    "  DiTi_500ul_SBS_MCA96,\n",
    "  DiTi_200ul_SBS_LiHa, # free haning tips\n",
    "\n",
    "  Microplate_96_Well,\n",
    "\n",
    "  # added tip_carrier\n",
    "  DiTi_SBS_4_Pos_MCA96,\n",
    "  DiTi_3Pos, # haning tips\n",
    "\n",
    ")"
   ]
  },
  {
   "cell_type": "markdown",
   "metadata": {},
   "source": [
    "Then create a tip carrier named `tip carrier`, which will contain tip rack at all 5 positions. These positions can be accessed using `tip_car[x]`, and are 0 indexed."
   ]
  },
  {
   "cell_type": "code",
   "execution_count": 11,
   "metadata": {},
   "outputs": [],
   "source": [
    "## QUESTION TO ANSWAR:\n",
    "# Can i place diti tip racks on carriers?\n",
    "\n",
    "# Can i run diti tip racks\n",
    "# can i run the MCA head\n",
    "# can i pick up tips using the MCA head?\n",
    "\n",
    "# can i wash in the washstation.\n",
    "# Is it the correct wash station??\n",
    "\n",
    "# Can u use LLD?\n",
    "# can i turn off LLD?\n",
    "\n",
    "# can i flush / wash liquid\n",
    "\n"
   ]
  },
  {
   "cell_type": "code",
   "execution_count": 42,
   "metadata": {},
   "outputs": [],
   "source": [
    "# tip_car = MP_4Pos_flat(name=\"tip carrier\")\n",
    "# tip_car[0] = Microplate_96_Well(name=\"micro_plate_tip_naigbor\")\n",
    "\n",
    "tip_car_hang = DiTi_3Pos(name=\"tip carrier hang\")\n",
    "tip_car_hang[0] = DiTi_200ul_SBS_LiHa(name=\"tiprack_1\") # this gives problems. probably because it has not been tesetd enough\n",
    "tip_car_hang[1] = DiTi_1000ul_Filter_LiHa(name=\"tiprack_2\")"
   ]
  },
  {
   "cell_type": "code",
   "execution_count": null,
   "metadata": {},
   "outputs": [],
   "source": [
    "# tip_car[1] = DiTi_1000ul_SBS_LiHa(name=\"tips_02\")\n",
    "# lh.deck.unassign_child_resource(tip_car_hang)"
   ]
  },
  {
   "cell_type": "markdown",
   "metadata": {},
   "source": [
    "Use {func}`~pylabrobot.resources.abstract.assign_child_resources` to assign the tip carrier to the deck of the liquid handler. All resources contained by this carrier will be assigned automatically.\n",
    "\n",
    "In the `rails` parameter, we can pass the location of the tip carrier. The locations of the tips will automatically be calculated."
   ]
  },
  {
   "cell_type": "code",
   "execution_count": 33,
   "metadata": {},
   "outputs": [],
   "source": [
    "# lh.deck.assign_child_resource(tip_car, rails=46)\n",
    "\n",
    "# lh.deck.assign_child_resource(tip_car_hang, rails=34, reassign=True) # real life position\n",
    "lh.deck.assign_child_resource(tip_car_hang, rails=7, reassign=True) # fake test position"
   ]
  },
  {
   "cell_type": "markdown",
   "metadata": {},
   "source": [
    "# generate plate carrier"
   ]
  },
  {
   "cell_type": "code",
   "execution_count": 15,
   "metadata": {},
   "outputs": [],
   "source": [
    "plt_car = MP_3Pos(name=\"plate carrier\")\n",
    "plt_car[0] = Microplate_96_Well(name=\"plate_01\")\n",
    "lh.deck.assign_child_resource(plt_car, rails=3) # other locations of the same carrier 9, 15, 21"
   ]
  },
  {
   "cell_type": "markdown",
   "metadata": {},
   "source": [
    "Repeat this for the plates."
   ]
  },
  {
   "cell_type": "markdown",
   "metadata": {},
   "source": [
    "Let's look at a summary of the deck layout using {func}`~pylabrobot.liquid_handling.LiquidHandler.summary`."
   ]
  },
  {
   "cell_type": "code",
   "execution_count": 105,
   "metadata": {},
   "outputs": [
    {
     "name": "stdout",
     "output_type": "stream",
     "text": [
      "Rail     Resource                   Type                Coordinates (mm)\n",
      "===============================================================================================\n",
      "(1)  ├── wash_station               TecanWashStation    Coordinate(087.500, -20.300, 000.000)\n",
      "     │   ├── wash_clean_deep        Trash               Coordinate(099.700, 086.400, 000.000)\n",
      "     │   ├── wash_waste             Trash               Coordinate(098.500, 160.400, 000.000)\n",
      "     │   ├── wash_clean_shallow     Trash               Coordinate(099.700, 261.400, 000.000)\n",
      "     │\n",
      "(3)  ├── plate carrier              TecanPlateCarrier   Coordinate(138.000, 053.700, 000.000)\n",
      "     │   ├── plate_01               TecanPlate          Coordinate(160.500, 142.300, 062.500)\n",
      "     │   ├── <empty>\n",
      "     │   ├── <empty>\n",
      "     │\n",
      "(7)  ├── tip carrier hang           TecanTipCarrier     Coordinate(238.000, -04.300, 000.000)\n",
      "     │   ├── tiprack_1              TecanTipRack        Coordinate(265.900, 140.600, -00.500)\n",
      "     │   ├── tiprack_2              TecanTipRack        Coordinate(263.500, 241.900, 037.100)\n",
      "     │   ├── <empty>\n",
      "     │\n",
      "(15) ├── washstation                TecanTipCarrier     Coordinate(437.500, 007.500, 000.000)\n",
      "     │   ├── <empty>\n",
      "     │   ├── <empty>\n",
      "     │   ├── <empty>\n",
      "     │   ├── <empty>\n",
      "     │   ├── <empty>\n",
      "     │   ├── <empty>\n",
      "     │   ├── <empty>\n",
      "     │   ├── <empty>\n",
      "\n"
     ]
    }
   ],
   "source": [
    "lh.summary()"
   ]
  },
  {
   "cell_type": "code",
   "execution_count": 17,
   "metadata": {},
   "outputs": [
    {
     "data": {
      "text/plain": [
       "True"
      ]
     },
     "execution_count": 17,
     "metadata": {},
     "output_type": "execute_result"
    }
   ],
   "source": [
    "# backend.setup_finished = True\n",
    "lh.setup_finished"
   ]
  },
  {
   "cell_type": "code",
   "execution_count": 18,
   "metadata": {},
   "outputs": [
    {
     "data": {
      "text/plain": [
       "{0: TipTracker(Channel 0, is_disabled=False, has_tip=False tip=None, pending_tip=None),\n",
       " 1: TipTracker(Channel 1, is_disabled=False, has_tip=False tip=None, pending_tip=None),\n",
       " 2: TipTracker(Channel 2, is_disabled=False, has_tip=False tip=None, pending_tip=None),\n",
       " 3: TipTracker(Channel 3, is_disabled=False, has_tip=False tip=None, pending_tip=None),\n",
       " 4: TipTracker(Channel 4, is_disabled=False, has_tip=False tip=None, pending_tip=None),\n",
       " 5: TipTracker(Channel 5, is_disabled=False, has_tip=False tip=None, pending_tip=None),\n",
       " 6: TipTracker(Channel 6, is_disabled=False, has_tip=False tip=None, pending_tip=None),\n",
       " 7: TipTracker(Channel 7, is_disabled=False, has_tip=False tip=None, pending_tip=None)}"
      ]
     },
     "execution_count": 18,
     "metadata": {},
     "output_type": "execute_result"
    }
   ],
   "source": [
    "lh.head"
   ]
  },
  {
   "cell_type": "code",
   "execution_count": 66,
   "metadata": {},
   "outputs": [],
   "source": [
    "tiprack = lh.deck.get_resource(\"tiprack_1\")"
   ]
  },
  {
   "cell_type": "code",
   "execution_count": 101,
   "metadata": {},
   "outputs": [],
   "source": [
    "# lh.num_channels\n",
    "# await lh.move_channel_x(channel=1, x=100)"
   ]
  },
  {
   "cell_type": "code",
   "execution_count": null,
   "metadata": {},
   "outputs": [
    {
     "name": "stdout",
     "output_type": "stream",
     "text": [
      "Pickup(resource=[TipSpot(name=tiprack_1_tipspot_0_0, location=Coordinate(010.100, 070.400, -05.000), size_x=9.0, size_y=9.0, size_z=0, category=tip_spot)], offset=Coordinate(x=50, y=50, z=0), tip=TecanTip(has_filter=False, total_tip_length=21.0, maximal_volume=220.0, fitting_depth=0))\n",
      "Raw Response: bytearray(b'\\x02C5\\x80\\x00')\n",
      "Raw Response: bytearray(b'\\x02C5\\x80-147\\x00')\n",
      "Raw Response: bytearray(b'\\x02C5\\x80\\x00')\n",
      "Raw Response: bytearray(b'\\x02C5\\x80\\x00')\n",
      "Raw Response: bytearray(b'\\x02C5\\x80\\x00')\n",
      "Raw Response: bytearray(b'\\x02C5\\x80\\x00')\n"
     ]
    }
   ],
   "source": [
    "from pylabrobot.resources import Coordinate\n",
    "from pylabrobot.liquid_handling.standard import Pickup\n",
    "tiprack = lh.deck.get_resource(\"tiprack_1\")  # Get the tip rack instance\n",
    "tip = tiprack.get_tip(\"A1\")  # Get the tip identificer\n",
    "# Get the TipSpot\n",
    "tip_spot = tiprack[\"A1\"]\n",
    "\n",
    "# Create a Pickup operation with an offset\n",
    "pickup_op = Pickup(\n",
    "    resource=tip_spot,\n",
    "    offset=Coordinate(50, 50, 0),  # Apply the X, Y, Z offset\n",
    "    tip=tip\n",
    ")\n",
    "print(pickup_op)\n",
    "\n",
    "# Run the pickup with the offset\n",
    "await lh.pick_up_tips(tip_spot, ops=pickup_op, offsets=[Coordinate(-15, -15, 0)])\n",
    "# await backend.pick_up_tips([pickup_op], use_channels=[0])\n",
    "\n",
    "# GREAT I CAN NOW PICK UP A TIP!!!"
   ]
  },
  {
   "cell_type": "code",
   "execution_count": null,
   "metadata": {},
   "outputs": [],
   "source": [
    "### NEXT STEP DEFINE A WASTE STATION AND A WASH STATION\n",
    "# THEN TRY TO DISCARD TIP INTO WASTE STATION\n",
    "multi_station = Washstation_2Grid_Trough_DiTi(name=\"washstation\")\n",
    "\n",
    "lh.deck.assign_child_resource(multi_station, rails=15) # Fake position"
   ]
  },
  {
   "cell_type": "code",
   "execution_count": 106,
   "metadata": {},
   "outputs": [
    {
     "ename": "KeyError",
     "evalue": "8",
     "output_type": "error",
     "traceback": [
      "\u001b[1;31m---------------------------------------------------------------------------\u001b[0m",
      "\u001b[1;31mKeyError\u001b[0m                                  Traceback (most recent call last)",
      "Cell \u001b[1;32mIn[106], line 1\u001b[0m\n\u001b[1;32m----> 1\u001b[0m \u001b[38;5;28;01mawait\u001b[39;00m lh\u001b[38;5;241m.\u001b[39mdrop_tips(multi_station)\n",
      "File \u001b[1;32m~\\Documents\\GitHub\\pylabrobot\\pylabrobot\\machines\\machine.py:35\u001b[0m, in \u001b[0;36mneed_setup_finished.<locals>.wrapper\u001b[1;34m(*args, **kwargs)\u001b[0m\n\u001b[0;32m     33\u001b[0m \u001b[38;5;28;01mif\u001b[39;00m \u001b[38;5;129;01mnot\u001b[39;00m \u001b[38;5;28mself\u001b[39m\u001b[38;5;241m.\u001b[39msetup_finished:\n\u001b[0;32m     34\u001b[0m   \u001b[38;5;28;01mraise\u001b[39;00m \u001b[38;5;167;01mRuntimeError\u001b[39;00m(\u001b[38;5;124m\"\u001b[39m\u001b[38;5;124mThe setup has not finished. See `setup`.\u001b[39m\u001b[38;5;124m\"\u001b[39m)\n\u001b[1;32m---> 35\u001b[0m \u001b[38;5;28;01mreturn\u001b[39;00m \u001b[38;5;28;01mawait\u001b[39;00m func(\u001b[38;5;241m*\u001b[39margs, \u001b[38;5;241m*\u001b[39m\u001b[38;5;241m*\u001b[39mkwargs)\n",
      "File \u001b[1;32m~\\Documents\\GitHub\\pylabrobot\\pylabrobot\\liquid_handling\\liquid_handler.py:527\u001b[0m, in \u001b[0;36mLiquidHandler.drop_tips\u001b[1;34m(self, tip_spots, use_channels, offsets, allow_nonzero_volume, **backend_kwargs)\u001b[0m\n\u001b[0;32m    476\u001b[0m \u001b[38;5;129m@need_setup_finished\u001b[39m\n\u001b[0;32m    477\u001b[0m \u001b[38;5;28;01masync\u001b[39;00m \u001b[38;5;28;01mdef\u001b[39;00m \u001b[38;5;21mdrop_tips\u001b[39m(\n\u001b[0;32m    478\u001b[0m   \u001b[38;5;28mself\u001b[39m,\n\u001b[1;32m   (...)\u001b[0m\n\u001b[0;32m    483\u001b[0m   \u001b[38;5;241m*\u001b[39m\u001b[38;5;241m*\u001b[39mbackend_kwargs,\n\u001b[0;32m    484\u001b[0m ):\n\u001b[0;32m    485\u001b[0m \u001b[38;5;250m  \u001b[39m\u001b[38;5;124;03m\"\"\"Drop tips to a resource.\u001b[39;00m\n\u001b[0;32m    486\u001b[0m \n\u001b[0;32m    487\u001b[0m \u001b[38;5;124;03m  Examples:\u001b[39;00m\n\u001b[1;32m   (...)\u001b[0m\n\u001b[0;32m    524\u001b[0m \u001b[38;5;124;03m    HasTipError: If a spot already has a tip.\u001b[39;00m\n\u001b[0;32m    525\u001b[0m \u001b[38;5;124;03m  \"\"\"\u001b[39;00m\n\u001b[1;32m--> 527\u001b[0m   not_tip_spots \u001b[38;5;241m=\u001b[39m [ts \u001b[38;5;28;01mfor\u001b[39;00m ts \u001b[38;5;129;01min\u001b[39;00m tip_spots \u001b[38;5;28;01mif\u001b[39;00m \u001b[38;5;129;01mnot\u001b[39;00m \u001b[38;5;28misinstance\u001b[39m(ts, (TipSpot, Trash))]\n\u001b[0;32m    528\u001b[0m   \u001b[38;5;28;01mif\u001b[39;00m \u001b[38;5;28mlen\u001b[39m(not_tip_spots) \u001b[38;5;241m>\u001b[39m \u001b[38;5;241m0\u001b[39m:\n\u001b[0;32m    529\u001b[0m     \u001b[38;5;28;01mraise\u001b[39;00m \u001b[38;5;167;01mTypeError\u001b[39;00m(\u001b[38;5;124mf\u001b[39m\u001b[38;5;124m\"\u001b[39m\u001b[38;5;124mResources must be `TipSpot`s or Trash, got \u001b[39m\u001b[38;5;132;01m{\u001b[39;00mnot_tip_spots\u001b[38;5;132;01m}\u001b[39;00m\u001b[38;5;124m\"\u001b[39m)\n",
      "File \u001b[1;32m~\\Documents\\GitHub\\pylabrobot\\pylabrobot\\liquid_handling\\liquid_handler.py:527\u001b[0m, in \u001b[0;36m<listcomp>\u001b[1;34m(.0)\u001b[0m\n\u001b[0;32m    476\u001b[0m \u001b[38;5;129m@need_setup_finished\u001b[39m\n\u001b[0;32m    477\u001b[0m \u001b[38;5;28;01masync\u001b[39;00m \u001b[38;5;28;01mdef\u001b[39;00m \u001b[38;5;21mdrop_tips\u001b[39m(\n\u001b[0;32m    478\u001b[0m   \u001b[38;5;28mself\u001b[39m,\n\u001b[1;32m   (...)\u001b[0m\n\u001b[0;32m    483\u001b[0m   \u001b[38;5;241m*\u001b[39m\u001b[38;5;241m*\u001b[39mbackend_kwargs,\n\u001b[0;32m    484\u001b[0m ):\n\u001b[0;32m    485\u001b[0m \u001b[38;5;250m  \u001b[39m\u001b[38;5;124;03m\"\"\"Drop tips to a resource.\u001b[39;00m\n\u001b[0;32m    486\u001b[0m \n\u001b[0;32m    487\u001b[0m \u001b[38;5;124;03m  Examples:\u001b[39;00m\n\u001b[1;32m   (...)\u001b[0m\n\u001b[0;32m    524\u001b[0m \u001b[38;5;124;03m    HasTipError: If a spot already has a tip.\u001b[39;00m\n\u001b[0;32m    525\u001b[0m \u001b[38;5;124;03m  \"\"\"\u001b[39;00m\n\u001b[1;32m--> 527\u001b[0m   not_tip_spots \u001b[38;5;241m=\u001b[39m [ts \u001b[38;5;28;01mfor\u001b[39;00m ts \u001b[38;5;129;01min\u001b[39;00m tip_spots \u001b[38;5;28;01mif\u001b[39;00m \u001b[38;5;129;01mnot\u001b[39;00m \u001b[38;5;28misinstance\u001b[39m(ts, (TipSpot, Trash))]\n\u001b[0;32m    528\u001b[0m   \u001b[38;5;28;01mif\u001b[39;00m \u001b[38;5;28mlen\u001b[39m(not_tip_spots) \u001b[38;5;241m>\u001b[39m \u001b[38;5;241m0\u001b[39m:\n\u001b[0;32m    529\u001b[0m     \u001b[38;5;28;01mraise\u001b[39;00m \u001b[38;5;167;01mTypeError\u001b[39;00m(\u001b[38;5;124mf\u001b[39m\u001b[38;5;124m\"\u001b[39m\u001b[38;5;124mResources must be `TipSpot`s or Trash, got \u001b[39m\u001b[38;5;132;01m{\u001b[39;00mnot_tip_spots\u001b[38;5;132;01m}\u001b[39;00m\u001b[38;5;124m\"\u001b[39m)\n",
      "File \u001b[1;32m~\\Documents\\GitHub\\pylabrobot\\pylabrobot\\resources\\carrier.py:93\u001b[0m, in \u001b[0;36mCarrier.__getitem__\u001b[1;34m(self, idx)\u001b[0m\n\u001b[0;32m     91\u001b[0m \u001b[38;5;28;01mdef\u001b[39;00m \u001b[38;5;21m__getitem__\u001b[39m(\u001b[38;5;28mself\u001b[39m, idx: \u001b[38;5;28mint\u001b[39m) \u001b[38;5;241m-\u001b[39m\u001b[38;5;241m>\u001b[39m S:\n\u001b[0;32m     92\u001b[0m \u001b[38;5;250m  \u001b[39m\u001b[38;5;124;03m\"\"\"Get a site by index.\"\"\"\u001b[39;00m\n\u001b[1;32m---> 93\u001b[0m   \u001b[38;5;28;01mreturn\u001b[39;00m \u001b[38;5;28;43mself\u001b[39;49m\u001b[38;5;241;43m.\u001b[39;49m\u001b[43msites\u001b[49m\u001b[43m[\u001b[49m\u001b[43midx\u001b[49m\u001b[43m]\u001b[49m\n",
      "\u001b[1;31mKeyError\u001b[0m: 8"
     ]
    }
   ],
   "source": [
    "await lh.drop_tips(multi_station)\n"
   ]
  },
  {
   "cell_type": "code",
   "execution_count": null,
   "metadata": {},
   "outputs": [
    {
     "data": {
      "text/plain": [
       "{0: TipTracker(Channel 0, is_disabled=False, has_tip=False tip=None, pending_tip=None),\n",
       " 1: TipTracker(Channel 1, is_disabled=False, has_tip=False tip=None, pending_tip=None),\n",
       " 2: TipTracker(Channel 2, is_disabled=False, has_tip=False tip=None, pending_tip=None),\n",
       " 3: TipTracker(Channel 3, is_disabled=False, has_tip=False tip=None, pending_tip=None),\n",
       " 4: TipTracker(Channel 4, is_disabled=False, has_tip=False tip=None, pending_tip=None),\n",
       " 5: TipTracker(Channel 5, is_disabled=False, has_tip=False tip=None, pending_tip=None),\n",
       " 6: TipTracker(Channel 6, is_disabled=False, has_tip=False tip=None, pending_tip=None),\n",
       " 7: TipTracker(Channel 7, is_disabled=False, has_tip=False tip=None, pending_tip=None)}"
      ]
     },
     "execution_count": 66,
     "metadata": {},
     "output_type": "execute_result"
    }
   ],
   "source": [
    "lh.head()"
   ]
  },
  {
   "cell_type": "code",
   "execution_count": 62,
   "metadata": {},
   "outputs": [
    {
     "ename": "TypeError",
     "evalue": "Resources must be `TipSpot`s, got [[TipSpot(name=tiprack_2_tipspot_0_0, location=Coordinate(007.700, 071.700, 032.600), size_x=9.0, size_y=9.0, size_z=0, category=tip_spot)]]",
     "output_type": "error",
     "traceback": [
      "\u001b[1;31m---------------------------------------------------------------------------\u001b[0m",
      "\u001b[1;31mTypeError\u001b[0m                                 Traceback (most recent call last)",
      "Cell \u001b[1;32mIn[62], line 6\u001b[0m\n\u001b[0;32m      1\u001b[0m \u001b[38;5;66;03m# tiprack = lh.deck.get_resource(\"tiprack_1\")\u001b[39;00m\n\u001b[0;32m      2\u001b[0m \n\u001b[0;32m      3\u001b[0m \u001b[38;5;66;03m# await lh.pick_up_tips(tiprack[\"A1:H1\"], use_channels=list(range(backend.num_channels)))\u001b[39;00m\n\u001b[0;32m      4\u001b[0m \u001b[38;5;66;03m# await lh.pick_up_tips(tiprack[\"A1\"], use_channels=[1])\u001b[39;00m\n\u001b[1;32m----> 6\u001b[0m \u001b[38;5;28;01mawait\u001b[39;00m lh\u001b[38;5;241m.\u001b[39mpick_up_tips(\n\u001b[0;32m      7\u001b[0m     [tiprack[\u001b[38;5;124m\"\u001b[39m\u001b[38;5;124mA1\u001b[39m\u001b[38;5;124m\"\u001b[39m]],  \u001b[38;5;66;03m# Wrap in a list\u001b[39;00m\n\u001b[0;32m      8\u001b[0m     use_channels\u001b[38;5;241m=\u001b[39m[\u001b[38;5;241m0\u001b[39m]  \u001b[38;5;66;03m# Use only one channel\u001b[39;00m\n\u001b[0;32m      9\u001b[0m )\n",
      "File \u001b[1;32m~\\Documents\\GitHub\\pylabrobot\\pylabrobot\\liquid_handling\\liquid_handler.py:404\u001b[0m, in \u001b[0;36mLiquidHandler.pick_up_tips\u001b[1;34m(self, tip_spots, use_channels, offsets, **backend_kwargs)\u001b[0m\n\u001b[0;32m    402\u001b[0m not_tip_spots \u001b[38;5;241m=\u001b[39m [ts \u001b[38;5;28;01mfor\u001b[39;00m ts \u001b[38;5;129;01min\u001b[39;00m tip_spots \u001b[38;5;28;01mif\u001b[39;00m \u001b[38;5;129;01mnot\u001b[39;00m \u001b[38;5;28misinstance\u001b[39m(ts, TipSpot)]\n\u001b[0;32m    403\u001b[0m \u001b[38;5;28;01mif\u001b[39;00m \u001b[38;5;28mlen\u001b[39m(not_tip_spots) \u001b[38;5;241m>\u001b[39m \u001b[38;5;241m0\u001b[39m:\n\u001b[1;32m--> 404\u001b[0m   \u001b[38;5;28;01mraise\u001b[39;00m \u001b[38;5;167;01mTypeError\u001b[39;00m(\u001b[38;5;124mf\u001b[39m\u001b[38;5;124m\"\u001b[39m\u001b[38;5;124mResources must be `TipSpot`s, got \u001b[39m\u001b[38;5;132;01m{\u001b[39;00mnot_tip_spots\u001b[38;5;132;01m}\u001b[39;00m\u001b[38;5;124m\"\u001b[39m)\n\u001b[0;32m    406\u001b[0m \u001b[38;5;66;03m# fix arguments\u001b[39;00m\n\u001b[0;32m    407\u001b[0m \u001b[38;5;28;01mif\u001b[39;00m use_channels \u001b[38;5;129;01mis\u001b[39;00m \u001b[38;5;28;01mNone\u001b[39;00m:\n",
      "\u001b[1;31mTypeError\u001b[0m: Resources must be `TipSpot`s, got [[TipSpot(name=tiprack_2_tipspot_0_0, location=Coordinate(007.700, 071.700, 032.600), size_x=9.0, size_y=9.0, size_z=0, category=tip_spot)]]"
     ]
    }
   ],
   "source": [
    "# tiprack = lh.deck.get_resource(\"tiprack_1\")\n",
    "\n",
    "# await lh.pick_up_tips(tiprack[\"A1:H1\"], use_channels=list(range(backend.num_channels)))\n",
    "# await lh.pick_up_tips(tiprack[\"A1\"], use_channels=[1])\n",
    "\n",
    "await lh.pick_up_tips(\n",
    "    [tiprack[\"A1\"]],  # Wrap in a list\n",
    "    use_channels=[0]  # Use only one channel\n",
    ")\n"
   ]
  },
  {
   "cell_type": "markdown",
   "metadata": {},
   "source": [
    "## Picking up tips\n",
    "\n",
    "Picking up tips is as easy as querying the tips from the tiprack."
   ]
  },
  {
   "cell_type": "code",
   "execution_count": 21,
   "metadata": {},
   "outputs": [
    {
     "ename": "AssertionError",
     "evalue": "DiTis can only be configured for the last 0 channels",
     "output_type": "error",
     "traceback": [
      "\u001b[1;31m---------------------------------------------------------------------------\u001b[0m",
      "\u001b[1;31mAssertionError\u001b[0m                            Traceback (most recent call last)",
      "Cell \u001b[1;32mIn[21], line 2\u001b[0m\n\u001b[0;32m      1\u001b[0m tiprack \u001b[38;5;241m=\u001b[39m lh\u001b[38;5;241m.\u001b[39mdeck\u001b[38;5;241m.\u001b[39mget_resource(\u001b[38;5;124m\"\u001b[39m\u001b[38;5;124mtiprack_1\u001b[39m\u001b[38;5;124m\"\u001b[39m)\n\u001b[1;32m----> 2\u001b[0m \u001b[38;5;28;01mawait\u001b[39;00m lh\u001b[38;5;241m.\u001b[39mpick_up_tips(tiprack[\u001b[38;5;124m\"\u001b[39m\u001b[38;5;124mA1\u001b[39m\u001b[38;5;124m\"\u001b[39m])\n",
      "File \u001b[1;32m~\\Documents\\GitHub\\pylabrobot\\pylabrobot\\liquid_handling\\liquid_handler.py:467\u001b[0m, in \u001b[0;36mLiquidHandler.pick_up_tips\u001b[1;34m(self, tip_spots, use_channels, offsets, **backend_kwargs)\u001b[0m\n\u001b[0;32m    464\u001b[0m   (\u001b[38;5;28mself\u001b[39m\u001b[38;5;241m.\u001b[39mhead[channel]\u001b[38;5;241m.\u001b[39mcommit \u001b[38;5;28;01mif\u001b[39;00m success \u001b[38;5;28;01melse\u001b[39;00m \u001b[38;5;28mself\u001b[39m\u001b[38;5;241m.\u001b[39mhead[channel]\u001b[38;5;241m.\u001b[39mrollback)()\n\u001b[0;32m    466\u001b[0m \u001b[38;5;66;03m# trigger callback\u001b[39;00m\n\u001b[1;32m--> 467\u001b[0m \u001b[38;5;28mself\u001b[39m\u001b[38;5;241m.\u001b[39m_trigger_callback(\n\u001b[0;32m    468\u001b[0m   \u001b[38;5;124m\"\u001b[39m\u001b[38;5;124mpick_up_tips\u001b[39m\u001b[38;5;124m\"\u001b[39m,\n\u001b[0;32m    469\u001b[0m   liquid_handler\u001b[38;5;241m=\u001b[39m\u001b[38;5;28mself\u001b[39m,\n\u001b[0;32m    470\u001b[0m   operations\u001b[38;5;241m=\u001b[39mpickups,\n\u001b[0;32m    471\u001b[0m   use_channels\u001b[38;5;241m=\u001b[39muse_channels,\n\u001b[0;32m    472\u001b[0m   error\u001b[38;5;241m=\u001b[39merror,\n\u001b[0;32m    473\u001b[0m   \u001b[38;5;241m*\u001b[39m\u001b[38;5;241m*\u001b[39mbackend_kwargs,\n\u001b[0;32m    474\u001b[0m )\n",
      "File \u001b[1;32m~\\Documents\\GitHub\\pylabrobot\\pylabrobot\\liquid_handling\\liquid_handler.py:2204\u001b[0m, in \u001b[0;36mLiquidHandler._trigger_callback\u001b[1;34m(self, method_name, error, *args, **kwargs)\u001b[0m\n\u001b[0;32m   2202\u001b[0m   callback(\u001b[38;5;28mself\u001b[39m, \u001b[38;5;241m*\u001b[39margs, error\u001b[38;5;241m=\u001b[39merror, \u001b[38;5;241m*\u001b[39m\u001b[38;5;241m*\u001b[39mkwargs)\n\u001b[0;32m   2203\u001b[0m \u001b[38;5;28;01melif\u001b[39;00m error \u001b[38;5;129;01mis\u001b[39;00m \u001b[38;5;129;01mnot\u001b[39;00m \u001b[38;5;28;01mNone\u001b[39;00m:\n\u001b[1;32m-> 2204\u001b[0m   \u001b[38;5;28;01mraise\u001b[39;00m error\n",
      "File \u001b[1;32m~\\Documents\\GitHub\\pylabrobot\\pylabrobot\\liquid_handling\\liquid_handler.py:451\u001b[0m, in \u001b[0;36mLiquidHandler.pick_up_tips\u001b[1;34m(self, tip_spots, use_channels, offsets, **backend_kwargs)\u001b[0m\n\u001b[0;32m    449\u001b[0m error: Optional[\u001b[38;5;167;01mException\u001b[39;00m] \u001b[38;5;241m=\u001b[39m \u001b[38;5;28;01mNone\u001b[39;00m\n\u001b[0;32m    450\u001b[0m \u001b[38;5;28;01mtry\u001b[39;00m:\n\u001b[1;32m--> 451\u001b[0m   \u001b[38;5;28;01mawait\u001b[39;00m \u001b[38;5;28mself\u001b[39m\u001b[38;5;241m.\u001b[39mbackend\u001b[38;5;241m.\u001b[39mpick_up_tips(ops\u001b[38;5;241m=\u001b[39mpickups, use_channels\u001b[38;5;241m=\u001b[39muse_channels, \u001b[38;5;241m*\u001b[39m\u001b[38;5;241m*\u001b[39mbackend_kwargs)\n\u001b[0;32m    452\u001b[0m \u001b[38;5;28;01mexcept\u001b[39;00m \u001b[38;5;167;01mException\u001b[39;00m \u001b[38;5;28;01mas\u001b[39;00m e:\n\u001b[0;32m    453\u001b[0m   error \u001b[38;5;241m=\u001b[39m e\n",
      "File \u001b[1;32m~\\Documents\\GitHub\\pylabrobot\\pylabrobot\\liquid_handling\\backends\\tecan\\EVO.py:501\u001b[0m, in \u001b[0;36mEVO.pick_up_tips\u001b[1;34m(self, ops, use_channels)\u001b[0m\n\u001b[0;32m    493\u001b[0m \u001b[38;5;28;01masync\u001b[39;00m \u001b[38;5;28;01mdef\u001b[39;00m \u001b[38;5;21mpick_up_tips\u001b[39m(\u001b[38;5;28mself\u001b[39m, ops: List[Pickup], use_channels: List[\u001b[38;5;28mint\u001b[39m]):\n\u001b[0;32m    494\u001b[0m \u001b[38;5;250m  \u001b[39m\u001b[38;5;124;03m\"\"\"Pick up tips from a resource.\u001b[39;00m\n\u001b[0;32m    495\u001b[0m \n\u001b[0;32m    496\u001b[0m \u001b[38;5;124;03m  Args:\u001b[39;00m\n\u001b[0;32m    497\u001b[0m \u001b[38;5;124;03m    ops: The pickup operations to perform.\u001b[39;00m\n\u001b[0;32m    498\u001b[0m \u001b[38;5;124;03m    use_channels: The channels to use for the pickup operations.\u001b[39;00m\n\u001b[0;32m    499\u001b[0m \u001b[38;5;124;03m  \"\"\"\u001b[39;00m\n\u001b[1;32m--> 501\u001b[0m   \u001b[38;5;28;01massert\u001b[39;00m (\n\u001b[0;32m    502\u001b[0m     \u001b[38;5;28mmin\u001b[39m(use_channels) \u001b[38;5;241m>\u001b[39m\u001b[38;5;241m=\u001b[39m \u001b[38;5;28mself\u001b[39m\u001b[38;5;241m.\u001b[39mnum_channels \u001b[38;5;241m-\u001b[39m \u001b[38;5;28mself\u001b[39m\u001b[38;5;241m.\u001b[39mditi_count\n\u001b[0;32m    503\u001b[0m   ), \u001b[38;5;124mf\u001b[39m\u001b[38;5;124m\"\u001b[39m\u001b[38;5;124mDiTis can only be configured for the last \u001b[39m\u001b[38;5;132;01m{\u001b[39;00m\u001b[38;5;28mself\u001b[39m\u001b[38;5;241m.\u001b[39mditi_count\u001b[38;5;132;01m}\u001b[39;00m\u001b[38;5;124m channels\u001b[39m\u001b[38;5;124m\"\u001b[39m\n\u001b[0;32m    505\u001b[0m   x_positions, y_positions, _ \u001b[38;5;241m=\u001b[39m \u001b[38;5;28mself\u001b[39m\u001b[38;5;241m.\u001b[39m_liha_positions(ops, use_channels)\n\u001b[0;32m    507\u001b[0m   \u001b[38;5;66;03m# move channels\u001b[39;00m\n",
      "\u001b[1;31mAssertionError\u001b[0m: DiTis can only be configured for the last 0 channels"
     ]
    }
   ],
   "source": [
    "tiprack = lh.deck.get_resource(\"tiprack_1\")\n",
    "await lh.pick_up_tips(tiprack[\"A1\"])"
   ]
  },
  {
   "cell_type": "markdown",
   "metadata": {},
   "source": [
    "## Aspirating and dispensing"
   ]
  },
  {
   "cell_type": "markdown",
   "metadata": {},
   "source": [
    "Aspirating and dispensing work similarly to picking up tips: where you use booleans to specify which tips to pick up, with aspiration and dispensing you use floats to specify the volume to aspirate or dispense in $\\mu L$.\n",
    "\n",
    "The cells below move liquid from wells `'A1:C1'` to `'D1:F1'` using channels 1, 2, and 3 using the {func}`~pylabrobot.liquid_handling.LiquidHandler.aspirate` and {func}`~pylabrobot.liquid_handling.LiquidHandler.dispense` methods."
   ]
  },
  {
   "cell_type": "code",
   "execution_count": null,
   "metadata": {},
   "outputs": [
    {
     "name": "stderr",
     "output_type": "stream",
     "text": [
      "INFO:pylabrobot.liquid_handling.backends.hamilton.STAR:Sent command: C0ASid0006at0&tm1 1 1 0&xp04330 04330 04330 00000&yp1460 1370 1280 0000&th2450te2450lp1931 1931 1931&ch000 000 000&zl1881 1881 1881&po0100 0100 0100&zu0032 0032 0032&zr06180 06180 06180&zx1831 1831 1831&ip0000 0000 0000&it0 0 0&fp0000 0000 0000&av01072 00551 02110&as1000 1000 1000&ta000 000 000&ba0000 0000 0000&oa000 000 000&lm0 0 0&ll1 1 1&lv1 1 1&zo000 000 000&ld00 00 00&de0020 0020 0020&wt10 10 10&mv00000 00000 00000&mc00 00 00&mp000 000 000&ms1000 1000 1000&mh0000 0000 0000&gi000 000 000&gj0gk0lk0 0 0&ik0000 0000 0000&sd0500 0500 0500&se0500 0500 0500&sz0300 0300 0300&io0000 0000 0000&il00000 00000 00000&in0000 0000 0000&\n",
      "INFO:pylabrobot.liquid_handling.backends.hamilton.STAR:Received response: C0ASid0006er00/00\n"
     ]
    }
   ],
   "source": [
    "plate = lh.deck.get_resource(\"plate_01\")\n",
    "await lh.aspirate(plate[\"A1:C1\"], vols=[100.0, 50.0, 200.0])"
   ]
  },
  {
   "cell_type": "markdown",
   "metadata": {},
   "source": [
    "After the liquid has been aspirated, dispense it in the wells below. Note that while we specify different wells, we are still using the same channels. This is needed because only these channels contain liquid, of course."
   ]
  },
  {
   "cell_type": "code",
   "execution_count": 14,
   "metadata": {},
   "outputs": [
    {
     "name": "stderr",
     "output_type": "stream",
     "text": [
      "INFO:pylabrobot.liquid_handling.backends.hamilton.STAR:Sent command: C0DSid0007dm2 2 2&tm1 1 1 0&xp04330 04330 04330 00000&yp1190 1100 1010 0000&zx1871 1871 1871&lp2321 2321 2321&zl1881 1881 1881&po0100 0100 0100&ip0000 0000 0000&it0 0 0&fp0000 0000 0000&zu0032 0032 0032&zr06180 06180 06180&th2450te2450dv01072 00551 02110&ds1200 1200 1200&ss0050 0050 0050&rv000 000 000&ta000 000 000&ba0000 0000 0000&lm0 0 0&dj00zo000 000 000&ll1 1 1&lv1 1 1&de0020 0020 0020&wt00 00 00&mv00000 00000 00000&mc00 00 00&mp000 000 000&ms0010 0010 0010&mh0000 0000 0000&gi000 000 000&gj0gk0\n",
      "INFO:pylabrobot.liquid_handling.backends.hamilton.STAR:Received response: C0DSid0007er00/00\n"
     ]
    }
   ],
   "source": [
    "await lh.dispense(plate[\"D1:F1\"], vols=[100.0, 50.0, 200.0])"
   ]
  },
  {
   "cell_type": "markdown",
   "metadata": {},
   "source": [
    "Let's move the liquid back to the original wells."
   ]
  },
  {
   "cell_type": "code",
   "execution_count": 15,
   "metadata": {},
   "outputs": [
    {
     "name": "stderr",
     "output_type": "stream",
     "text": [
      "INFO:pylabrobot.liquid_handling.backends.hamilton.STAR:Sent command: C0ASid0008at0&tm1 1 1 0&xp04330 04330 04330 00000&yp1190 1100 1010 0000&th2450te2450lp1931 1931 1931&ch000 000 000&zl1881 1881 1881&po0100 0100 0100&zu0032 0032 0032&zr06180 06180 06180&zx1831 1831 1831&ip0000 0000 0000&it0 0 0&fp0000 0000 0000&av01072 00551 02110&as1000 1000 1000&ta000 000 000&ba0000 0000 0000&oa000 000 000&lm0 0 0&ll1 1 1&lv1 1 1&zo000 000 000&ld00 00 00&de0020 0020 0020&wt10 10 10&mv00000 00000 00000&mc00 00 00&mp000 000 000&ms1000 1000 1000&mh0000 0000 0000&gi000 000 000&gj0gk0lk0 0 0&ik0000 0000 0000&sd0500 0500 0500&se0500 0500 0500&sz0300 0300 0300&io0000 0000 0000&il00000 00000 00000&in0000 0000 0000&\n",
      "INFO:pylabrobot.liquid_handling.backends.hamilton.STAR:Received response: C0ASid0008er00/00\n",
      "INFO:pylabrobot.liquid_handling.backends.hamilton.STAR:Sent command: C0DSid0009dm2 2 2&tm1 1 1 0&xp04330 04330 04330 00000&yp1460 1370 1280 0000&zx1871 1871 1871&lp2321 2321 2321&zl1881 1881 1881&po0100 0100 0100&ip0000 0000 0000&it0 0 0&fp0000 0000 0000&zu0032 0032 0032&zr06180 06180 06180&th2450te2450dv01072 00551 02110&ds1200 1200 1200&ss0050 0050 0050&rv000 000 000&ta000 000 000&ba0000 0000 0000&lm0 0 0&dj00zo000 000 000&ll1 1 1&lv1 1 1&de0020 0020 0020&wt00 00 00&mv00000 00000 00000&mc00 00 00&mp000 000 000&ms0010 0010 0010&mh0000 0000 0000&gi000 000 000&gj0gk0\n",
      "INFO:pylabrobot.liquid_handling.backends.hamilton.STAR:Received response: C0DSid0009er00/00\n"
     ]
    }
   ],
   "source": [
    "await lh.aspirate(plate[\"D1:F1\"], vols=[100.0, 50.0, 200.0])\n",
    "await lh.dispense(plate[\"A1:C1\"], vols=[100.0, 50.0, 200.0])"
   ]
  },
  {
   "cell_type": "markdown",
   "metadata": {},
   "source": [
    "## Dropping tips\n",
    "\n",
    "Finally, you can drop tips anywhere on the deck by using the {func}`~pylabrobot.liquid_handling.LiquidHandler.discard_tips` method."
   ]
  },
  {
   "cell_type": "code",
   "execution_count": 16,
   "metadata": {},
   "outputs": [
    {
     "name": "stderr",
     "output_type": "stream",
     "text": [
      "INFO:pylabrobot.liquid_handling.backends.hamilton.STAR:Sent command: C0TRid0010xp01629 01629 01629 00000&yp1458 1368 1278 0000&tm1 1 1 0&tt01tp1314tz1414th2450ti0\n",
      "INFO:pylabrobot.liquid_handling.backends.hamilton.STAR:Received response: C0TRid0010er00/00kz381 356 365 000 000 000 000 000vz303 360 368 000 000 000 000 000\n"
     ]
    }
   ],
   "source": [
    "await lh.drop_tips(tiprack[\"A1:C1\"])"
   ]
  },
  {
   "cell_type": "code",
   "execution_count": 17,
   "metadata": {},
   "outputs": [
    {
     "name": "stderr",
     "output_type": "stream",
     "text": [
      "WARNING:root:Closing connection to USB device.\n"
     ]
    }
   ],
   "source": [
    "await lh.stop()"
   ]
  }
 ],
 "metadata": {
  "kernelspec": {
   "display_name": "Python 3",
   "language": "python",
   "name": "python3"
  },
  "language_info": {
   "codemirror_mode": {
    "name": "ipython",
    "version": 3
   },
   "file_extension": ".py",
   "mimetype": "text/x-python",
   "name": "python",
   "nbconvert_exporter": "python",
   "pygments_lexer": "ipython3",
   "version": "3.10.1"
  }
 },
 "nbformat": 4,
 "nbformat_minor": 2
}
