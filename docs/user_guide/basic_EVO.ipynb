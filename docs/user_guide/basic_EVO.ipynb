{
 "cells": [
  {
   "cell_type": "markdown",
   "metadata": {},
   "source": [
    "# Getting started with liquid handling on a Hamilton STAR(let)\n",
    "\n",
    "In this notebook, you will learn how to use PyLabRobot to move water from one range of wells to another.\n",
    "\n",
    "**Note: before running this notebook, you should have**:\n",
    "\n",
    "- Installed PyLabRobot and the USB driver as described in [the installation guide](/user_guide/installation).\n",
    "- Connected the Hamilton to your computer using the USB cable.\n",
    "\n",
    "Video of what this code does:\n"
   ]
  },
  {
   "cell_type": "markdown",
   "metadata": {},
   "source": [
    "## Setting up a connection with the robot\n",
    "\n",
    "Start by importing the {class}`~pylabrobot.liquid_handling.liquid_handler.LiquidHandler` class, which will serve as a front end for all liquid handling operations.\n",
    "\n",
    "Backends serve as communicators between `LiquidHandler`s and the actual hardware. Since we are using a Hamilton STAR, we also import the {class}`~pylabrobot.liquid_handling.backends.STAR` backend."
   ]
  },
  {
   "cell_type": "code",
   "execution_count": 1,
   "metadata": {},
   "outputs": [],
   "source": [
    "%load_ext autoreload\n",
    "%autoreload 2"
   ]
  },
  {
   "cell_type": "code",
   "execution_count": null,
   "metadata": {},
   "outputs": [],
   "source": []
  },
  {
   "cell_type": "code",
   "execution_count": 2,
   "metadata": {},
   "outputs": [],
   "source": [
    "from pylabrobot.liquid_handling import LiquidHandler\n",
    "from pylabrobot.liquid_handling.backends import EVO"
   ]
  },
  {
   "cell_type": "markdown",
   "metadata": {},
   "source": [
    "In addition, import the {class}`~pylabrobot.resources.hamilton.STARLetDeck`, which represents the deck of the Hamilton STAR."
   ]
  },
  {
   "cell_type": "code",
   "execution_count": 3,
   "metadata": {},
   "outputs": [],
   "source": [
    "from pylabrobot.resources.tecan import EVO200Deck"
   ]
  },
  {
   "cell_type": "markdown",
   "metadata": {},
   "source": [
    "Create a new liquid handler using `STAR` as its backend."
   ]
  },
  {
   "cell_type": "code",
   "execution_count": null,
   "metadata": {},
   "outputs": [],
   "source": [
    "backend = EVO(diti_count=8) # specify that robot has 8 diti cones on liha\n",
    "lh = LiquidHandler(backend=backend, deck=EVO200Deck()) # in EVO200Deck() add the position of the wash station(s) so it is dynamic\n",
    "\n",
    "\n",
    "# backend.num_channels\n",
    "# backend.diti_count = 96 # need to add the number of tips to the backend. TODO should be done automactically"
   ]
  },
  {
   "cell_type": "markdown",
   "metadata": {},
   "source": [
    "The final step is to open communication with the robot. This is done using the {func}`~pylabrobot.liquid_handling.LiquidHandler.setup` method."
   ]
  },
  {
   "cell_type": "code",
   "execution_count": 5,
   "metadata": {
    "scrolled": false
   },
   "outputs": [
    {
     "name": "stdout",
     "output_type": "stream",
     "text": [
      "{'module': 'W1', 'data': []}\n",
      "RoMa connected!\n",
      "MCA connected!\n",
      "MCA parked safely.\n",
      "LiHa connected!\n"
     ]
    }
   ],
   "source": [
    "\n",
    "\n",
    "await lh.setup()\n",
    "## TODO ERROR: IF ROMA ARM BESIDES MCA THEN ROMA WILL NOT INITIALIZE AND WILL BE IN THE WAY OF MCA SO MCA WILL CRASH AND ROBOT WILL NOT INITIALIZE\n",
    "## OPS ROMA ARM MUST BE able to move in full circle on g axes. due something about setup quiting after slow response from roma"
   ]
  },
  {
   "cell_type": "code",
<<<<<<< HEAD
   "execution_count": 6,
=======
   "execution_count": null,
   "metadata": {},
   "outputs": [],
   "source": [
    "from pylabrobot.scales import Scale\n",
    "from pylabrobot.scales.mettler_toledo import MettlerToledoWXS205SDU\n",
    "\n",
    "# 初始化天平后端\n",
    "backend = MettlerToledoWXS205SDU(port=\"COM3\")\n",
    "scale = Scale(name=\"sb\", backend=backend, size_x=126.7, size_y=188.9, size_z=60)\n",
    "\n",
    "# 初始化天平\n",
    "try:\n",
    "    await scale.setup()  # 确保天平已正确初始化\n",
    "    print(\"Scale initialized successfully.\")\n",
    "except Exception as e:\n",
    "    print(f\"Failed to initialize scale: {e}\")\n",
    "\n",
    "# 归零天平\n",
    "try:\n",
    "    await scale.tare()  # 归零天平\n",
    "    print(\"Scale tared successfully.\")\n",
    "except Exception as e:\n",
    "    print(f\"Failed to tare scale: {e}\")\n",
    "\n",
    "# 获取天平读数\n",
    "try:\n",
    "    weight = await scale.get_weight(timeout=\"stable\")  # 等待天平稳定后读取重量\n",
    "    print(f\"Weight after tare: {weight} g\")\n",
    "except Exception as e:\n",
    "    print(f\"Failed to read weight: {e}\")"
   ]
  },
  {
   "cell_type": "code",
   "execution_count": null,
   "metadata": {},
   "outputs": [],
   "source": [
    "await lh.backend.liha.set_end_speed_plunger([1000]*lh.backend.num_channels)  # Adjust speed as needed"
   ]
  },
  {
   "cell_type": "code",
   "execution_count": 31,
>>>>>>> be3130b2116448dd4493839d51d0d6114dd98632
   "metadata": {},
   "outputs": [
    {
     "name": "stdout",
     "output_type": "stream",
     "text": [
      "8\n"
     ]
    }
   ],
   "source": [
    "diti_cones = True\n",
    "## if on LiHa you are using DITI cones then set\n",
    "if diti_cones:\n",
    "    diti_count = 8\n",
    "    lh.diti_count = diti_count\n",
    "    print(lh.diti_count)\n",
    "else:\n",
    "  ## If usinng fixed tips then set\n",
    "  from pylabrobot.resources.tecan.tip_creators import standard_fixed_tip\n",
    "  for i in range(lh.backend.num_channels):\n",
    "    lh.head[i]._tip = standard_fixed_tip()"
   ]
  },
  {
   "cell_type": "code",
   "execution_count": 7,
   "metadata": {},
   "outputs": [
    {
     "name": "stdout",
     "output_type": "stream",
     "text": [
      "8\n",
      "8\n"
     ]
    }
   ],
   "source": [
    "print(lh.diti_count)\n",
    "\n",
    "print(backend.diti_count)\n"
   ]
  },
  {
   "cell_type": "code",
   "execution_count": 8,
   "metadata": {},
   "outputs": [
    {
     "data": {
      "text/plain": [
       "True"
      ]
     },
     "execution_count": 8,
     "metadata": {},
     "output_type": "execute_result"
    }
   ],
   "source": [
    "backend.roma_connected"
   ]
  },
  {
   "cell_type": "code",
   "execution_count": 9,
   "metadata": {},
   "outputs": [
    {
     "data": {
      "text/plain": [
       "True"
      ]
     },
     "execution_count": 9,
     "metadata": {},
     "output_type": "execute_result"
    }
   ],
   "source": [
    "backend.liha_connected"
   ]
  },
  {
   "cell_type": "code",
   "execution_count": 10,
   "metadata": {},
   "outputs": [
    {
     "data": {
      "text/plain": [
       "True"
      ]
     },
     "execution_count": 10,
     "metadata": {},
     "output_type": "execute_result"
    }
   ],
   "source": [
    "backend.mca_connected # not acting. some error in EVO.py try to run in debug mode and see where the ROMA and LiHa activate\n",
    "## WHY DOES IT NOT ENTER INTO THE LOOP"
   ]
  },
  {
   "cell_type": "markdown",
   "metadata": {},
   "source": [
    "## Creating the deck layout\n",
    "\n",
    "Now that we have a `LiquidHandler` instance, we can define the deck layout.\n",
    "\n",
    "The layout in this tutorial will contain five sets of standard volume tips with filter, 1 set of 96 1mL wells, and tip and plate carriers on which these resources are positioned.\n",
    "\n",
    "Start by importing the relevant objects and variables from the PyLabRobot package. This notebook uses the following resources:\n",
    "\n",
    "- {class}`~pylabrobot.resources.hamilton.tip_carriers.TIP_CAR_480_A00` tip carrier\n",
    "- {class}`~pylabrobot.resources.hamilton.plate_carriers.PLT_CAR_L5AC_A00` plate carrier\n",
    "- {class}`~pylabrobot.resources.corning_costar.plates.Cor_96_wellplate_360ul_Fb` wells\n",
    "- {class}`~pylabrobot.resources.hamilton.tip_racks.HTF` tips"
   ]
  },
  {
   "cell_type": "code",
<<<<<<< HEAD
   "execution_count": 11,
=======
   "execution_count": null,
   "metadata": {},
   "outputs": [],
   "source": [
    "from pylabrobot.resources import (\n",
    "  MP_3Pos,\n",
    "  Wash_Station,\n",
    "  Microplate_96_Well,\n",
    "  standard_fixed_tip,\n",
    "\n",
    ")"
   ]
  },
  {
   "cell_type": "code",
   "execution_count": null,
   "metadata": {},
   "outputs": [],
   "source": [
    "for i in range(lh.backend.num_channels):\n",
    "  lh.head[i]._tip = standard_fixed_tip()\n",
    "\n",
    "lh.head"
   ]
  },
  {
   "cell_type": "code",
   "execution_count": 36,
>>>>>>> be3130b2116448dd4493839d51d0d6114dd98632
   "metadata": {},
   "outputs": [],
   "source": [
    "from pylabrobot.resources import (\n",
    "  MP_3Pos,\n",
    "  MP_4Pos_flat,\n",
    "  Washstation_2Grid_Trough_DiTi, # selected based on partnumer 10650037 from page 194 https://www.tecan.com/hubfs/402249_en_V1_0%20OM%20Freedom%20EVOlyzer-3%20for%20GP%20Use-1.pdf\n",
    "\n",
    "  # added labware/tipracks(aka tipboxes)\n",
    "  DiTi_1000ul_SBS_LiHa, # for testing maybe similar to specs of flat carrie. page 187\n",
    "  DiTi_1000ul_LiHa, # test how that works\n",
    "  DiTi_1000ul_Filter_LiHa, # test how that works\n",
    "  DiTi_50ul_MCA384,\n",
    "  DiTi_500ul_SBS_MCA96,\n",
    "  DiTi_200ul_SBS_LiHa, # free haning tips\n",
    "\n",
    "  Microplate_96_Well,\n",
    "\n",
    "  # added tip_carrier\n",
    "  DiTi_SBS_4_Pos_MCA96,\n",
    "  DiTi_3Pos, # haning tips\n",
    "  # tecan.Trash_Container\n",
    "\n",
    ")"
   ]
  },
  {
   "cell_type": "markdown",
   "metadata": {},
   "source": [
    "Then create a tip carrier named `tip carrier`, which will contain tip rack at all 5 positions. These positions can be accessed using `tip_car[x]`, and are 0 indexed."
   ]
  },
  {
   "cell_type": "code",
   "execution_count": 12,
   "metadata": {},
   "outputs": [],
   "source": [
    "## QUESTION TO ANSWAR:\n",
    "# Can i place diti tip racks on carriers?\n",
    "\n",
    "# Can i run diti tip racks\n",
    "# can i run the MCA head\n",
    "# can i pick up tips using the MCA head?\n",
    "\n",
    "# can i wash in the washstation.\n",
    "# Is it the correct wash station??\n",
    "\n",
    "# Can u use LLD?\n",
    "# can i turn off LLD?\n",
    "\n",
    "# can i flush / wash liquid\n",
    "\n"
   ]
  },
  {
   "cell_type": "code",
   "execution_count": 13,
   "metadata": {},
   "outputs": [],
   "source": [
    "# tip_car = MP_4Pos_flat(name=\"tip carrier\")\n",
    "# tip_car[0] = Microplate_96_Well(name=\"micro_plate_tip_naigbor\")\n",
    "\n",
    "tip_car_hang = DiTi_3Pos(name=\"tip carrier hang\")\n",
    "tip_car_hang[0] = DiTi_200ul_SBS_LiHa(name=\"tiprack_1\") # this gives problems. probably because it has not been tesetd enough\n",
    "tip_car_hang[1] = DiTi_1000ul_Filter_LiHa(name=\"tiprack_2\")"
   ]
  },
  {
   "cell_type": "code",
   "execution_count": 14,
   "metadata": {},
   "outputs": [],
   "source": [
    "# tip_car[1] = DiTi_1000ul_SBS_LiHa(name=\"tips_02\")\n",
    "# lh.deck.unassign_child_resource(tip_car_hang)"
   ]
  },
  {
   "cell_type": "markdown",
   "metadata": {},
   "source": [
    "Use {func}`~pylabrobot.resources.abstract.assign_child_resources` to assign the tip carrier to the deck of the liquid handler. All resources contained by this carrier will be assigned automatically.\n",
    "\n",
    "In the `rails` parameter, we can pass the location of the tip carrier. The locations of the tips will automatically be calculated."
   ]
  },
  {
   "cell_type": "code",
   "execution_count": 15,
   "metadata": {},
   "outputs": [],
   "source": [
    "# lh.deck.assign_child_resource(tip_car, rails=46)\n",
    "\n",
    "# lh.deck.assign_child_resource(tip_car_hang, rails=34, reassign=True) # real life position\n",
    "lh.deck.assign_child_resource(tip_car_hang, rails=7, reassign=True) # real test position"
   ]
  },
  {
   "cell_type": "markdown",
   "metadata": {},
   "source": [
    "# generate plate carrier"
   ]
  },
  {
   "cell_type": "code",
<<<<<<< HEAD
   "execution_count": 16,
=======
   "execution_count": null,
   "metadata": {},
   "outputs": [],
   "source": [
    "plt_car_source = MP_3Pos(name=\"plate carrier source\")\n",
    "plt_car_destination = MP_3Pos(name=\"plate carrier destination\")\n",
    "plt_car_source[0] = Microplate_96_Well(name=\"plate_00\")\n",
    "plt_car_destination[1] = Microplate_96_Well(name=\"plate_01\")\n",
    "\n",
    "lh.deck.assign_child_resource(plt_car_source, rails=16, replace=True)\n",
    "#lh.deck.unassign_child_resource(plt_car)  # 先移除旧的\n",
    "lh.deck.assign_child_resource(plt_car_destination, rails=23, replace=True)\n",
    "#plt_car[0] = plate_00\n",
    "#plt_car[1] = plate_01\n",
    "\n",
    "\n",
    "\n",
    "\n",
    "print(lh.deck.children)\n",
    "lh.summary()"
   ]
  },
  {
   "cell_type": "code",
   "execution_count": 41,
>>>>>>> be3130b2116448dd4493839d51d0d6114dd98632
   "metadata": {},
   "outputs": [],
   "source": [
    "plt_car = MP_3Pos(name=\"plate carrier\")\n",
    "plt_car[0] = Microplate_96_Well(name=\"plate_01\")\n",
    "# lh.deck.assign_child_resource(plt_car, rails=3) # other locations of the same carrier 9, 15, 21"
   ]
  },
  {
   "cell_type": "markdown",
   "metadata": {},
   "source": [
    "Repeat this for the plates."
   ]
  },
  {
   "cell_type": "markdown",
   "metadata": {},
   "source": [
    "Let's look at a summary of the deck layout using {func}`~pylabrobot.liquid_handling.LiquidHandler.summary`."
   ]
  },
  {
   "cell_type": "code",
   "execution_count": 17,
   "metadata": {},
   "outputs": [
    {
     "name": "stdout",
     "output_type": "stream",
     "text": [
      "Rail     Resource                   Type                Coordinates (mm)\n",
      "===============================================================================================\n",
      "(1)  ├── wash_station               TecanWashStation    Coordinate(087.500, -20.300, 000.000)\n",
      "     │   ├── wash_clean_deep        Trash               Coordinate(099.700, 086.400, 000.000)\n",
      "     │   ├── wash_waste             Trash               Coordinate(098.500, 160.400, 000.000)\n",
      "     │   ├── wash_clean_shallow     Trash               Coordinate(099.700, 261.400, 000.000)\n",
      "     │\n",
      "(7)  ├── tip carrier hang           TecanTipCarrier     Coordinate(238.000, -04.300, 000.000)\n",
      "     │   ├── tiprack_1              TecanTipRack        Coordinate(265.900, 140.600, -00.500)\n",
      "     │   ├── tiprack_2              TecanTipRack        Coordinate(263.500, 241.900, 037.100)\n",
      "     │   ├── <empty>\n",
      "\n"
     ]
    }
   ],
   "source": [
    "lh.summary()"
   ]
  },
  {
   "cell_type": "code",
   "execution_count": 18,
   "metadata": {},
   "outputs": [],
   "source": [
    "# backend.setup_finished = True\n",
    "# lh.setup_finished"
   ]
  },
  {
   "cell_type": "code",
   "execution_count": 19,
   "metadata": {},
   "outputs": [
    {
     "data": {
      "text/plain": [
       "{0: TipTracker(Channel 0, is_disabled=False, has_tip=False tip=None, pending_tip=None),\n",
       " 1: TipTracker(Channel 1, is_disabled=False, has_tip=False tip=None, pending_tip=None),\n",
       " 2: TipTracker(Channel 2, is_disabled=False, has_tip=False tip=None, pending_tip=None),\n",
       " 3: TipTracker(Channel 3, is_disabled=False, has_tip=False tip=None, pending_tip=None),\n",
       " 4: TipTracker(Channel 4, is_disabled=False, has_tip=False tip=None, pending_tip=None),\n",
       " 5: TipTracker(Channel 5, is_disabled=False, has_tip=False tip=None, pending_tip=None),\n",
       " 6: TipTracker(Channel 6, is_disabled=False, has_tip=False tip=None, pending_tip=None),\n",
       " 7: TipTracker(Channel 7, is_disabled=False, has_tip=False tip=None, pending_tip=None)}"
      ]
     },
     "execution_count": 19,
     "metadata": {},
     "output_type": "execute_result"
    }
   ],
   "source": [
    "lh.head"
   ]
  },
  {
   "cell_type": "code",
   "execution_count": 21,
   "metadata": {},
   "outputs": [],
   "source": [
    "tiprack = lh.deck.get_resource(\"tiprack_1\")"
   ]
  },
  {
   "cell_type": "code",
   "execution_count": 46,
   "metadata": {},
   "outputs": [],
   "source": [
    "# lh.num_channels\n",
    "# await lh.move_channel_x(channel=1, x=100)"
   ]
  },
  {
   "cell_type": "code",
   "execution_count": 79,
   "metadata": {},
   "outputs": [
    {
     "name": "stdout",
     "output_type": "stream",
     "text": [
      "Resource parent: TecanTipRack(name=tiprack_1, size_x=128.2, size_y=86.8, size_z=30.0, location=Coordinate(000.000, 000.000, 000.000)), Type: <class 'pylabrobot.resources.tecan.tip_racks.TecanTipRack'>\n",
      "z_positions {'travel': [1345, None, None, None, None, None, None, None], 'start': [995, None, None, None, None, None, None, None], 'dispense': [995, None, None, None, None, None, None, None], 'max': [695, None, None, None, None, None, None, None]}\n"
     ]
    }
   ],
   "source": [
    "from pylabrobot.resources import Coordinate\n",
    "from pylabrobot.liquid_handling.standard import Pickup\n",
    "tiprack = lh.deck.get_resource(\"tiprack_1\")  # Get the tip rack instance\n",
    "\n",
    "# Run the pickup with the offset\n",
    "# await lh.pick_up_tips(tip_spot, ops=pickup_op, offsets=[Coordinate(-15, -15, 0)]) # THIS WORKS\n",
    "await lh.pick_up_tips(tiprack[\"A5\"], offsets=[Coordinate(-15, -15, 0)])\n",
    "# await backend.pick_up_tips([pickup_op], use_channels=[0])\n",
    "\n",
    "# GREAT I CAN NOW PICK UP A TIP!!!\n",
    "# z_positions {'travel': [1345], 'start': [995], 'dispense': [995], 'max': [695]}"
   ]
  },
  {
   "cell_type": "code",
   "execution_count": 38,
   "metadata": {},
   "outputs": [
    {
     "data": {
      "text/plain": [
       "{0: TipTracker(Channel 0, is_disabled=False, has_tip=True tip=TecanTip(has_filter=False, total_tip_length=21.0, maximal_volume=220.0, fitting_depth=0), pending_tip=TecanTip(has_filter=False, total_tip_length=21.0, maximal_volume=220.0, fitting_depth=0)),\n",
       " 1: TipTracker(Channel 1, is_disabled=False, has_tip=False tip=None, pending_tip=None),\n",
       " 2: TipTracker(Channel 2, is_disabled=False, has_tip=False tip=None, pending_tip=None),\n",
       " 3: TipTracker(Channel 3, is_disabled=False, has_tip=False tip=None, pending_tip=None),\n",
       " 4: TipTracker(Channel 4, is_disabled=False, has_tip=False tip=None, pending_tip=None),\n",
       " 5: TipTracker(Channel 5, is_disabled=False, has_tip=False tip=None, pending_tip=None),\n",
       " 6: TipTracker(Channel 6, is_disabled=False, has_tip=False tip=None, pending_tip=None),\n",
       " 7: TipTracker(Channel 7, is_disabled=False, has_tip=False tip=None, pending_tip=None)}"
      ]
     },
     "execution_count": 38,
     "metadata": {},
     "output_type": "execute_result"
    }
   ],
   "source": [
    "lh.head"
   ]
  },
  {
   "cell_type": "code",
   "execution_count": 78,
   "metadata": {},
   "outputs": [
    {
     "name": "stdout",
     "output_type": "stream",
     "text": [
      "use_channels [0]\n",
      "offsets [Coordinate(x=-15, y=-15, z=0)]\n",
      "Resource parent: TecanTipRack(name=tiprack_1, size_x=128.2, size_y=86.8, size_z=30.0, location=Coordinate(000.000, 000.000, 000.000)), Type: <class 'pylabrobot.resources.tecan.tip_racks.TecanTipRack'>\n"
     ]
    }
   ],
   "source": [
    "# RETURNING TIPS TO TIPRACK NOW WORKS WITH drop_tips()\n",
    "# await lh.drop_tips(tiprack[\"A5\"], use_channels=[0], offsets=[Coordinate(-15, -15, 0)]) # not dropping at the correct point\n",
    "await lh.drop_tips(tiprack[\"A5\"], offsets=[Coordinate(-15, -15, 0)]) # not dropping at the correct point"
   ]
  },
  {
   "cell_type": "code",
   "execution_count": 70,
   "metadata": {},
   "outputs": [
    {
     "name": "stdout",
     "output_type": "stream",
     "text": [
      "Resource parent: TecanTipRack(name=tiprack_1, size_x=128.2, size_y=86.8, size_z=30.0, location=Coordinate(000.000, 000.000, 000.000)), Type: <class 'pylabrobot.resources.tecan.tip_racks.TecanTipRack'>\n"
     ]
    },
    {
     "data": {
      "text/plain": [
       "{0: TipTracker(Channel 0, is_disabled=False, has_tip=False tip=None, pending_tip=None),\n",
       " 1: TipTracker(Channel 1, is_disabled=False, has_tip=False tip=None, pending_tip=None),\n",
       " 2: TipTracker(Channel 2, is_disabled=False, has_tip=False tip=None, pending_tip=None),\n",
       " 3: TipTracker(Channel 3, is_disabled=False, has_tip=False tip=None, pending_tip=None),\n",
       " 4: TipTracker(Channel 4, is_disabled=False, has_tip=False tip=None, pending_tip=None),\n",
       " 5: TipTracker(Channel 5, is_disabled=False, has_tip=False tip=None, pending_tip=None),\n",
       " 6: TipTracker(Channel 6, is_disabled=False, has_tip=False tip=None, pending_tip=None),\n",
       " 7: TipTracker(Channel 7, is_disabled=False, has_tip=False tip=None, pending_tip=None)}"
      ]
     },
     "execution_count": 70,
     "metadata": {},
     "output_type": "execute_result"
    }
   ],
   "source": [
    "# ADD RETURN TIP SEEMS TO WORK\n",
    "## TODO TEST WITH MULTIPLE TIPS\n",
    "await lh.return_tips(use_channels=[0], offsets=[Coordinate(-105, -105, 0)]) # not dropping at the correct point\n",
    "\n",
    "lh.head"
   ]
  },
  {
   "cell_type": "code",
   "execution_count": 55,
   "metadata": {},
   "outputs": [
    {
     "name": "stdout",
     "output_type": "stream",
     "text": [
      "Rail     Resource                   Type                Coordinates (mm)\n",
      "===============================================================================================\n",
      "(1)  ├── wash_station               TecanWashStation    Coordinate(087.500, -20.300, 000.000)\n",
      "     │   ├── wash_clean_deep        Trash               Coordinate(099.700, 086.400, 000.000)\n",
      "     │   ├── wash_waste             Trash               Coordinate(098.500, 160.400, 000.000)\n",
      "     │   ├── wash_clean_shallow     Trash               Coordinate(099.700, 261.400, 000.000)\n",
      "     │\n",
      "(7)  ├── tip carrier hang           TecanTipCarrier     Coordinate(238.000, -04.300, 000.000)\n",
      "     │   ├── tiprack_1              TecanTipRack        Coordinate(265.900, 140.600, -00.500)\n",
      "     │   ├── tiprack_2              TecanTipRack        Coordinate(263.500, 241.900, 037.100)\n",
      "     │   ├── <empty>\n",
      "\n"
     ]
    }
   ],
   "source": [
    "lh.summary()\n",
    "# lh.deck.get_resource(\"tiprack_1\")"
   ]
  },
  {
   "cell_type": "code",
   "execution_count": 65,
   "metadata": {},
   "outputs": [
    {
     "data": {
      "text/plain": [
       "[Trash(name=wash_clean_deep, location=Coordinate(000.000, 000.000, 000.000), size_x=12.0, size_y=73.0, size_z=140.0, category=trash),\n",
       " ResourceHolder(name=ResourceHolder_0, location=Coordinate(012.200, 106.700, 000.000), size_x=12.0, size_y=73.0, size_z=0, category=resource_holder),\n",
       " Trash(name=wash_waste, location=Coordinate(000.000, 000.000, 000.000), size_x=12.0, size_y=100.0, size_z=140.0, category=trash),\n",
       " ResourceHolder(name=ResourceHolder_1, location=Coordinate(011.000, 180.700, 000.000), size_x=12.0, size_y=100.0, size_z=0, category=resource_holder),\n",
       " Trash(name=wash_clean_shallow, location=Coordinate(000.000, 000.000, 000.000), size_x=12.0, size_y=73.0, size_z=140.0, category=trash),\n",
       " ResourceHolder(name=ResourceHolder_2, location=Coordinate(012.200, 281.700, 000.000), size_x=12.0, size_y=73.0, size_z=0, category=resource_holder),\n",
       " TecanWashStation(name=wash_station, location=Coordinate(087.500, -20.300, 000.000), size_x=25.0, size_y=390.0, size_z=0.0, category=tecan_wash_station),\n",
       " TipSpot(name=tiprack_1_tipspot_0_0, location=Coordinate(010.100, 070.400, -05.000), size_x=9.0, size_y=9.0, size_z=0, category=tip_spot),\n",
       " TipSpot(name=tiprack_1_tipspot_0_1, location=Coordinate(010.100, 061.400, -05.000), size_x=9.0, size_y=9.0, size_z=0, category=tip_spot),\n",
       " TipSpot(name=tiprack_1_tipspot_0_2, location=Coordinate(010.100, 052.400, -05.000), size_x=9.0, size_y=9.0, size_z=0, category=tip_spot),\n",
       " TipSpot(name=tiprack_1_tipspot_0_3, location=Coordinate(010.100, 043.400, -05.000), size_x=9.0, size_y=9.0, size_z=0, category=tip_spot),\n",
       " TipSpot(name=tiprack_1_tipspot_0_4, location=Coordinate(010.100, 034.400, -05.000), size_x=9.0, size_y=9.0, size_z=0, category=tip_spot),\n",
       " TipSpot(name=tiprack_1_tipspot_0_5, location=Coordinate(010.100, 025.400, -05.000), size_x=9.0, size_y=9.0, size_z=0, category=tip_spot),\n",
       " TipSpot(name=tiprack_1_tipspot_0_6, location=Coordinate(010.100, 016.400, -05.000), size_x=9.0, size_y=9.0, size_z=0, category=tip_spot),\n",
       " TipSpot(name=tiprack_1_tipspot_0_7, location=Coordinate(010.100, 007.400, -05.000), size_x=9.0, size_y=9.0, size_z=0, category=tip_spot),\n",
       " TipSpot(name=tiprack_1_tipspot_1_0, location=Coordinate(019.100, 070.400, -05.000), size_x=9.0, size_y=9.0, size_z=0, category=tip_spot),\n",
       " TipSpot(name=tiprack_1_tipspot_1_1, location=Coordinate(019.100, 061.400, -05.000), size_x=9.0, size_y=9.0, size_z=0, category=tip_spot),\n",
       " TipSpot(name=tiprack_1_tipspot_1_2, location=Coordinate(019.100, 052.400, -05.000), size_x=9.0, size_y=9.0, size_z=0, category=tip_spot),\n",
       " TipSpot(name=tiprack_1_tipspot_1_3, location=Coordinate(019.100, 043.400, -05.000), size_x=9.0, size_y=9.0, size_z=0, category=tip_spot),\n",
       " TipSpot(name=tiprack_1_tipspot_1_4, location=Coordinate(019.100, 034.400, -05.000), size_x=9.0, size_y=9.0, size_z=0, category=tip_spot),\n",
       " TipSpot(name=tiprack_1_tipspot_1_5, location=Coordinate(019.100, 025.400, -05.000), size_x=9.0, size_y=9.0, size_z=0, category=tip_spot),\n",
       " TipSpot(name=tiprack_1_tipspot_1_6, location=Coordinate(019.100, 016.400, -05.000), size_x=9.0, size_y=9.0, size_z=0, category=tip_spot),\n",
       " TipSpot(name=tiprack_1_tipspot_1_7, location=Coordinate(019.100, 007.400, -05.000), size_x=9.0, size_y=9.0, size_z=0, category=tip_spot),\n",
       " TipSpot(name=tiprack_1_tipspot_2_0, location=Coordinate(028.100, 070.400, -05.000), size_x=9.0, size_y=9.0, size_z=0, category=tip_spot),\n",
       " TipSpot(name=tiprack_1_tipspot_2_1, location=Coordinate(028.100, 061.400, -05.000), size_x=9.0, size_y=9.0, size_z=0, category=tip_spot),\n",
       " TipSpot(name=tiprack_1_tipspot_2_2, location=Coordinate(028.100, 052.400, -05.000), size_x=9.0, size_y=9.0, size_z=0, category=tip_spot),\n",
       " TipSpot(name=tiprack_1_tipspot_2_3, location=Coordinate(028.100, 043.400, -05.000), size_x=9.0, size_y=9.0, size_z=0, category=tip_spot),\n",
       " TipSpot(name=tiprack_1_tipspot_2_4, location=Coordinate(028.100, 034.400, -05.000), size_x=9.0, size_y=9.0, size_z=0, category=tip_spot),\n",
       " TipSpot(name=tiprack_1_tipspot_2_5, location=Coordinate(028.100, 025.400, -05.000), size_x=9.0, size_y=9.0, size_z=0, category=tip_spot),\n",
       " TipSpot(name=tiprack_1_tipspot_2_6, location=Coordinate(028.100, 016.400, -05.000), size_x=9.0, size_y=9.0, size_z=0, category=tip_spot),\n",
       " TipSpot(name=tiprack_1_tipspot_2_7, location=Coordinate(028.100, 007.400, -05.000), size_x=9.0, size_y=9.0, size_z=0, category=tip_spot),\n",
       " TipSpot(name=tiprack_1_tipspot_3_0, location=Coordinate(037.100, 070.400, -05.000), size_x=9.0, size_y=9.0, size_z=0, category=tip_spot),\n",
       " TipSpot(name=tiprack_1_tipspot_3_1, location=Coordinate(037.100, 061.400, -05.000), size_x=9.0, size_y=9.0, size_z=0, category=tip_spot),\n",
       " TipSpot(name=tiprack_1_tipspot_3_2, location=Coordinate(037.100, 052.400, -05.000), size_x=9.0, size_y=9.0, size_z=0, category=tip_spot),\n",
       " TipSpot(name=tiprack_1_tipspot_3_3, location=Coordinate(037.100, 043.400, -05.000), size_x=9.0, size_y=9.0, size_z=0, category=tip_spot),\n",
       " TipSpot(name=tiprack_1_tipspot_3_4, location=Coordinate(037.100, 034.400, -05.000), size_x=9.0, size_y=9.0, size_z=0, category=tip_spot),\n",
       " TipSpot(name=tiprack_1_tipspot_3_5, location=Coordinate(037.100, 025.400, -05.000), size_x=9.0, size_y=9.0, size_z=0, category=tip_spot),\n",
       " TipSpot(name=tiprack_1_tipspot_3_6, location=Coordinate(037.100, 016.400, -05.000), size_x=9.0, size_y=9.0, size_z=0, category=tip_spot),\n",
       " TipSpot(name=tiprack_1_tipspot_3_7, location=Coordinate(037.100, 007.400, -05.000), size_x=9.0, size_y=9.0, size_z=0, category=tip_spot),\n",
       " TipSpot(name=tiprack_1_tipspot_4_0, location=Coordinate(046.100, 070.400, -05.000), size_x=9.0, size_y=9.0, size_z=0, category=tip_spot),\n",
       " TipSpot(name=tiprack_1_tipspot_4_1, location=Coordinate(046.100, 061.400, -05.000), size_x=9.0, size_y=9.0, size_z=0, category=tip_spot),\n",
       " TipSpot(name=tiprack_1_tipspot_4_2, location=Coordinate(046.100, 052.400, -05.000), size_x=9.0, size_y=9.0, size_z=0, category=tip_spot),\n",
       " TipSpot(name=tiprack_1_tipspot_4_3, location=Coordinate(046.100, 043.400, -05.000), size_x=9.0, size_y=9.0, size_z=0, category=tip_spot),\n",
       " TipSpot(name=tiprack_1_tipspot_4_4, location=Coordinate(046.100, 034.400, -05.000), size_x=9.0, size_y=9.0, size_z=0, category=tip_spot),\n",
       " TipSpot(name=tiprack_1_tipspot_4_5, location=Coordinate(046.100, 025.400, -05.000), size_x=9.0, size_y=9.0, size_z=0, category=tip_spot),\n",
       " TipSpot(name=tiprack_1_tipspot_4_6, location=Coordinate(046.100, 016.400, -05.000), size_x=9.0, size_y=9.0, size_z=0, category=tip_spot),\n",
       " TipSpot(name=tiprack_1_tipspot_4_7, location=Coordinate(046.100, 007.400, -05.000), size_x=9.0, size_y=9.0, size_z=0, category=tip_spot),\n",
       " TipSpot(name=tiprack_1_tipspot_5_0, location=Coordinate(055.100, 070.400, -05.000), size_x=9.0, size_y=9.0, size_z=0, category=tip_spot),\n",
       " TipSpot(name=tiprack_1_tipspot_5_1, location=Coordinate(055.100, 061.400, -05.000), size_x=9.0, size_y=9.0, size_z=0, category=tip_spot),\n",
       " TipSpot(name=tiprack_1_tipspot_5_2, location=Coordinate(055.100, 052.400, -05.000), size_x=9.0, size_y=9.0, size_z=0, category=tip_spot),\n",
       " TipSpot(name=tiprack_1_tipspot_5_3, location=Coordinate(055.100, 043.400, -05.000), size_x=9.0, size_y=9.0, size_z=0, category=tip_spot),\n",
       " TipSpot(name=tiprack_1_tipspot_5_4, location=Coordinate(055.100, 034.400, -05.000), size_x=9.0, size_y=9.0, size_z=0, category=tip_spot),\n",
       " TipSpot(name=tiprack_1_tipspot_5_5, location=Coordinate(055.100, 025.400, -05.000), size_x=9.0, size_y=9.0, size_z=0, category=tip_spot),\n",
       " TipSpot(name=tiprack_1_tipspot_5_6, location=Coordinate(055.100, 016.400, -05.000), size_x=9.0, size_y=9.0, size_z=0, category=tip_spot),\n",
       " TipSpot(name=tiprack_1_tipspot_5_7, location=Coordinate(055.100, 007.400, -05.000), size_x=9.0, size_y=9.0, size_z=0, category=tip_spot),\n",
       " TipSpot(name=tiprack_1_tipspot_6_0, location=Coordinate(064.100, 070.400, -05.000), size_x=9.0, size_y=9.0, size_z=0, category=tip_spot),\n",
       " TipSpot(name=tiprack_1_tipspot_6_1, location=Coordinate(064.100, 061.400, -05.000), size_x=9.0, size_y=9.0, size_z=0, category=tip_spot),\n",
       " TipSpot(name=tiprack_1_tipspot_6_2, location=Coordinate(064.100, 052.400, -05.000), size_x=9.0, size_y=9.0, size_z=0, category=tip_spot),\n",
       " TipSpot(name=tiprack_1_tipspot_6_3, location=Coordinate(064.100, 043.400, -05.000), size_x=9.0, size_y=9.0, size_z=0, category=tip_spot),\n",
       " TipSpot(name=tiprack_1_tipspot_6_4, location=Coordinate(064.100, 034.400, -05.000), size_x=9.0, size_y=9.0, size_z=0, category=tip_spot),\n",
       " TipSpot(name=tiprack_1_tipspot_6_5, location=Coordinate(064.100, 025.400, -05.000), size_x=9.0, size_y=9.0, size_z=0, category=tip_spot),\n",
       " TipSpot(name=tiprack_1_tipspot_6_6, location=Coordinate(064.100, 016.400, -05.000), size_x=9.0, size_y=9.0, size_z=0, category=tip_spot),\n",
       " TipSpot(name=tiprack_1_tipspot_6_7, location=Coordinate(064.100, 007.400, -05.000), size_x=9.0, size_y=9.0, size_z=0, category=tip_spot),\n",
       " TipSpot(name=tiprack_1_tipspot_7_0, location=Coordinate(073.100, 070.400, -05.000), size_x=9.0, size_y=9.0, size_z=0, category=tip_spot),\n",
       " TipSpot(name=tiprack_1_tipspot_7_1, location=Coordinate(073.100, 061.400, -05.000), size_x=9.0, size_y=9.0, size_z=0, category=tip_spot),\n",
       " TipSpot(name=tiprack_1_tipspot_7_2, location=Coordinate(073.100, 052.400, -05.000), size_x=9.0, size_y=9.0, size_z=0, category=tip_spot),\n",
       " TipSpot(name=tiprack_1_tipspot_7_3, location=Coordinate(073.100, 043.400, -05.000), size_x=9.0, size_y=9.0, size_z=0, category=tip_spot),\n",
       " TipSpot(name=tiprack_1_tipspot_7_4, location=Coordinate(073.100, 034.400, -05.000), size_x=9.0, size_y=9.0, size_z=0, category=tip_spot),\n",
       " TipSpot(name=tiprack_1_tipspot_7_5, location=Coordinate(073.100, 025.400, -05.000), size_x=9.0, size_y=9.0, size_z=0, category=tip_spot),\n",
       " TipSpot(name=tiprack_1_tipspot_7_6, location=Coordinate(073.100, 016.400, -05.000), size_x=9.0, size_y=9.0, size_z=0, category=tip_spot),\n",
       " TipSpot(name=tiprack_1_tipspot_7_7, location=Coordinate(073.100, 007.400, -05.000), size_x=9.0, size_y=9.0, size_z=0, category=tip_spot),\n",
       " TipSpot(name=tiprack_1_tipspot_8_0, location=Coordinate(082.100, 070.400, -05.000), size_x=9.0, size_y=9.0, size_z=0, category=tip_spot),\n",
       " TipSpot(name=tiprack_1_tipspot_8_1, location=Coordinate(082.100, 061.400, -05.000), size_x=9.0, size_y=9.0, size_z=0, category=tip_spot),\n",
       " TipSpot(name=tiprack_1_tipspot_8_2, location=Coordinate(082.100, 052.400, -05.000), size_x=9.0, size_y=9.0, size_z=0, category=tip_spot),\n",
       " TipSpot(name=tiprack_1_tipspot_8_3, location=Coordinate(082.100, 043.400, -05.000), size_x=9.0, size_y=9.0, size_z=0, category=tip_spot),\n",
       " TipSpot(name=tiprack_1_tipspot_8_4, location=Coordinate(082.100, 034.400, -05.000), size_x=9.0, size_y=9.0, size_z=0, category=tip_spot),\n",
       " TipSpot(name=tiprack_1_tipspot_8_5, location=Coordinate(082.100, 025.400, -05.000), size_x=9.0, size_y=9.0, size_z=0, category=tip_spot),\n",
       " TipSpot(name=tiprack_1_tipspot_8_6, location=Coordinate(082.100, 016.400, -05.000), size_x=9.0, size_y=9.0, size_z=0, category=tip_spot),\n",
       " TipSpot(name=tiprack_1_tipspot_8_7, location=Coordinate(082.100, 007.400, -05.000), size_x=9.0, size_y=9.0, size_z=0, category=tip_spot),\n",
       " TipSpot(name=tiprack_1_tipspot_9_0, location=Coordinate(091.100, 070.400, -05.000), size_x=9.0, size_y=9.0, size_z=0, category=tip_spot),\n",
       " TipSpot(name=tiprack_1_tipspot_9_1, location=Coordinate(091.100, 061.400, -05.000), size_x=9.0, size_y=9.0, size_z=0, category=tip_spot),\n",
       " TipSpot(name=tiprack_1_tipspot_9_2, location=Coordinate(091.100, 052.400, -05.000), size_x=9.0, size_y=9.0, size_z=0, category=tip_spot),\n",
       " TipSpot(name=tiprack_1_tipspot_9_3, location=Coordinate(091.100, 043.400, -05.000), size_x=9.0, size_y=9.0, size_z=0, category=tip_spot),\n",
       " TipSpot(name=tiprack_1_tipspot_9_4, location=Coordinate(091.100, 034.400, -05.000), size_x=9.0, size_y=9.0, size_z=0, category=tip_spot),\n",
       " TipSpot(name=tiprack_1_tipspot_9_5, location=Coordinate(091.100, 025.400, -05.000), size_x=9.0, size_y=9.0, size_z=0, category=tip_spot),\n",
       " TipSpot(name=tiprack_1_tipspot_9_6, location=Coordinate(091.100, 016.400, -05.000), size_x=9.0, size_y=9.0, size_z=0, category=tip_spot),\n",
       " TipSpot(name=tiprack_1_tipspot_9_7, location=Coordinate(091.100, 007.400, -05.000), size_x=9.0, size_y=9.0, size_z=0, category=tip_spot),\n",
       " TipSpot(name=tiprack_1_tipspot_10_0, location=Coordinate(100.100, 070.400, -05.000), size_x=9.0, size_y=9.0, size_z=0, category=tip_spot),\n",
       " TipSpot(name=tiprack_1_tipspot_10_1, location=Coordinate(100.100, 061.400, -05.000), size_x=9.0, size_y=9.0, size_z=0, category=tip_spot),\n",
       " TipSpot(name=tiprack_1_tipspot_10_2, location=Coordinate(100.100, 052.400, -05.000), size_x=9.0, size_y=9.0, size_z=0, category=tip_spot),\n",
       " TipSpot(name=tiprack_1_tipspot_10_3, location=Coordinate(100.100, 043.400, -05.000), size_x=9.0, size_y=9.0, size_z=0, category=tip_spot),\n",
       " TipSpot(name=tiprack_1_tipspot_10_4, location=Coordinate(100.100, 034.400, -05.000), size_x=9.0, size_y=9.0, size_z=0, category=tip_spot),\n",
       " TipSpot(name=tiprack_1_tipspot_10_5, location=Coordinate(100.100, 025.400, -05.000), size_x=9.0, size_y=9.0, size_z=0, category=tip_spot),\n",
       " TipSpot(name=tiprack_1_tipspot_10_6, location=Coordinate(100.100, 016.400, -05.000), size_x=9.0, size_y=9.0, size_z=0, category=tip_spot),\n",
       " TipSpot(name=tiprack_1_tipspot_10_7, location=Coordinate(100.100, 007.400, -05.000), size_x=9.0, size_y=9.0, size_z=0, category=tip_spot),\n",
       " TipSpot(name=tiprack_1_tipspot_11_0, location=Coordinate(109.100, 070.400, -05.000), size_x=9.0, size_y=9.0, size_z=0, category=tip_spot),\n",
       " TipSpot(name=tiprack_1_tipspot_11_1, location=Coordinate(109.100, 061.400, -05.000), size_x=9.0, size_y=9.0, size_z=0, category=tip_spot),\n",
       " TipSpot(name=tiprack_1_tipspot_11_2, location=Coordinate(109.100, 052.400, -05.000), size_x=9.0, size_y=9.0, size_z=0, category=tip_spot),\n",
       " TipSpot(name=tiprack_1_tipspot_11_3, location=Coordinate(109.100, 043.400, -05.000), size_x=9.0, size_y=9.0, size_z=0, category=tip_spot),\n",
       " TipSpot(name=tiprack_1_tipspot_11_4, location=Coordinate(109.100, 034.400, -05.000), size_x=9.0, size_y=9.0, size_z=0, category=tip_spot),\n",
       " TipSpot(name=tiprack_1_tipspot_11_5, location=Coordinate(109.100, 025.400, -05.000), size_x=9.0, size_y=9.0, size_z=0, category=tip_spot),\n",
       " TipSpot(name=tiprack_1_tipspot_11_6, location=Coordinate(109.100, 016.400, -05.000), size_x=9.0, size_y=9.0, size_z=0, category=tip_spot),\n",
       " TipSpot(name=tiprack_1_tipspot_11_7, location=Coordinate(109.100, 007.400, -05.000), size_x=9.0, size_y=9.0, size_z=0, category=tip_spot),\n",
       " TecanTipRack(name=tiprack_1, size_x=128.2, size_y=86.8, size_z=30.0, location=Coordinate(000.000, 000.000, 000.000)),\n",
       " ResourceHolder(name=tip carrier hang-0, location=Coordinate(013.300, 070.000, 004.500), size_x=127.0, size_y=88.5, size_z=0, category=resource_holder),\n",
       " TipSpot(name=tiprack_2_tipspot_0_0, location=Coordinate(007.700, 071.700, 032.600), size_x=9.0, size_y=9.0, size_z=0, category=tip_spot),\n",
       " TipSpot(name=tiprack_2_tipspot_0_1, location=Coordinate(007.700, 062.700, 032.600), size_x=9.0, size_y=9.0, size_z=0, category=tip_spot),\n",
       " TipSpot(name=tiprack_2_tipspot_0_2, location=Coordinate(007.700, 053.700, 032.600), size_x=9.0, size_y=9.0, size_z=0, category=tip_spot),\n",
       " TipSpot(name=tiprack_2_tipspot_0_3, location=Coordinate(007.700, 044.700, 032.600), size_x=9.0, size_y=9.0, size_z=0, category=tip_spot),\n",
       " TipSpot(name=tiprack_2_tipspot_0_4, location=Coordinate(007.700, 035.700, 032.600), size_x=9.0, size_y=9.0, size_z=0, category=tip_spot),\n",
       " TipSpot(name=tiprack_2_tipspot_0_5, location=Coordinate(007.700, 026.700, 032.600), size_x=9.0, size_y=9.0, size_z=0, category=tip_spot),\n",
       " TipSpot(name=tiprack_2_tipspot_0_6, location=Coordinate(007.700, 017.700, 032.600), size_x=9.0, size_y=9.0, size_z=0, category=tip_spot),\n",
       " TipSpot(name=tiprack_2_tipspot_0_7, location=Coordinate(007.700, 008.700, 032.600), size_x=9.0, size_y=9.0, size_z=0, category=tip_spot),\n",
       " TipSpot(name=tiprack_2_tipspot_1_0, location=Coordinate(016.700, 071.700, 032.600), size_x=9.0, size_y=9.0, size_z=0, category=tip_spot),\n",
       " TipSpot(name=tiprack_2_tipspot_1_1, location=Coordinate(016.700, 062.700, 032.600), size_x=9.0, size_y=9.0, size_z=0, category=tip_spot),\n",
       " TipSpot(name=tiprack_2_tipspot_1_2, location=Coordinate(016.700, 053.700, 032.600), size_x=9.0, size_y=9.0, size_z=0, category=tip_spot),\n",
       " TipSpot(name=tiprack_2_tipspot_1_3, location=Coordinate(016.700, 044.700, 032.600), size_x=9.0, size_y=9.0, size_z=0, category=tip_spot),\n",
       " TipSpot(name=tiprack_2_tipspot_1_4, location=Coordinate(016.700, 035.700, 032.600), size_x=9.0, size_y=9.0, size_z=0, category=tip_spot),\n",
       " TipSpot(name=tiprack_2_tipspot_1_5, location=Coordinate(016.700, 026.700, 032.600), size_x=9.0, size_y=9.0, size_z=0, category=tip_spot),\n",
       " TipSpot(name=tiprack_2_tipspot_1_6, location=Coordinate(016.700, 017.700, 032.600), size_x=9.0, size_y=9.0, size_z=0, category=tip_spot),\n",
       " TipSpot(name=tiprack_2_tipspot_1_7, location=Coordinate(016.700, 008.700, 032.600), size_x=9.0, size_y=9.0, size_z=0, category=tip_spot),\n",
       " TipSpot(name=tiprack_2_tipspot_2_0, location=Coordinate(025.700, 071.700, 032.600), size_x=9.0, size_y=9.0, size_z=0, category=tip_spot),\n",
       " TipSpot(name=tiprack_2_tipspot_2_1, location=Coordinate(025.700, 062.700, 032.600), size_x=9.0, size_y=9.0, size_z=0, category=tip_spot),\n",
       " TipSpot(name=tiprack_2_tipspot_2_2, location=Coordinate(025.700, 053.700, 032.600), size_x=9.0, size_y=9.0, size_z=0, category=tip_spot),\n",
       " TipSpot(name=tiprack_2_tipspot_2_3, location=Coordinate(025.700, 044.700, 032.600), size_x=9.0, size_y=9.0, size_z=0, category=tip_spot),\n",
       " TipSpot(name=tiprack_2_tipspot_2_4, location=Coordinate(025.700, 035.700, 032.600), size_x=9.0, size_y=9.0, size_z=0, category=tip_spot),\n",
       " TipSpot(name=tiprack_2_tipspot_2_5, location=Coordinate(025.700, 026.700, 032.600), size_x=9.0, size_y=9.0, size_z=0, category=tip_spot),\n",
       " TipSpot(name=tiprack_2_tipspot_2_6, location=Coordinate(025.700, 017.700, 032.600), size_x=9.0, size_y=9.0, size_z=0, category=tip_spot),\n",
       " TipSpot(name=tiprack_2_tipspot_2_7, location=Coordinate(025.700, 008.700, 032.600), size_x=9.0, size_y=9.0, size_z=0, category=tip_spot),\n",
       " TipSpot(name=tiprack_2_tipspot_3_0, location=Coordinate(034.700, 071.700, 032.600), size_x=9.0, size_y=9.0, size_z=0, category=tip_spot),\n",
       " TipSpot(name=tiprack_2_tipspot_3_1, location=Coordinate(034.700, 062.700, 032.600), size_x=9.0, size_y=9.0, size_z=0, category=tip_spot),\n",
       " TipSpot(name=tiprack_2_tipspot_3_2, location=Coordinate(034.700, 053.700, 032.600), size_x=9.0, size_y=9.0, size_z=0, category=tip_spot),\n",
       " TipSpot(name=tiprack_2_tipspot_3_3, location=Coordinate(034.700, 044.700, 032.600), size_x=9.0, size_y=9.0, size_z=0, category=tip_spot),\n",
       " TipSpot(name=tiprack_2_tipspot_3_4, location=Coordinate(034.700, 035.700, 032.600), size_x=9.0, size_y=9.0, size_z=0, category=tip_spot),\n",
       " TipSpot(name=tiprack_2_tipspot_3_5, location=Coordinate(034.700, 026.700, 032.600), size_x=9.0, size_y=9.0, size_z=0, category=tip_spot),\n",
       " TipSpot(name=tiprack_2_tipspot_3_6, location=Coordinate(034.700, 017.700, 032.600), size_x=9.0, size_y=9.0, size_z=0, category=tip_spot),\n",
       " TipSpot(name=tiprack_2_tipspot_3_7, location=Coordinate(034.700, 008.700, 032.600), size_x=9.0, size_y=9.0, size_z=0, category=tip_spot),\n",
       " TipSpot(name=tiprack_2_tipspot_4_0, location=Coordinate(043.700, 071.700, 032.600), size_x=9.0, size_y=9.0, size_z=0, category=tip_spot),\n",
       " TipSpot(name=tiprack_2_tipspot_4_1, location=Coordinate(043.700, 062.700, 032.600), size_x=9.0, size_y=9.0, size_z=0, category=tip_spot),\n",
       " TipSpot(name=tiprack_2_tipspot_4_2, location=Coordinate(043.700, 053.700, 032.600), size_x=9.0, size_y=9.0, size_z=0, category=tip_spot),\n",
       " TipSpot(name=tiprack_2_tipspot_4_3, location=Coordinate(043.700, 044.700, 032.600), size_x=9.0, size_y=9.0, size_z=0, category=tip_spot),\n",
       " TipSpot(name=tiprack_2_tipspot_4_4, location=Coordinate(043.700, 035.700, 032.600), size_x=9.0, size_y=9.0, size_z=0, category=tip_spot),\n",
       " TipSpot(name=tiprack_2_tipspot_4_5, location=Coordinate(043.700, 026.700, 032.600), size_x=9.0, size_y=9.0, size_z=0, category=tip_spot),\n",
       " TipSpot(name=tiprack_2_tipspot_4_6, location=Coordinate(043.700, 017.700, 032.600), size_x=9.0, size_y=9.0, size_z=0, category=tip_spot),\n",
       " TipSpot(name=tiprack_2_tipspot_4_7, location=Coordinate(043.700, 008.700, 032.600), size_x=9.0, size_y=9.0, size_z=0, category=tip_spot),\n",
       " TipSpot(name=tiprack_2_tipspot_5_0, location=Coordinate(052.700, 071.700, 032.600), size_x=9.0, size_y=9.0, size_z=0, category=tip_spot),\n",
       " TipSpot(name=tiprack_2_tipspot_5_1, location=Coordinate(052.700, 062.700, 032.600), size_x=9.0, size_y=9.0, size_z=0, category=tip_spot),\n",
       " TipSpot(name=tiprack_2_tipspot_5_2, location=Coordinate(052.700, 053.700, 032.600), size_x=9.0, size_y=9.0, size_z=0, category=tip_spot),\n",
       " TipSpot(name=tiprack_2_tipspot_5_3, location=Coordinate(052.700, 044.700, 032.600), size_x=9.0, size_y=9.0, size_z=0, category=tip_spot),\n",
       " TipSpot(name=tiprack_2_tipspot_5_4, location=Coordinate(052.700, 035.700, 032.600), size_x=9.0, size_y=9.0, size_z=0, category=tip_spot),\n",
       " TipSpot(name=tiprack_2_tipspot_5_5, location=Coordinate(052.700, 026.700, 032.600), size_x=9.0, size_y=9.0, size_z=0, category=tip_spot),\n",
       " TipSpot(name=tiprack_2_tipspot_5_6, location=Coordinate(052.700, 017.700, 032.600), size_x=9.0, size_y=9.0, size_z=0, category=tip_spot),\n",
       " TipSpot(name=tiprack_2_tipspot_5_7, location=Coordinate(052.700, 008.700, 032.600), size_x=9.0, size_y=9.0, size_z=0, category=tip_spot),\n",
       " TipSpot(name=tiprack_2_tipspot_6_0, location=Coordinate(061.700, 071.700, 032.600), size_x=9.0, size_y=9.0, size_z=0, category=tip_spot),\n",
       " TipSpot(name=tiprack_2_tipspot_6_1, location=Coordinate(061.700, 062.700, 032.600), size_x=9.0, size_y=9.0, size_z=0, category=tip_spot),\n",
       " TipSpot(name=tiprack_2_tipspot_6_2, location=Coordinate(061.700, 053.700, 032.600), size_x=9.0, size_y=9.0, size_z=0, category=tip_spot),\n",
       " TipSpot(name=tiprack_2_tipspot_6_3, location=Coordinate(061.700, 044.700, 032.600), size_x=9.0, size_y=9.0, size_z=0, category=tip_spot),\n",
       " TipSpot(name=tiprack_2_tipspot_6_4, location=Coordinate(061.700, 035.700, 032.600), size_x=9.0, size_y=9.0, size_z=0, category=tip_spot),\n",
       " TipSpot(name=tiprack_2_tipspot_6_5, location=Coordinate(061.700, 026.700, 032.600), size_x=9.0, size_y=9.0, size_z=0, category=tip_spot),\n",
       " TipSpot(name=tiprack_2_tipspot_6_6, location=Coordinate(061.700, 017.700, 032.600), size_x=9.0, size_y=9.0, size_z=0, category=tip_spot),\n",
       " TipSpot(name=tiprack_2_tipspot_6_7, location=Coordinate(061.700, 008.700, 032.600), size_x=9.0, size_y=9.0, size_z=0, category=tip_spot),\n",
       " TipSpot(name=tiprack_2_tipspot_7_0, location=Coordinate(070.700, 071.700, 032.600), size_x=9.0, size_y=9.0, size_z=0, category=tip_spot),\n",
       " TipSpot(name=tiprack_2_tipspot_7_1, location=Coordinate(070.700, 062.700, 032.600), size_x=9.0, size_y=9.0, size_z=0, category=tip_spot),\n",
       " TipSpot(name=tiprack_2_tipspot_7_2, location=Coordinate(070.700, 053.700, 032.600), size_x=9.0, size_y=9.0, size_z=0, category=tip_spot),\n",
       " TipSpot(name=tiprack_2_tipspot_7_3, location=Coordinate(070.700, 044.700, 032.600), size_x=9.0, size_y=9.0, size_z=0, category=tip_spot),\n",
       " TipSpot(name=tiprack_2_tipspot_7_4, location=Coordinate(070.700, 035.700, 032.600), size_x=9.0, size_y=9.0, size_z=0, category=tip_spot),\n",
       " TipSpot(name=tiprack_2_tipspot_7_5, location=Coordinate(070.700, 026.700, 032.600), size_x=9.0, size_y=9.0, size_z=0, category=tip_spot),\n",
       " TipSpot(name=tiprack_2_tipspot_7_6, location=Coordinate(070.700, 017.700, 032.600), size_x=9.0, size_y=9.0, size_z=0, category=tip_spot),\n",
       " TipSpot(name=tiprack_2_tipspot_7_7, location=Coordinate(070.700, 008.700, 032.600), size_x=9.0, size_y=9.0, size_z=0, category=tip_spot),\n",
       " TipSpot(name=tiprack_2_tipspot_8_0, location=Coordinate(079.700, 071.700, 032.600), size_x=9.0, size_y=9.0, size_z=0, category=tip_spot),\n",
       " TipSpot(name=tiprack_2_tipspot_8_1, location=Coordinate(079.700, 062.700, 032.600), size_x=9.0, size_y=9.0, size_z=0, category=tip_spot),\n",
       " TipSpot(name=tiprack_2_tipspot_8_2, location=Coordinate(079.700, 053.700, 032.600), size_x=9.0, size_y=9.0, size_z=0, category=tip_spot),\n",
       " TipSpot(name=tiprack_2_tipspot_8_3, location=Coordinate(079.700, 044.700, 032.600), size_x=9.0, size_y=9.0, size_z=0, category=tip_spot),\n",
       " TipSpot(name=tiprack_2_tipspot_8_4, location=Coordinate(079.700, 035.700, 032.600), size_x=9.0, size_y=9.0, size_z=0, category=tip_spot),\n",
       " TipSpot(name=tiprack_2_tipspot_8_5, location=Coordinate(079.700, 026.700, 032.600), size_x=9.0, size_y=9.0, size_z=0, category=tip_spot),\n",
       " TipSpot(name=tiprack_2_tipspot_8_6, location=Coordinate(079.700, 017.700, 032.600), size_x=9.0, size_y=9.0, size_z=0, category=tip_spot),\n",
       " TipSpot(name=tiprack_2_tipspot_8_7, location=Coordinate(079.700, 008.700, 032.600), size_x=9.0, size_y=9.0, size_z=0, category=tip_spot),\n",
       " TipSpot(name=tiprack_2_tipspot_9_0, location=Coordinate(088.700, 071.700, 032.600), size_x=9.0, size_y=9.0, size_z=0, category=tip_spot),\n",
       " TipSpot(name=tiprack_2_tipspot_9_1, location=Coordinate(088.700, 062.700, 032.600), size_x=9.0, size_y=9.0, size_z=0, category=tip_spot),\n",
       " TipSpot(name=tiprack_2_tipspot_9_2, location=Coordinate(088.700, 053.700, 032.600), size_x=9.0, size_y=9.0, size_z=0, category=tip_spot),\n",
       " TipSpot(name=tiprack_2_tipspot_9_3, location=Coordinate(088.700, 044.700, 032.600), size_x=9.0, size_y=9.0, size_z=0, category=tip_spot),\n",
       " TipSpot(name=tiprack_2_tipspot_9_4, location=Coordinate(088.700, 035.700, 032.600), size_x=9.0, size_y=9.0, size_z=0, category=tip_spot),\n",
       " TipSpot(name=tiprack_2_tipspot_9_5, location=Coordinate(088.700, 026.700, 032.600), size_x=9.0, size_y=9.0, size_z=0, category=tip_spot),\n",
       " TipSpot(name=tiprack_2_tipspot_9_6, location=Coordinate(088.700, 017.700, 032.600), size_x=9.0, size_y=9.0, size_z=0, category=tip_spot),\n",
       " TipSpot(name=tiprack_2_tipspot_9_7, location=Coordinate(088.700, 008.700, 032.600), size_x=9.0, size_y=9.0, size_z=0, category=tip_spot),\n",
       " TipSpot(name=tiprack_2_tipspot_10_0, location=Coordinate(097.700, 071.700, 032.600), size_x=9.0, size_y=9.0, size_z=0, category=tip_spot),\n",
       " TipSpot(name=tiprack_2_tipspot_10_1, location=Coordinate(097.700, 062.700, 032.600), size_x=9.0, size_y=9.0, size_z=0, category=tip_spot),\n",
       " TipSpot(name=tiprack_2_tipspot_10_2, location=Coordinate(097.700, 053.700, 032.600), size_x=9.0, size_y=9.0, size_z=0, category=tip_spot),\n",
       " TipSpot(name=tiprack_2_tipspot_10_3, location=Coordinate(097.700, 044.700, 032.600), size_x=9.0, size_y=9.0, size_z=0, category=tip_spot),\n",
       " TipSpot(name=tiprack_2_tipspot_10_4, location=Coordinate(097.700, 035.700, 032.600), size_x=9.0, size_y=9.0, size_z=0, category=tip_spot),\n",
       " TipSpot(name=tiprack_2_tipspot_10_5, location=Coordinate(097.700, 026.700, 032.600), size_x=9.0, size_y=9.0, size_z=0, category=tip_spot),\n",
       " TipSpot(name=tiprack_2_tipspot_10_6, location=Coordinate(097.700, 017.700, 032.600), size_x=9.0, size_y=9.0, size_z=0, category=tip_spot),\n",
       " TipSpot(name=tiprack_2_tipspot_10_7, location=Coordinate(097.700, 008.700, 032.600), size_x=9.0, size_y=9.0, size_z=0, category=tip_spot),\n",
       " TipSpot(name=tiprack_2_tipspot_11_0, location=Coordinate(106.700, 071.700, 032.600), size_x=9.0, size_y=9.0, size_z=0, category=tip_spot),\n",
       " TipSpot(name=tiprack_2_tipspot_11_1, location=Coordinate(106.700, 062.700, 032.600), size_x=9.0, size_y=9.0, size_z=0, category=tip_spot),\n",
       " TipSpot(name=tiprack_2_tipspot_11_2, location=Coordinate(106.700, 053.700, 032.600), size_x=9.0, size_y=9.0, size_z=0, category=tip_spot),\n",
       " TipSpot(name=tiprack_2_tipspot_11_3, location=Coordinate(106.700, 044.700, 032.600), size_x=9.0, size_y=9.0, size_z=0, category=tip_spot),\n",
       " TipSpot(name=tiprack_2_tipspot_11_4, location=Coordinate(106.700, 035.700, 032.600), size_x=9.0, size_y=9.0, size_z=0, category=tip_spot),\n",
       " TipSpot(name=tiprack_2_tipspot_11_5, location=Coordinate(106.700, 026.700, 032.600), size_x=9.0, size_y=9.0, size_z=0, category=tip_spot),\n",
       " TipSpot(name=tiprack_2_tipspot_11_6, location=Coordinate(106.700, 017.700, 032.600), size_x=9.0, size_y=9.0, size_z=0, category=tip_spot),\n",
       " TipSpot(name=tiprack_2_tipspot_11_7, location=Coordinate(106.700, 008.700, 032.600), size_x=9.0, size_y=9.0, size_z=0, category=tip_spot),\n",
       " TecanTipRack(name=tiprack_2, size_x=123.4, size_y=89.4, size_z=22.2, location=Coordinate(000.000, 000.000, 000.000)),\n",
       " ResourceHolder(name=tip carrier hang-1, location=Coordinate(013.300, 170.000, 004.500), size_x=127.0, size_y=88.5, size_z=0, category=resource_holder),\n",
       " ResourceHolder(name=tip carrier hang-2, location=Coordinate(013.300, 270.000, 004.500), size_x=127.0, size_y=88.5, size_z=0, category=resource_holder),\n",
       " TecanTipCarrier(name=tip carrier hang, location=Coordinate(238.000, -04.300, 000.000), size_x=149.0, size_y=374.0, size_z=4.5, category=tecan_tip_carrier)]"
      ]
     },
     "execution_count": 65,
     "metadata": {},
     "output_type": "execute_result"
    }
   ],
   "source": [
    "lh.deck.get_all_resources()\n",
    "# lh.deck.get_resource(\"tiprack_1\")"
   ]
  },
  {
   "cell_type": "code",
   "execution_count": 68,
   "metadata": {},
   "outputs": [
    {
     "data": {
      "text/plain": [
       "TipSpot(name=tiprack_2_tipspot_5_1, location=Coordinate(052.700, 062.700, 032.600), size_x=9.0, size_y=9.0, size_z=0, category=tip_spot)"
      ]
     },
     "execution_count": 68,
     "metadata": {},
     "output_type": "execute_result"
    }
   ],
   "source": [
    "lh.deck.get_resource(\"tiprack_2_tipspot_5_1\")"
   ]
  },
  {
   "cell_type": "code",
   "execution_count": null,
   "metadata": {},
   "outputs": [
    {
     "name": "stdout",
     "output_type": "stream",
     "text": [
      "8\n"
     ]
    }
   ],
   "source": [
    "# TODO NOW ADD TRASH AS CONTAINER\n",
    "# lh.deck.get_trash_area()"
   ]
  },
  {
   "cell_type": "code",
   "execution_count": null,
   "metadata": {},
   "outputs": [
    {
     "name": "stderr",
     "output_type": "stream",
     "text": [
      "[autoreload of pylabrobot.resources.corning_axygen.plates failed: Traceback (most recent call last):\n",
      "  File \"C:\\Users\\vikmol\\AppData\\Roaming\\Python\\Python310\\site-packages\\IPython\\extensions\\autoreload.py\", line 276, in check\n",
      "    superreload(m, reload, self.old_objects)\n",
      "  File \"C:\\Users\\vikmol\\AppData\\Roaming\\Python\\Python310\\site-packages\\IPython\\extensions\\autoreload.py\", line 475, in superreload\n",
      "    module = reload(module)\n",
      "  File \"c:\\Users\\vikmol\\AppData\\Local\\Programs\\Python\\Python310\\lib\\importlib\\__init__.py\", line 169, in reload\n",
      "    _bootstrap._exec(spec, module)\n",
      "  File \"<frozen importlib._bootstrap>\", line 619, in _exec\n",
      "  File \"<frozen importlib._bootstrap_external>\", line 883, in exec_module\n",
      "  File \"<frozen importlib._bootstrap>\", line 241, in _call_with_frames_removed\n",
      "  File \"C:\\Users\\vikmol\\Documents\\GitHub\\pylabrobot\\pylabrobot\\resources\\corning_axygen\\plates.py\", line 1, in <module>\n",
      "    raise NotImplementedError(\n",
      "NotImplementedError: pylabrobot.resources.corning_axygen is deprecated. Please use pylabrobot.resources.corning.axygen instead.\n",
      "]\n",
      "[autoreload of pylabrobot.resources.corning_axygen failed: Traceback (most recent call last):\n",
      "  File \"C:\\Users\\vikmol\\AppData\\Roaming\\Python\\Python310\\site-packages\\IPython\\extensions\\autoreload.py\", line 276, in check\n",
      "    superreload(m, reload, self.old_objects)\n",
      "  File \"C:\\Users\\vikmol\\AppData\\Roaming\\Python\\Python310\\site-packages\\IPython\\extensions\\autoreload.py\", line 475, in superreload\n",
      "    module = reload(module)\n",
      "  File \"c:\\Users\\vikmol\\AppData\\Local\\Programs\\Python\\Python310\\lib\\importlib\\__init__.py\", line 169, in reload\n",
      "    _bootstrap._exec(spec, module)\n",
      "  File \"<frozen importlib._bootstrap>\", line 619, in _exec\n",
      "  File \"<frozen importlib._bootstrap_external>\", line 883, in exec_module\n",
      "  File \"<frozen importlib._bootstrap>\", line 241, in _call_with_frames_removed\n",
      "  File \"C:\\Users\\vikmol\\Documents\\GitHub\\pylabrobot\\pylabrobot\\resources\\corning_axygen\\__init__.py\", line 1, in <module>\n",
      "    raise NotImplementedError(\n",
      "NotImplementedError: pylabrobot.resources.corning_axygen is deprecated. Please use pylabrobot.resources.corning.axygen instead.\n",
      "]\n",
      "[autoreload of pylabrobot.resources.corning_costar.plates failed: Traceback (most recent call last):\n",
      "  File \"C:\\Users\\vikmol\\AppData\\Roaming\\Python\\Python310\\site-packages\\IPython\\extensions\\autoreload.py\", line 276, in check\n",
      "    superreload(m, reload, self.old_objects)\n",
      "  File \"C:\\Users\\vikmol\\AppData\\Roaming\\Python\\Python310\\site-packages\\IPython\\extensions\\autoreload.py\", line 475, in superreload\n",
      "    module = reload(module)\n",
      "  File \"c:\\Users\\vikmol\\AppData\\Local\\Programs\\Python\\Python310\\lib\\importlib\\__init__.py\", line 169, in reload\n",
      "    _bootstrap._exec(spec, module)\n",
      "  File \"<frozen importlib._bootstrap>\", line 619, in _exec\n",
      "  File \"<frozen importlib._bootstrap_external>\", line 883, in exec_module\n",
      "  File \"<frozen importlib._bootstrap>\", line 241, in _call_with_frames_removed\n",
      "  File \"C:\\Users\\vikmol\\Documents\\GitHub\\pylabrobot\\pylabrobot\\resources\\corning_costar\\plates.py\", line 1, in <module>\n",
      "    raise NotImplementedError(\n",
      "NotImplementedError: pylabrobot.resources.corning_costar is deprecated. Please use pylabrobot.resources.corning.costar instead.\n",
      "]\n",
      "[autoreload of pylabrobot.resources.corning_costar failed: Traceback (most recent call last):\n",
      "  File \"C:\\Users\\vikmol\\AppData\\Roaming\\Python\\Python310\\site-packages\\IPython\\extensions\\autoreload.py\", line 276, in check\n",
      "    superreload(m, reload, self.old_objects)\n",
      "  File \"C:\\Users\\vikmol\\AppData\\Roaming\\Python\\Python310\\site-packages\\IPython\\extensions\\autoreload.py\", line 475, in superreload\n",
      "    module = reload(module)\n",
      "  File \"c:\\Users\\vikmol\\AppData\\Local\\Programs\\Python\\Python310\\lib\\importlib\\__init__.py\", line 169, in reload\n",
      "    _bootstrap._exec(spec, module)\n",
      "  File \"<frozen importlib._bootstrap>\", line 619, in _exec\n",
      "  File \"<frozen importlib._bootstrap_external>\", line 883, in exec_module\n",
      "  File \"<frozen importlib._bootstrap>\", line 241, in _call_with_frames_removed\n",
      "  File \"C:\\Users\\vikmol\\Documents\\GitHub\\pylabrobot\\pylabrobot\\resources\\corning_costar\\__init__.py\", line 1, in <module>\n",
      "    raise NotImplementedError(\n",
      "NotImplementedError: pylabrobot.resources.corning_costar is deprecated. Please use pylabrobot.resources.corning.costar instead.\n",
      "]\n",
      "[autoreload of pylabrobot.resources.falcon.tubes failed: Traceback (most recent call last):\n",
      "  File \"C:\\Users\\vikmol\\AppData\\Roaming\\Python\\Python310\\site-packages\\IPython\\extensions\\autoreload.py\", line 276, in check\n",
      "    superreload(m, reload, self.old_objects)\n",
      "  File \"C:\\Users\\vikmol\\AppData\\Roaming\\Python\\Python310\\site-packages\\IPython\\extensions\\autoreload.py\", line 475, in superreload\n",
      "    module = reload(module)\n",
      "  File \"c:\\Users\\vikmol\\AppData\\Local\\Programs\\Python\\Python310\\lib\\importlib\\__init__.py\", line 169, in reload\n",
      "    _bootstrap._exec(spec, module)\n",
      "  File \"<frozen importlib._bootstrap>\", line 619, in _exec\n",
      "  File \"<frozen importlib._bootstrap_external>\", line 883, in exec_module\n",
      "  File \"<frozen importlib._bootstrap>\", line 241, in _call_with_frames_removed\n",
      "  File \"C:\\Users\\vikmol\\Documents\\GitHub\\pylabrobot\\pylabrobot\\resources\\falcon\\tubes.py\", line 1, in <module>\n",
      "    raise NotImplementedError(\n",
      "NotImplementedError: pylabrobot.resources.falcon is deprecated. Please use pylabrobot.resources.corning.falcon instead.\n",
      "]\n",
      "[autoreload of pylabrobot.resources.falcon failed: Traceback (most recent call last):\n",
      "  File \"C:\\Users\\vikmol\\AppData\\Roaming\\Python\\Python310\\site-packages\\IPython\\extensions\\autoreload.py\", line 276, in check\n",
      "    superreload(m, reload, self.old_objects)\n",
      "  File \"C:\\Users\\vikmol\\AppData\\Roaming\\Python\\Python310\\site-packages\\IPython\\extensions\\autoreload.py\", line 475, in superreload\n",
      "    module = reload(module)\n",
      "  File \"c:\\Users\\vikmol\\AppData\\Local\\Programs\\Python\\Python310\\lib\\importlib\\__init__.py\", line 169, in reload\n",
      "    _bootstrap._exec(spec, module)\n",
      "  File \"<frozen importlib._bootstrap>\", line 619, in _exec\n",
      "  File \"<frozen importlib._bootstrap_external>\", line 883, in exec_module\n",
      "  File \"<frozen importlib._bootstrap>\", line 241, in _call_with_frames_removed\n",
      "  File \"C:\\Users\\vikmol\\Documents\\GitHub\\pylabrobot\\pylabrobot\\resources\\falcon\\__init__.py\", line 1, in <module>\n",
      "    raise NotImplementedError(\n",
      "NotImplementedError: pylabrobot.resources.falcon is deprecated. Please use pylabrobot.resources.corning.falcon instead.\n",
      "]\n",
      "[autoreload of pylabrobot.resources.tecan.tip_racks failed: Traceback (most recent call last):\n",
      "  File \"C:\\Users\\vikmol\\AppData\\Roaming\\Python\\Python310\\site-packages\\IPython\\extensions\\autoreload.py\", line 276, in check\n",
      "    superreload(m, reload, self.old_objects)\n",
      "  File \"C:\\Users\\vikmol\\AppData\\Roaming\\Python\\Python310\\site-packages\\IPython\\extensions\\autoreload.py\", line 475, in superreload\n",
      "    module = reload(module)\n",
      "  File \"c:\\Users\\vikmol\\AppData\\Local\\Programs\\Python\\Python310\\lib\\importlib\\__init__.py\", line 169, in reload\n",
      "    _bootstrap._exec(spec, module)\n",
      "  File \"<frozen importlib._bootstrap>\", line 619, in _exec\n",
      "  File \"<frozen importlib._bootstrap_external>\", line 883, in exec_module\n",
      "  File \"<frozen importlib._bootstrap>\", line 241, in _call_with_frames_removed\n",
      "  File \"C:\\Users\\vikmol\\Documents\\GitHub\\pylabrobot\\pylabrobot\\resources\\tecan\\tip_racks.py\", line 9, in <module>\n",
      "    from pylabrobot.resources.itemized_resource import create_equally_spaced\n",
      "ImportError: cannot import name 'create_equally_spaced' from 'pylabrobot.resources.itemized_resource' (C:\\Users\\vikmol\\Documents\\GitHub\\pylabrobot\\pylabrobot\\resources\\itemized_resource.py)\n",
      "]\n",
      "[autoreload of pylabrobot.liquid_handling.liquid_handler failed: Traceback (most recent call last):\n",
      "  File \"C:\\Users\\vikmol\\AppData\\Roaming\\Python\\Python310\\site-packages\\IPython\\extensions\\autoreload.py\", line 276, in check\n",
      "    superreload(m, reload, self.old_objects)\n",
      "  File \"C:\\Users\\vikmol\\AppData\\Roaming\\Python\\Python310\\site-packages\\IPython\\extensions\\autoreload.py\", line 500, in superreload\n",
      "    update_generic(old_obj, new_obj)\n",
      "  File \"C:\\Users\\vikmol\\AppData\\Roaming\\Python\\Python310\\site-packages\\IPython\\extensions\\autoreload.py\", line 397, in update_generic\n",
      "    update(a, b)\n",
      "  File \"C:\\Users\\vikmol\\AppData\\Roaming\\Python\\Python310\\site-packages\\IPython\\extensions\\autoreload.py\", line 349, in update_class\n",
      "    if update_generic(old_obj, new_obj):\n",
      "  File \"C:\\Users\\vikmol\\AppData\\Roaming\\Python\\Python310\\site-packages\\IPython\\extensions\\autoreload.py\", line 397, in update_generic\n",
      "    update(a, b)\n",
      "  File \"C:\\Users\\vikmol\\AppData\\Roaming\\Python\\Python310\\site-packages\\IPython\\extensions\\autoreload.py\", line 309, in update_function\n",
      "    setattr(old, name, getattr(new, name))\n",
      "ValueError: pick_up_tips() requires a code object with 0 free vars, not 1\n",
      "]\n"
     ]
    },
    {
     "ename": "ValueError",
     "evalue": "Resource with name 'washstation' already defined.",
     "output_type": "error",
     "traceback": [
      "\u001b[1;31m---------------------------------------------------------------------------\u001b[0m",
      "\u001b[1;31mValueError\u001b[0m                                Traceback (most recent call last)",
      "Cell \u001b[1;32mIn[107], line 5\u001b[0m\n\u001b[0;32m      1\u001b[0m \u001b[38;5;66;03m### NEXT STEP DEFINE A WASTE STATION AND A WASH STATION\u001b[39;00m\n\u001b[0;32m      2\u001b[0m \u001b[38;5;66;03m# THEN TRY TO DISCARD TIP INTO WASTE STATION\u001b[39;00m\n\u001b[0;32m      3\u001b[0m multi_station \u001b[38;5;241m=\u001b[39m Washstation_2Grid_Trough_DiTi(name\u001b[38;5;241m=\u001b[39m\u001b[38;5;124m\"\u001b[39m\u001b[38;5;124mwashstation\u001b[39m\u001b[38;5;124m\"\u001b[39m)\n\u001b[1;32m----> 5\u001b[0m \u001b[43mlh\u001b[49m\u001b[38;5;241;43m.\u001b[39;49m\u001b[43mdeck\u001b[49m\u001b[38;5;241;43m.\u001b[39;49m\u001b[43massign_child_resource\u001b[49m\u001b[43m(\u001b[49m\u001b[43mmulti_station\u001b[49m\u001b[43m,\u001b[49m\u001b[43m \u001b[49m\u001b[43mrails\u001b[49m\u001b[38;5;241;43m=\u001b[39;49m\u001b[38;5;241;43m15\u001b[39;49m\u001b[43m)\u001b[49m \u001b[38;5;66;03m# Fake position\u001b[39;00m\n",
      "File \u001b[1;32m~\\Documents\\GitHub\\pylabrobot\\pylabrobot\\resources\\tecan\\tecan_decks.py:88\u001b[0m, in \u001b[0;36mTecanDeck.assign_child_resource\u001b[1;34m(self, resource, location, reassign, rails, replace)\u001b[0m\n\u001b[0;32m     86\u001b[0m     cast(Resource, \u001b[38;5;28mself\u001b[39m\u001b[38;5;241m.\u001b[39mget_resource(resource\u001b[38;5;241m.\u001b[39mname))\u001b[38;5;241m.\u001b[39munassign()\n\u001b[0;32m     87\u001b[0m   \u001b[38;5;28;01melse\u001b[39;00m:\n\u001b[1;32m---> 88\u001b[0m     \u001b[38;5;28;01mraise\u001b[39;00m \u001b[38;5;167;01mValueError\u001b[39;00m(\u001b[38;5;124mf\u001b[39m\u001b[38;5;124m\"\u001b[39m\u001b[38;5;124mResource with name \u001b[39m\u001b[38;5;124m'\u001b[39m\u001b[38;5;132;01m{\u001b[39;00mresource\u001b[38;5;241m.\u001b[39mname\u001b[38;5;132;01m}\u001b[39;00m\u001b[38;5;124m'\u001b[39m\u001b[38;5;124m already defined.\u001b[39m\u001b[38;5;124m\"\u001b[39m)\n\u001b[0;32m     90\u001b[0m \u001b[38;5;28;01mif\u001b[39;00m rails \u001b[38;5;129;01mis\u001b[39;00m \u001b[38;5;129;01mnot\u001b[39;00m \u001b[38;5;28;01mNone\u001b[39;00m:\n\u001b[0;32m     91\u001b[0m   resource_location \u001b[38;5;241m=\u001b[39m \u001b[38;5;28mself\u001b[39m\u001b[38;5;241m.\u001b[39m_coordinate_for_rails(rails, resource)\n",
      "\u001b[1;31mValueError\u001b[0m: Resource with name 'washstation' already defined."
     ]
    }
   ],
   "source": [
    "### NEXT STEP DEFINE A WASTE STATION AND A WASH STATION\n",
    "# THEN TRY TO DISCARD TIP INTO WASTE STATION\n",
    "# multi_station = Washstation_2Grid_Trough_DiTi(name=\"washstation\")\n",
    "\n",
    "# lh.deck.assign_child_resource(multi_station, rails=15) # Fake position"
   ]
  },
  {
   "cell_type": "code",
   "execution_count": null,
   "metadata": {},
   "outputs": [
    {
     "ename": "ValueError",
     "evalue": "spot 0 already has a resource",
     "output_type": "error",
     "traceback": [
      "\u001b[1;31m---------------------------------------------------------------------------\u001b[0m",
      "\u001b[1;31mValueError\u001b[0m                                Traceback (most recent call last)",
      "Cell \u001b[1;32mIn[116], line 5\u001b[0m\n\u001b[0;32m      3\u001b[0m \u001b[38;5;66;03m# Assign a Trash object to a specific location on the multi_station\u001b[39;00m\n\u001b[0;32m      4\u001b[0m trash \u001b[38;5;241m=\u001b[39m Trash(name\u001b[38;5;241m=\u001b[39m\u001b[38;5;124m\"\u001b[39m\u001b[38;5;124mtrash\u001b[39m\u001b[38;5;124m\"\u001b[39m, size_x\u001b[38;5;241m=\u001b[39m\u001b[38;5;241m12.0\u001b[39m, size_y\u001b[38;5;241m=\u001b[39m\u001b[38;5;241m100.0\u001b[39m, size_z\u001b[38;5;241m=\u001b[39m\u001b[38;5;241m140.0\u001b[39m)\n\u001b[1;32m----> 5\u001b[0m \u001b[43mmulti_station\u001b[49m\u001b[43m[\u001b[49m\u001b[38;5;241;43m0\u001b[39;49m\u001b[43m]\u001b[49m \u001b[38;5;241m=\u001b[39m trash  \u001b[38;5;66;03m# Assign the Trash to the first position on the multi_station\u001b[39;00m\n\u001b[0;32m      7\u001b[0m \u001b[38;5;28mprint\u001b[39m(trash)\n",
      "File \u001b[1;32m~\\Documents\\GitHub\\pylabrobot\\pylabrobot\\resources\\carrier.py:101\u001b[0m, in \u001b[0;36mCarrier.__setitem__\u001b[1;34m(self, idx, resource)\u001b[0m\n\u001b[0;32m     99\u001b[0m     \u001b[38;5;28mself\u001b[39m\u001b[38;5;241m.\u001b[39munassign_child_resource(assigned_resource)\n\u001b[0;32m    100\u001b[0m \u001b[38;5;28;01melse\u001b[39;00m:\n\u001b[1;32m--> 101\u001b[0m   \u001b[38;5;28;43mself\u001b[39;49m\u001b[38;5;241;43m.\u001b[39;49m\u001b[43massign_resource_to_site\u001b[49m\u001b[43m(\u001b[49m\u001b[43mresource\u001b[49m\u001b[43m,\u001b[49m\u001b[43m \u001b[49m\u001b[43mspot\u001b[49m\u001b[38;5;241;43m=\u001b[39;49m\u001b[43midx\u001b[49m\u001b[43m)\u001b[49m\n",
      "File \u001b[1;32m~\\Documents\\GitHub\\pylabrobot\\pylabrobot\\resources\\carrier.py:76\u001b[0m, in \u001b[0;36mCarrier.assign_resource_to_site\u001b[1;34m(self, resource, spot)\u001b[0m\n\u001b[0;32m     74\u001b[0m \u001b[38;5;28;01mdef\u001b[39;00m \u001b[38;5;21massign_resource_to_site\u001b[39m(\u001b[38;5;28mself\u001b[39m, resource: Resource, spot: \u001b[38;5;28mint\u001b[39m):\n\u001b[0;32m     75\u001b[0m   \u001b[38;5;28;01mif\u001b[39;00m \u001b[38;5;28mself\u001b[39m\u001b[38;5;241m.\u001b[39msites[spot]\u001b[38;5;241m.\u001b[39mresource \u001b[38;5;129;01mis\u001b[39;00m \u001b[38;5;129;01mnot\u001b[39;00m \u001b[38;5;28;01mNone\u001b[39;00m:\n\u001b[1;32m---> 76\u001b[0m     \u001b[38;5;28;01mraise\u001b[39;00m \u001b[38;5;167;01mValueError\u001b[39;00m(\u001b[38;5;124mf\u001b[39m\u001b[38;5;124m\"\u001b[39m\u001b[38;5;124mspot \u001b[39m\u001b[38;5;132;01m{\u001b[39;00mspot\u001b[38;5;132;01m}\u001b[39;00m\u001b[38;5;124m already has a resource\u001b[39m\u001b[38;5;124m\"\u001b[39m)\n\u001b[0;32m     77\u001b[0m   \u001b[38;5;28mself\u001b[39m\u001b[38;5;241m.\u001b[39msites[spot]\u001b[38;5;241m.\u001b[39massign_child_resource(resource)\n",
      "\u001b[1;31mValueError\u001b[0m: spot 0 already has a resource"
     ]
    }
   ],
   "source": [
    "# from pylabrobot.resources import Trash\n",
    "\n",
    "# # Assign a Trash object to a specific location on the multi_station\n",
    "# trash = Trash(name=\"trash\", size_x=12.0, size_y=100.0, size_z=140.0)\n",
    "# multi_station[0] = trash  # Assign the Trash to the first position on the multi_station\n",
    "\n"
   ]
  },
  {
   "cell_type": "code",
   "execution_count": 19,
   "metadata": {},
   "outputs": [
    {
     "ename": "ValueError",
     "evalue": "Resource with name 'trash' already defined.",
     "output_type": "error",
     "traceback": [
      "\u001b[1;31m---------------------------------------------------------------------------\u001b[0m",
      "\u001b[1;31mValueError\u001b[0m                                Traceback (most recent call last)",
      "Cell \u001b[1;32mIn[19], line 6\u001b[0m\n\u001b[0;32m      3\u001b[0m trash \u001b[38;5;241m=\u001b[39m Trash_Waste(name\u001b[38;5;241m=\u001b[39m\u001b[38;5;124m\"\u001b[39m\u001b[38;5;124mtrash\u001b[39m\u001b[38;5;124m\"\u001b[39m)\n\u001b[0;32m      5\u001b[0m \u001b[38;5;66;03m# Assign the trash container to the deck\u001b[39;00m\n\u001b[1;32m----> 6\u001b[0m \u001b[43mlh\u001b[49m\u001b[38;5;241;43m.\u001b[39;49m\u001b[43mdeck\u001b[49m\u001b[38;5;241;43m.\u001b[39;49m\u001b[43massign_child_resource\u001b[49m\u001b[43m(\u001b[49m\u001b[43mtrash\u001b[49m\u001b[43m,\u001b[49m\u001b[43m \u001b[49m\u001b[43mrails\u001b[49m\u001b[38;5;241;43m=\u001b[39;49m\u001b[38;5;241;43m17\u001b[39;49m\u001b[43m)\u001b[49m\n\u001b[0;32m      8\u001b[0m \u001b[38;5;66;03m# Drop tips into the trash\u001b[39;00m\n\u001b[0;32m      9\u001b[0m \u001b[38;5;28;01mawait\u001b[39;00m lh\u001b[38;5;241m.\u001b[39mdrop_tips(trash)\n",
      "File \u001b[1;32m~\\Documents\\GitHub\\pylabrobot\\pylabrobot\\resources\\tecan\\tecan_decks.py:88\u001b[0m, in \u001b[0;36mTecanDeck.assign_child_resource\u001b[1;34m(self, resource, location, reassign, rails, replace)\u001b[0m\n\u001b[0;32m     86\u001b[0m     cast(Resource, \u001b[38;5;28mself\u001b[39m\u001b[38;5;241m.\u001b[39mget_resource(resource\u001b[38;5;241m.\u001b[39mname))\u001b[38;5;241m.\u001b[39munassign()\n\u001b[0;32m     87\u001b[0m   \u001b[38;5;28;01melse\u001b[39;00m:\n\u001b[1;32m---> 88\u001b[0m     \u001b[38;5;28;01mraise\u001b[39;00m \u001b[38;5;167;01mValueError\u001b[39;00m(\u001b[38;5;124mf\u001b[39m\u001b[38;5;124m\"\u001b[39m\u001b[38;5;124mResource with name \u001b[39m\u001b[38;5;124m'\u001b[39m\u001b[38;5;132;01m{\u001b[39;00mresource\u001b[38;5;241m.\u001b[39mname\u001b[38;5;132;01m}\u001b[39;00m\u001b[38;5;124m'\u001b[39m\u001b[38;5;124m already defined.\u001b[39m\u001b[38;5;124m\"\u001b[39m)\n\u001b[0;32m     90\u001b[0m \u001b[38;5;28;01mif\u001b[39;00m rails \u001b[38;5;129;01mis\u001b[39;00m \u001b[38;5;129;01mnot\u001b[39;00m \u001b[38;5;28;01mNone\u001b[39;00m:\n\u001b[0;32m     91\u001b[0m   resource_location \u001b[38;5;241m=\u001b[39m \u001b[38;5;28mself\u001b[39m\u001b[38;5;241m.\u001b[39m_coordinate_for_rails(rails, resource)\n",
      "\u001b[1;31mValueError\u001b[0m: Resource with name 'trash' already defined."
     ]
    }
   ],
   "source": [
    "from pylabrobot.resources.tecan.trash import Trash_Container, Trash_Waste\n",
    "# Create a trash container\n",
    "trash = Trash_Waste(name=\"trash\")\n",
    "\n",
    "# Assign the trash container to the deck\n",
    "lh.deck.assign_child_resource(trash, rails=17)\n",
    "\n",
    "# Drop tips into the trash\n",
    "await lh.drop_tips(trash)\n"
   ]
  },
  {
   "cell_type": "code",
   "execution_count": 20,
   "metadata": {},
   "outputs": [
    {
     "name": "stdout",
     "output_type": "stream",
     "text": [
      "TecanTrash(name=trash, location=None, size_x=12.0, size_y=100.0, size_z=140.0, category=tecan_trash)\n"
     ]
    }
   ],
   "source": [
    "print(trash)"
   ]
  },
  {
   "cell_type": "code",
   "execution_count": 21,
   "metadata": {},
   "outputs": [
    {
     "ename": "TypeError",
     "evalue": "'TecanTrash' object is not iterable",
     "output_type": "error",
     "traceback": [
      "\u001b[1;31m---------------------------------------------------------------------------\u001b[0m",
      "\u001b[1;31mTypeError\u001b[0m                                 Traceback (most recent call last)",
      "Cell \u001b[1;32mIn[21], line 1\u001b[0m\n\u001b[1;32m----> 1\u001b[0m \u001b[38;5;28;01mawait\u001b[39;00m lh\u001b[38;5;241m.\u001b[39mdrop_tips(trash)\n",
      "File \u001b[1;32m~\\Documents\\GitHub\\pylabrobot\\pylabrobot\\machines\\machine.py:35\u001b[0m, in \u001b[0;36mneed_setup_finished.<locals>.wrapper\u001b[1;34m(*args, **kwargs)\u001b[0m\n\u001b[0;32m     33\u001b[0m \u001b[38;5;28;01mif\u001b[39;00m \u001b[38;5;129;01mnot\u001b[39;00m \u001b[38;5;28mself\u001b[39m\u001b[38;5;241m.\u001b[39msetup_finished:\n\u001b[0;32m     34\u001b[0m   \u001b[38;5;28;01mraise\u001b[39;00m \u001b[38;5;167;01mRuntimeError\u001b[39;00m(\u001b[38;5;124m\"\u001b[39m\u001b[38;5;124mThe setup has not finished. See `setup`.\u001b[39m\u001b[38;5;124m\"\u001b[39m)\n\u001b[1;32m---> 35\u001b[0m \u001b[38;5;28;01mreturn\u001b[39;00m \u001b[38;5;28;01mawait\u001b[39;00m func(\u001b[38;5;241m*\u001b[39margs, \u001b[38;5;241m*\u001b[39m\u001b[38;5;241m*\u001b[39mkwargs)\n",
      "File \u001b[1;32m~\\Documents\\GitHub\\pylabrobot\\pylabrobot\\liquid_handling\\liquid_handler.py:527\u001b[0m, in \u001b[0;36mLiquidHandler.drop_tips\u001b[1;34m(self, tip_spots, use_channels, offsets, allow_nonzero_volume, **backend_kwargs)\u001b[0m\n\u001b[0;32m    476\u001b[0m \u001b[38;5;129m@need_setup_finished\u001b[39m\n\u001b[0;32m    477\u001b[0m \u001b[38;5;28;01masync\u001b[39;00m \u001b[38;5;28;01mdef\u001b[39;00m \u001b[38;5;21mdrop_tips\u001b[39m(\n\u001b[0;32m    478\u001b[0m   \u001b[38;5;28mself\u001b[39m,\n\u001b[1;32m   (...)\u001b[0m\n\u001b[0;32m    483\u001b[0m   \u001b[38;5;241m*\u001b[39m\u001b[38;5;241m*\u001b[39mbackend_kwargs,\n\u001b[0;32m    484\u001b[0m ):\n\u001b[0;32m    485\u001b[0m \u001b[38;5;250m  \u001b[39m\u001b[38;5;124;03m\"\"\"Drop tips to a resource.\u001b[39;00m\n\u001b[0;32m    486\u001b[0m \n\u001b[0;32m    487\u001b[0m \u001b[38;5;124;03m  Examples:\u001b[39;00m\n\u001b[1;32m   (...)\u001b[0m\n\u001b[0;32m    524\u001b[0m \u001b[38;5;124;03m    HasTipError: If a spot already has a tip.\u001b[39;00m\n\u001b[0;32m    525\u001b[0m \u001b[38;5;124;03m  \"\"\"\u001b[39;00m\n\u001b[1;32m--> 527\u001b[0m   not_tip_spots \u001b[38;5;241m=\u001b[39m [ts \u001b[38;5;28;01mfor\u001b[39;00m ts \u001b[38;5;129;01min\u001b[39;00m tip_spots \u001b[38;5;28;01mif\u001b[39;00m \u001b[38;5;129;01mnot\u001b[39;00m \u001b[38;5;28misinstance\u001b[39m(ts, (TipSpot, Trash))]\n\u001b[0;32m    528\u001b[0m   \u001b[38;5;28;01mif\u001b[39;00m \u001b[38;5;28mlen\u001b[39m(not_tip_spots) \u001b[38;5;241m>\u001b[39m \u001b[38;5;241m0\u001b[39m:\n\u001b[0;32m    529\u001b[0m     \u001b[38;5;28;01mraise\u001b[39;00m \u001b[38;5;167;01mTypeError\u001b[39;00m(\u001b[38;5;124mf\u001b[39m\u001b[38;5;124m\"\u001b[39m\u001b[38;5;124mResources must be `TipSpot`s or Trash, got \u001b[39m\u001b[38;5;132;01m{\u001b[39;00mnot_tip_spots\u001b[38;5;132;01m}\u001b[39;00m\u001b[38;5;124m\"\u001b[39m)\n",
      "\u001b[1;31mTypeError\u001b[0m: 'TecanTrash' object is not iterable"
     ]
    }
   ],
   "source": [
    "await lh.drop_tips(trash)\n"
   ]
  },
  {
   "cell_type": "code",
   "execution_count": null,
   "metadata": {},
   "outputs": [
    {
     "ename": "ValueError",
     "evalue": "Resource Trash(name=trash, location=None, size_x=12.0, size_y=100.0, size_z=140.0, category=trash) is not a Tecan resource.",
     "output_type": "error",
     "traceback": [
      "\u001b[1;31m---------------------------------------------------------------------------\u001b[0m",
      "\u001b[1;31mValueError\u001b[0m                                Traceback (most recent call last)",
      "Cell \u001b[1;32mIn[118], line 2\u001b[0m\n\u001b[0;32m      1\u001b[0m \u001b[38;5;66;03m# Assign the Trash object to the deck\u001b[39;00m\n\u001b[1;32m----> 2\u001b[0m \u001b[43mlh\u001b[49m\u001b[38;5;241;43m.\u001b[39;49m\u001b[43mdeck\u001b[49m\u001b[38;5;241;43m.\u001b[39;49m\u001b[43massign_child_resource\u001b[49m\u001b[43m(\u001b[49m\u001b[43mtrash\u001b[49m\u001b[43m,\u001b[49m\u001b[43m \u001b[49m\u001b[43mrails\u001b[49m\u001b[38;5;241;43m=\u001b[39;49m\u001b[38;5;241;43m16\u001b[39;49m\u001b[43m)\u001b[49m\n",
      "File \u001b[1;32m~\\Documents\\GitHub\\pylabrobot\\pylabrobot\\resources\\tecan\\tecan_decks.py:91\u001b[0m, in \u001b[0;36mTecanDeck.assign_child_resource\u001b[1;34m(self, resource, location, reassign, rails, replace)\u001b[0m\n\u001b[0;32m     88\u001b[0m     \u001b[38;5;28;01mraise\u001b[39;00m \u001b[38;5;167;01mValueError\u001b[39;00m(\u001b[38;5;124mf\u001b[39m\u001b[38;5;124m\"\u001b[39m\u001b[38;5;124mResource with name \u001b[39m\u001b[38;5;124m'\u001b[39m\u001b[38;5;132;01m{\u001b[39;00mresource\u001b[38;5;241m.\u001b[39mname\u001b[38;5;132;01m}\u001b[39;00m\u001b[38;5;124m'\u001b[39m\u001b[38;5;124m already defined.\u001b[39m\u001b[38;5;124m\"\u001b[39m)\n\u001b[0;32m     90\u001b[0m \u001b[38;5;28;01mif\u001b[39;00m rails \u001b[38;5;129;01mis\u001b[39;00m \u001b[38;5;129;01mnot\u001b[39;00m \u001b[38;5;28;01mNone\u001b[39;00m:\n\u001b[1;32m---> 91\u001b[0m   resource_location \u001b[38;5;241m=\u001b[39m \u001b[38;5;28;43mself\u001b[39;49m\u001b[38;5;241;43m.\u001b[39;49m\u001b[43m_coordinate_for_rails\u001b[49m\u001b[43m(\u001b[49m\u001b[43mrails\u001b[49m\u001b[43m,\u001b[49m\u001b[43m \u001b[49m\u001b[43mresource\u001b[49m\u001b[43m)\u001b[49m\n\u001b[0;32m     92\u001b[0m \u001b[38;5;28;01melif\u001b[39;00m location \u001b[38;5;129;01mis\u001b[39;00m \u001b[38;5;129;01mnot\u001b[39;00m \u001b[38;5;28;01mNone\u001b[39;00m:\n\u001b[0;32m     93\u001b[0m   resource_location \u001b[38;5;241m=\u001b[39m location\n",
      "File \u001b[1;32m~\\Documents\\GitHub\\pylabrobot\\pylabrobot\\resources\\tecan\\tecan_decks.py:135\u001b[0m, in \u001b[0;36mTecanDeck._coordinate_for_rails\u001b[1;34m(self, rails, resource)\u001b[0m\n\u001b[0;32m    132\u001b[0m \u001b[38;5;250m\u001b[39m\u001b[38;5;124;03m\"\"\"Convert a rail identifier and resource to a location.\"\"\"\u001b[39;00m\n\u001b[0;32m    134\u001b[0m \u001b[38;5;28;01mif\u001b[39;00m \u001b[38;5;129;01mnot\u001b[39;00m \u001b[38;5;28misinstance\u001b[39m(resource, TecanResource):\n\u001b[1;32m--> 135\u001b[0m   \u001b[38;5;28;01mraise\u001b[39;00m \u001b[38;5;167;01mValueError\u001b[39;00m(\u001b[38;5;124mf\u001b[39m\u001b[38;5;124m\"\u001b[39m\u001b[38;5;124mResource \u001b[39m\u001b[38;5;132;01m{\u001b[39;00mresource\u001b[38;5;132;01m}\u001b[39;00m\u001b[38;5;124m is not a Tecan resource.\u001b[39m\u001b[38;5;124m\"\u001b[39m)\n\u001b[0;32m    137\u001b[0m \u001b[38;5;28;01mreturn\u001b[39;00m Coordinate(\n\u001b[0;32m    138\u001b[0m   (rails \u001b[38;5;241m-\u001b[39m \u001b[38;5;241m1\u001b[39m) \u001b[38;5;241m*\u001b[39m _RAILS_WIDTH \u001b[38;5;241m-\u001b[39m resource\u001b[38;5;241m.\u001b[39moff_x \u001b[38;5;241m+\u001b[39m \u001b[38;5;241m100\u001b[39m,\n\u001b[0;32m    139\u001b[0m   resource\u001b[38;5;241m.\u001b[39moff_y \u001b[38;5;241m+\u001b[39m \u001b[38;5;241m345\u001b[39m \u001b[38;5;241m-\u001b[39m resource\u001b[38;5;241m.\u001b[39mget_absolute_size_y(),\n\u001b[0;32m    140\u001b[0m   \u001b[38;5;241m0\u001b[39m,\n\u001b[0;32m    141\u001b[0m )\n",
      "\u001b[1;31mValueError\u001b[0m: Resource Trash(name=trash, location=None, size_x=12.0, size_y=100.0, size_z=140.0, category=trash) is not a Tecan resource."
     ]
    }
   ],
   "source": [
    "# Assign the Trash object to the deck\n",
    "# lh.deck.assign_child_resource(trash, rails=16)"
   ]
  },
  {
   "cell_type": "code",
   "execution_count": null,
   "metadata": {},
   "outputs": [
    {
     "data": {
      "text/plain": [
       "{0: TipTracker(Channel 0, is_disabled=False, has_tip=False tip=None, pending_tip=None),\n",
       " 1: TipTracker(Channel 1, is_disabled=False, has_tip=False tip=None, pending_tip=None),\n",
       " 2: TipTracker(Channel 2, is_disabled=False, has_tip=False tip=None, pending_tip=None),\n",
       " 3: TipTracker(Channel 3, is_disabled=False, has_tip=False tip=None, pending_tip=None),\n",
       " 4: TipTracker(Channel 4, is_disabled=False, has_tip=False tip=None, pending_tip=None),\n",
       " 5: TipTracker(Channel 5, is_disabled=False, has_tip=False tip=None, pending_tip=None),\n",
       " 6: TipTracker(Channel 6, is_disabled=False, has_tip=False tip=None, pending_tip=None),\n",
       " 7: TipTracker(Channel 7, is_disabled=False, has_tip=False tip=None, pending_tip=None)}"
      ]
     },
     "execution_count": 66,
     "metadata": {},
     "output_type": "execute_result"
    }
   ],
   "source": [
    "lh.head()"
   ]
  },
  {
   "cell_type": "code",
   "execution_count": 62,
   "metadata": {},
   "outputs": [
    {
     "ename": "TypeError",
     "evalue": "Resources must be `TipSpot`s, got [[TipSpot(name=tiprack_2_tipspot_0_0, location=Coordinate(007.700, 071.700, 032.600), size_x=9.0, size_y=9.0, size_z=0, category=tip_spot)]]",
     "output_type": "error",
     "traceback": [
      "\u001b[1;31m---------------------------------------------------------------------------\u001b[0m",
      "\u001b[1;31mTypeError\u001b[0m                                 Traceback (most recent call last)",
      "Cell \u001b[1;32mIn[62], line 6\u001b[0m\n\u001b[0;32m      1\u001b[0m \u001b[38;5;66;03m# tiprack = lh.deck.get_resource(\"tiprack_1\")\u001b[39;00m\n\u001b[0;32m      2\u001b[0m \n\u001b[0;32m      3\u001b[0m \u001b[38;5;66;03m# await lh.pick_up_tips(tiprack[\"A1:H1\"], use_channels=list(range(backend.num_channels)))\u001b[39;00m\n\u001b[0;32m      4\u001b[0m \u001b[38;5;66;03m# await lh.pick_up_tips(tiprack[\"A1\"], use_channels=[1])\u001b[39;00m\n\u001b[1;32m----> 6\u001b[0m \u001b[38;5;28;01mawait\u001b[39;00m lh\u001b[38;5;241m.\u001b[39mpick_up_tips(\n\u001b[0;32m      7\u001b[0m     [tiprack[\u001b[38;5;124m\"\u001b[39m\u001b[38;5;124mA1\u001b[39m\u001b[38;5;124m\"\u001b[39m]],  \u001b[38;5;66;03m# Wrap in a list\u001b[39;00m\n\u001b[0;32m      8\u001b[0m     use_channels\u001b[38;5;241m=\u001b[39m[\u001b[38;5;241m0\u001b[39m]  \u001b[38;5;66;03m# Use only one channel\u001b[39;00m\n\u001b[0;32m      9\u001b[0m )\n",
      "File \u001b[1;32m~\\Documents\\GitHub\\pylabrobot\\pylabrobot\\liquid_handling\\liquid_handler.py:404\u001b[0m, in \u001b[0;36mLiquidHandler.pick_up_tips\u001b[1;34m(self, tip_spots, use_channels, offsets, **backend_kwargs)\u001b[0m\n\u001b[0;32m    402\u001b[0m not_tip_spots \u001b[38;5;241m=\u001b[39m [ts \u001b[38;5;28;01mfor\u001b[39;00m ts \u001b[38;5;129;01min\u001b[39;00m tip_spots \u001b[38;5;28;01mif\u001b[39;00m \u001b[38;5;129;01mnot\u001b[39;00m \u001b[38;5;28misinstance\u001b[39m(ts, TipSpot)]\n\u001b[0;32m    403\u001b[0m \u001b[38;5;28;01mif\u001b[39;00m \u001b[38;5;28mlen\u001b[39m(not_tip_spots) \u001b[38;5;241m>\u001b[39m \u001b[38;5;241m0\u001b[39m:\n\u001b[1;32m--> 404\u001b[0m   \u001b[38;5;28;01mraise\u001b[39;00m \u001b[38;5;167;01mTypeError\u001b[39;00m(\u001b[38;5;124mf\u001b[39m\u001b[38;5;124m\"\u001b[39m\u001b[38;5;124mResources must be `TipSpot`s, got \u001b[39m\u001b[38;5;132;01m{\u001b[39;00mnot_tip_spots\u001b[38;5;132;01m}\u001b[39;00m\u001b[38;5;124m\"\u001b[39m)\n\u001b[0;32m    406\u001b[0m \u001b[38;5;66;03m# fix arguments\u001b[39;00m\n\u001b[0;32m    407\u001b[0m \u001b[38;5;28;01mif\u001b[39;00m use_channels \u001b[38;5;129;01mis\u001b[39;00m \u001b[38;5;28;01mNone\u001b[39;00m:\n",
      "\u001b[1;31mTypeError\u001b[0m: Resources must be `TipSpot`s, got [[TipSpot(name=tiprack_2_tipspot_0_0, location=Coordinate(007.700, 071.700, 032.600), size_x=9.0, size_y=9.0, size_z=0, category=tip_spot)]]"
     ]
    }
   ],
   "source": [
    "# tiprack = lh.deck.get_resource(\"tiprack_1\")\n",
    "\n",
    "# await lh.pick_up_tips(tiprack[\"A1:H1\"], use_channels=list(range(backend.num_channels)))\n",
    "# await lh.pick_up_tips(tiprack[\"A1\"], use_channels=[1])\n",
    "\n",
    "await lh.pick_up_tips(\n",
    "    [tiprack[\"A1\"]],  # Wrap in a list\n",
    "    use_channels=[0]  # Use only one channel\n",
    ")\n"
   ]
  },
  {
   "cell_type": "markdown",
   "metadata": {},
   "source": [
    "## Picking up tips\n",
    "\n",
    "Picking up tips is as easy as querying the tips from the tiprack."
   ]
  },
  {
   "cell_type": "code",
   "execution_count": 21,
   "metadata": {},
   "outputs": [
    {
     "ename": "AssertionError",
     "evalue": "DiTis can only be configured for the last 0 channels",
     "output_type": "error",
     "traceback": [
      "\u001b[1;31m---------------------------------------------------------------------------\u001b[0m",
      "\u001b[1;31mAssertionError\u001b[0m                            Traceback (most recent call last)",
      "Cell \u001b[1;32mIn[21], line 2\u001b[0m\n\u001b[0;32m      1\u001b[0m tiprack \u001b[38;5;241m=\u001b[39m lh\u001b[38;5;241m.\u001b[39mdeck\u001b[38;5;241m.\u001b[39mget_resource(\u001b[38;5;124m\"\u001b[39m\u001b[38;5;124mtiprack_1\u001b[39m\u001b[38;5;124m\"\u001b[39m)\n\u001b[1;32m----> 2\u001b[0m \u001b[38;5;28;01mawait\u001b[39;00m lh\u001b[38;5;241m.\u001b[39mpick_up_tips(tiprack[\u001b[38;5;124m\"\u001b[39m\u001b[38;5;124mA1\u001b[39m\u001b[38;5;124m\"\u001b[39m])\n",
      "File \u001b[1;32m~\\Documents\\GitHub\\pylabrobot\\pylabrobot\\liquid_handling\\liquid_handler.py:467\u001b[0m, in \u001b[0;36mLiquidHandler.pick_up_tips\u001b[1;34m(self, tip_spots, use_channels, offsets, **backend_kwargs)\u001b[0m\n\u001b[0;32m    464\u001b[0m   (\u001b[38;5;28mself\u001b[39m\u001b[38;5;241m.\u001b[39mhead[channel]\u001b[38;5;241m.\u001b[39mcommit \u001b[38;5;28;01mif\u001b[39;00m success \u001b[38;5;28;01melse\u001b[39;00m \u001b[38;5;28mself\u001b[39m\u001b[38;5;241m.\u001b[39mhead[channel]\u001b[38;5;241m.\u001b[39mrollback)()\n\u001b[0;32m    466\u001b[0m \u001b[38;5;66;03m# trigger callback\u001b[39;00m\n\u001b[1;32m--> 467\u001b[0m \u001b[38;5;28mself\u001b[39m\u001b[38;5;241m.\u001b[39m_trigger_callback(\n\u001b[0;32m    468\u001b[0m   \u001b[38;5;124m\"\u001b[39m\u001b[38;5;124mpick_up_tips\u001b[39m\u001b[38;5;124m\"\u001b[39m,\n\u001b[0;32m    469\u001b[0m   liquid_handler\u001b[38;5;241m=\u001b[39m\u001b[38;5;28mself\u001b[39m,\n\u001b[0;32m    470\u001b[0m   operations\u001b[38;5;241m=\u001b[39mpickups,\n\u001b[0;32m    471\u001b[0m   use_channels\u001b[38;5;241m=\u001b[39muse_channels,\n\u001b[0;32m    472\u001b[0m   error\u001b[38;5;241m=\u001b[39merror,\n\u001b[0;32m    473\u001b[0m   \u001b[38;5;241m*\u001b[39m\u001b[38;5;241m*\u001b[39mbackend_kwargs,\n\u001b[0;32m    474\u001b[0m )\n",
      "File \u001b[1;32m~\\Documents\\GitHub\\pylabrobot\\pylabrobot\\liquid_handling\\liquid_handler.py:2204\u001b[0m, in \u001b[0;36mLiquidHandler._trigger_callback\u001b[1;34m(self, method_name, error, *args, **kwargs)\u001b[0m\n\u001b[0;32m   2202\u001b[0m   callback(\u001b[38;5;28mself\u001b[39m, \u001b[38;5;241m*\u001b[39margs, error\u001b[38;5;241m=\u001b[39merror, \u001b[38;5;241m*\u001b[39m\u001b[38;5;241m*\u001b[39mkwargs)\n\u001b[0;32m   2203\u001b[0m \u001b[38;5;28;01melif\u001b[39;00m error \u001b[38;5;129;01mis\u001b[39;00m \u001b[38;5;129;01mnot\u001b[39;00m \u001b[38;5;28;01mNone\u001b[39;00m:\n\u001b[1;32m-> 2204\u001b[0m   \u001b[38;5;28;01mraise\u001b[39;00m error\n",
      "File \u001b[1;32m~\\Documents\\GitHub\\pylabrobot\\pylabrobot\\liquid_handling\\liquid_handler.py:451\u001b[0m, in \u001b[0;36mLiquidHandler.pick_up_tips\u001b[1;34m(self, tip_spots, use_channels, offsets, **backend_kwargs)\u001b[0m\n\u001b[0;32m    449\u001b[0m error: Optional[\u001b[38;5;167;01mException\u001b[39;00m] \u001b[38;5;241m=\u001b[39m \u001b[38;5;28;01mNone\u001b[39;00m\n\u001b[0;32m    450\u001b[0m \u001b[38;5;28;01mtry\u001b[39;00m:\n\u001b[1;32m--> 451\u001b[0m   \u001b[38;5;28;01mawait\u001b[39;00m \u001b[38;5;28mself\u001b[39m\u001b[38;5;241m.\u001b[39mbackend\u001b[38;5;241m.\u001b[39mpick_up_tips(ops\u001b[38;5;241m=\u001b[39mpickups, use_channels\u001b[38;5;241m=\u001b[39muse_channels, \u001b[38;5;241m*\u001b[39m\u001b[38;5;241m*\u001b[39mbackend_kwargs)\n\u001b[0;32m    452\u001b[0m \u001b[38;5;28;01mexcept\u001b[39;00m \u001b[38;5;167;01mException\u001b[39;00m \u001b[38;5;28;01mas\u001b[39;00m e:\n\u001b[0;32m    453\u001b[0m   error \u001b[38;5;241m=\u001b[39m e\n",
      "File \u001b[1;32m~\\Documents\\GitHub\\pylabrobot\\pylabrobot\\liquid_handling\\backends\\tecan\\EVO.py:501\u001b[0m, in \u001b[0;36mEVO.pick_up_tips\u001b[1;34m(self, ops, use_channels)\u001b[0m\n\u001b[0;32m    493\u001b[0m \u001b[38;5;28;01masync\u001b[39;00m \u001b[38;5;28;01mdef\u001b[39;00m \u001b[38;5;21mpick_up_tips\u001b[39m(\u001b[38;5;28mself\u001b[39m, ops: List[Pickup], use_channels: List[\u001b[38;5;28mint\u001b[39m]):\n\u001b[0;32m    494\u001b[0m \u001b[38;5;250m  \u001b[39m\u001b[38;5;124;03m\"\"\"Pick up tips from a resource.\u001b[39;00m\n\u001b[0;32m    495\u001b[0m \n\u001b[0;32m    496\u001b[0m \u001b[38;5;124;03m  Args:\u001b[39;00m\n\u001b[0;32m    497\u001b[0m \u001b[38;5;124;03m    ops: The pickup operations to perform.\u001b[39;00m\n\u001b[0;32m    498\u001b[0m \u001b[38;5;124;03m    use_channels: The channels to use for the pickup operations.\u001b[39;00m\n\u001b[0;32m    499\u001b[0m \u001b[38;5;124;03m  \"\"\"\u001b[39;00m\n\u001b[1;32m--> 501\u001b[0m   \u001b[38;5;28;01massert\u001b[39;00m (\n\u001b[0;32m    502\u001b[0m     \u001b[38;5;28mmin\u001b[39m(use_channels) \u001b[38;5;241m>\u001b[39m\u001b[38;5;241m=\u001b[39m \u001b[38;5;28mself\u001b[39m\u001b[38;5;241m.\u001b[39mnum_channels \u001b[38;5;241m-\u001b[39m \u001b[38;5;28mself\u001b[39m\u001b[38;5;241m.\u001b[39mditi_count\n\u001b[0;32m    503\u001b[0m   ), \u001b[38;5;124mf\u001b[39m\u001b[38;5;124m\"\u001b[39m\u001b[38;5;124mDiTis can only be configured for the last \u001b[39m\u001b[38;5;132;01m{\u001b[39;00m\u001b[38;5;28mself\u001b[39m\u001b[38;5;241m.\u001b[39mditi_count\u001b[38;5;132;01m}\u001b[39;00m\u001b[38;5;124m channels\u001b[39m\u001b[38;5;124m\"\u001b[39m\n\u001b[0;32m    505\u001b[0m   x_positions, y_positions, _ \u001b[38;5;241m=\u001b[39m \u001b[38;5;28mself\u001b[39m\u001b[38;5;241m.\u001b[39m_liha_positions(ops, use_channels)\n\u001b[0;32m    507\u001b[0m   \u001b[38;5;66;03m# move channels\u001b[39;00m\n",
      "\u001b[1;31mAssertionError\u001b[0m: DiTis can only be configured for the last 0 channels"
     ]
    }
   ],
   "source": [
    "tiprack = lh.deck.get_resource(\"tiprack_1\")\n",
    "await lh.pick_up_tips(tiprack[\"A1\"])"
   ]
  },
  {
   "cell_type": "markdown",
   "metadata": {},
   "source": [
    "## Aspirating and dispensing"
   ]
  },
  {
   "cell_type": "markdown",
   "metadata": {},
   "source": [
    "Aspirating and dispensing work similarly to picking up tips: where you use booleans to specify which tips to pick up, with aspiration and dispensing you use floats to specify the volume to aspirate or dispense in $\\mu L$.\n",
    "\n",
    "The cells below move liquid from wells `'A1:C1'` to `'D1:F1'` using channels 1, 2, and 3 using the {func}`~pylabrobot.liquid_handling.LiquidHandler.aspirate` and {func}`~pylabrobot.liquid_handling.LiquidHandler.dispense` methods."
   ]
  },
  {
   "cell_type": "code",
   "execution_count": null,
   "metadata": {},
   "outputs": [],
   "source": [
    "plate = lh.deck.get_resource(\"plate_00\")\n",
    "#await lh.aspirate(plate[\"A1:C1\"], vols=[20.0, 10.0, 30.0], liquid_height=[-20,-20,200])\n",
    "#await lh.aspirate(plate[\"A1:C1\"], vols=[10.0, 5.0, 20.0])\n",
    "await lh.aspirate(plate[\"C1\"], vols=[10.0])\n",
    "#print(\"Current Tip Liquid Class:\", lh._tip_tracker.tip_liquid_class)"
   ]
  },
  {
   "cell_type": "code",
   "execution_count": null,
   "metadata": {},
   "outputs": [],
   "source": [
    "try:\n",
    "    # Get initial weight before dispensing\n",
    "    print(\"Getting initial weight...\")\n",
    "    weight_initial = await scale.get_weight(timeout=\"stable\")\n",
    "    print(f\"Initial weight: {weight_initial:.4f} g\")\n",
    "\n",
    "    # Execute dispense operation\n",
    "    plate1 = lh.deck.get_resource(\"plate_01\")\n",
    "    await lh.dispense(plate1[\"E6\"], vols=[5.0])\n",
    "    print(\"Dispensing completed\")\n",
    "\n",
    "    # Wait for liquid to settle (adjust wait time as needed)\n",
    "    print(\"Waiting for liquid to settle...\")\n",
    "    await asyncio.sleep(3)  # Wait 3 seconds\n",
    "\n",
    "    # Get final weight after dispensing\n",
    "    print(\"Getting final weight...\")\n",
    "    weight_final = await scale.get_weight(timeout=\"stable\")\n",
    "    print(f\"Final weight: {weight_final:.4f} g\")\n",
    "\n",
    "    # Calculate and display weight difference\n",
    "    weight_difference = weight_final - weight_initial\n",
    "    print(f\"Dispensed weight: {weight_difference:.4f} g\")\n",
    "\n",
    "    # Convert weight to volume (assuming water density)\n",
    "    volume_ul = weight_difference * 1000  # Convert g to μL (assuming density = 1 g/mL)\n",
    "    print(f\"Approximate volume: {volume_ul:.1f} μL\")\n",
    "\n",
    "except Exception as e:\n",
    "    print(f\"An error occurred during weighing: {e}\")\n",
    "    print(\"Please check:\")\n",
    "    print(\"1. Scale is stable\")\n",
    "    print(\"2. No external vibrations\")\n",
    "    print(\"3. Proper dispensing height\")\n",
    "    print(\"4. Scale communication is working\")"
   ]
  },
  {
   "cell_type": "code",
   "execution_count": null,
   "metadata": {},
   "outputs": [],
   "source": [
    "import logging\n",
    "\n",
    "# 创建logger\n",
    "logger = logging.getLogger()\n",
    "logger.setLevel(logging.DEBUG)\n",
    "\n",
    "# 创建文件handler\n",
    "fh = logging.FileHandler('tecan_operations.log')\n",
    "fh.setLevel(logging.DEBUG)\n",
    "\n",
    "# 创建控制台handler\n",
    "ch = logging.StreamHandler()\n",
    "ch.setLevel(logging.DEBUG)\n",
    "\n",
    "# 创建formatter\n",
    "formatter = logging.Formatter('%(asctime)s - %(name)s - %(levelname)s - %(message)s')\n",
    "fh.setFormatter(formatter)\n",
    "ch.setFormatter(formatter)\n",
    "\n",
    "# 添加handler到logger\n",
    "logger.addHandler(fh)\n",
    "logger.addHandler(ch)"
   ]
  },
  {
   "cell_type": "code",
   "execution_count": null,
   "metadata": {},
   "outputs": [],
   "source": [
    "#await lh.dispense(plate[\"A1:A1\"], vols=[1.0])  # Prime the system\n",
    "plate1 = lh.deck.get_resource(\"plate_01\")\n",
    "#await lh.dispense(plate1[\"D1:F1\"], vols=[10.0, 5.0, 20.0])\n",
    "await lh.dispense(plate1[\"E6\"], vols=[5.0])\n",
    "#await lh.dispense(plate[\"E6\"], vols=[5.0])"
   ]
  },
  {
   "cell_type": "code",
   "execution_count": null,
   "metadata": {},
   "outputs": [],
   "source": [
    "import csv\n",
    "import asyncio\n",
    "from datetime import datetime\n",
    "\n",
    "try:\n",
    "    # 创建列表存储数据\n",
    "    weights = []\n",
    "    timestamps = []\n",
    "\n",
    "    # 已知的吸取体积 (单位: 微升)\n",
    "    volume = 10.0  # 微升(μL)\n",
    "\n",
    "\n",
    "    # 读取60个数据点\n",
    "    for i in range(60):\n",
    "        # 读取重量 (单位: 克)\n",
    "        weight = await scale.get_weight(timeout=0)\n",
    "        current_time = datetime.now().strftime(\"%H:%M:%S.%f\")[:-3]\n",
    "\n",
    "        # 计算密度 (单位: g/mL 或 g/cm³)\n",
    "        # 注意: 1微升 = 0.001毫升，所以需要将体积转换为毫升\n",
    "        volume_in_ml = volume / 1000.0\n",
    "        density = weight / volume_in_ml\n",
    "\n",
    "        print(f\"number {i+1}: weight = {weight} g, volume = {volume} μL, density = {density:.4f} g/mL, time: {current_time}\")\n",
    "\n",
    "        # 存储数据\n",
    "        weights.append(weight)\n",
    "        timestamps.append(current_time)\n",
    "\n",
    "        # 可选：添加短暂延时以控制读取频率\n",
    "        # await asyncio.sleep(0.1)  # 延时0.1秒\n",
    "\n",
    "    # 将数据写入CSV文件\n",
    "    filename = f\"liquid_density_{datetime.now().strftime('%Y%m%d_%H%M%S')}.csv\"\n",
    "    with open(filename, 'w', newline='') as csvfile:\n",
    "        writer = csv.writer(csvfile)\n",
    "        # 写入标题行\n",
    "        writer.writerow(['Index', 'Timestamp', 'Weight (g)', 'Volume (μL)', 'Density (g/mL)'])\n",
    "        # 写入数据\n",
    "        for i in range(len(weights)):\n",
    "            volume_in_ml = volume / 1000.0\n",
    "            density = weights[i] / volume_in_ml\n",
    "            writer.writerow([i+1, timestamps[i], weights[i], volume, f\"{density:.4f}\"])\n",
    "\n",
    "    print(f\"数据已保存到 {filename}\")\n",
    "\n",
    "    # 最后可以选择排空吸头\n",
    "    # await lh.dispense(plate[\"C1\"], vols=[volume])\n",
    "\n",
    "except Exception as e:\n",
    "    print(f\"操作失败: {e}\")"
   ]
  },
  {
   "cell_type": "code",
   "execution_count": null,
   "metadata": {},
   "outputs": [
    {
     "name": "stderr",
     "output_type": "stream",
     "text": [
      "INFO:pylabrobot.liquid_handling.backends.hamilton.STAR:Sent command: C0ASid0006at0&tm1 1 1 0&xp04330 04330 04330 00000&yp1460 1370 1280 0000&th2450te2450lp1931 1931 1931&ch000 000 000&zl1881 1881 1881&po0100 0100 0100&zu0032 0032 0032&zr06180 06180 06180&zx1831 1831 1831&ip0000 0000 0000&it0 0 0&fp0000 0000 0000&av01072 00551 02110&as1000 1000 1000&ta000 000 000&ba0000 0000 0000&oa000 000 000&lm0 0 0&ll1 1 1&lv1 1 1&zo000 000 000&ld00 00 00&de0020 0020 0020&wt10 10 10&mv00000 00000 00000&mc00 00 00&mp000 000 000&ms1000 1000 1000&mh0000 0000 0000&gi000 000 000&gj0gk0lk0 0 0&ik0000 0000 0000&sd0500 0500 0500&se0500 0500 0500&sz0300 0300 0300&io0000 0000 0000&il00000 00000 00000&in0000 0000 0000&\n",
      "INFO:pylabrobot.liquid_handling.backends.hamilton.STAR:Received response: C0ASid0006er00/00\n"
     ]
    }
   ],
   "source": [
    "plate = lh.deck.get_resource(\"plate_01\")\n",
    "await lh.aspirate(plate[\"A1:C1\"], vols=[100.0, 50.0, 200.0])"
   ]
  },
  {
   "cell_type": "markdown",
   "metadata": {},
   "source": [
    "After the liquid has been aspirated, dispense it in the wells below. Note that while we specify different wells, we are still using the same channels. This is needed because only these channels contain liquid, of course."
   ]
  },
  {
   "cell_type": "code",
   "execution_count": 14,
   "metadata": {},
   "outputs": [
    {
     "name": "stderr",
     "output_type": "stream",
     "text": [
      "INFO:pylabrobot.liquid_handling.backends.hamilton.STAR:Sent command: C0DSid0007dm2 2 2&tm1 1 1 0&xp04330 04330 04330 00000&yp1190 1100 1010 0000&zx1871 1871 1871&lp2321 2321 2321&zl1881 1881 1881&po0100 0100 0100&ip0000 0000 0000&it0 0 0&fp0000 0000 0000&zu0032 0032 0032&zr06180 06180 06180&th2450te2450dv01072 00551 02110&ds1200 1200 1200&ss0050 0050 0050&rv000 000 000&ta000 000 000&ba0000 0000 0000&lm0 0 0&dj00zo000 000 000&ll1 1 1&lv1 1 1&de0020 0020 0020&wt00 00 00&mv00000 00000 00000&mc00 00 00&mp000 000 000&ms0010 0010 0010&mh0000 0000 0000&gi000 000 000&gj0gk0\n",
      "INFO:pylabrobot.liquid_handling.backends.hamilton.STAR:Received response: C0DSid0007er00/00\n"
     ]
    }
   ],
   "source": [
    "await lh.dispense(plate[\"D1:F1\"], vols=[100.0, 50.0, 200.0])"
   ]
  },
  {
   "cell_type": "markdown",
   "metadata": {},
   "source": [
    "Let's move the liquid back to the original wells."
   ]
  },
  {
   "cell_type": "code",
   "execution_count": 15,
   "metadata": {},
   "outputs": [
    {
     "name": "stderr",
     "output_type": "stream",
     "text": [
      "INFO:pylabrobot.liquid_handling.backends.hamilton.STAR:Sent command: C0ASid0008at0&tm1 1 1 0&xp04330 04330 04330 00000&yp1190 1100 1010 0000&th2450te2450lp1931 1931 1931&ch000 000 000&zl1881 1881 1881&po0100 0100 0100&zu0032 0032 0032&zr06180 06180 06180&zx1831 1831 1831&ip0000 0000 0000&it0 0 0&fp0000 0000 0000&av01072 00551 02110&as1000 1000 1000&ta000 000 000&ba0000 0000 0000&oa000 000 000&lm0 0 0&ll1 1 1&lv1 1 1&zo000 000 000&ld00 00 00&de0020 0020 0020&wt10 10 10&mv00000 00000 00000&mc00 00 00&mp000 000 000&ms1000 1000 1000&mh0000 0000 0000&gi000 000 000&gj0gk0lk0 0 0&ik0000 0000 0000&sd0500 0500 0500&se0500 0500 0500&sz0300 0300 0300&io0000 0000 0000&il00000 00000 00000&in0000 0000 0000&\n",
      "INFO:pylabrobot.liquid_handling.backends.hamilton.STAR:Received response: C0ASid0008er00/00\n",
      "INFO:pylabrobot.liquid_handling.backends.hamilton.STAR:Sent command: C0DSid0009dm2 2 2&tm1 1 1 0&xp04330 04330 04330 00000&yp1460 1370 1280 0000&zx1871 1871 1871&lp2321 2321 2321&zl1881 1881 1881&po0100 0100 0100&ip0000 0000 0000&it0 0 0&fp0000 0000 0000&zu0032 0032 0032&zr06180 06180 06180&th2450te2450dv01072 00551 02110&ds1200 1200 1200&ss0050 0050 0050&rv000 000 000&ta000 000 000&ba0000 0000 0000&lm0 0 0&dj00zo000 000 000&ll1 1 1&lv1 1 1&de0020 0020 0020&wt00 00 00&mv00000 00000 00000&mc00 00 00&mp000 000 000&ms0010 0010 0010&mh0000 0000 0000&gi000 000 000&gj0gk0\n",
      "INFO:pylabrobot.liquid_handling.backends.hamilton.STAR:Received response: C0DSid0009er00/00\n"
     ]
    }
   ],
   "source": [
    "await lh.aspirate(plate[\"D1:F1\"], vols=[100.0, 50.0, 200.0])\n",
    "await lh.dispense(plate[\"A1:C1\"], vols=[100.0, 50.0, 200.0])"
   ]
  },
  {
   "cell_type": "markdown",
   "metadata": {},
   "source": [
    "## Dropping tips\n",
    "\n",
    "Finally, you can drop tips anywhere on the deck by using the {func}`~pylabrobot.liquid_handling.LiquidHandler.discard_tips` method."
   ]
  },
  {
   "cell_type": "code",
   "execution_count": 16,
   "metadata": {},
   "outputs": [
    {
     "name": "stderr",
     "output_type": "stream",
     "text": [
      "INFO:pylabrobot.liquid_handling.backends.hamilton.STAR:Sent command: C0TRid0010xp01629 01629 01629 00000&yp1458 1368 1278 0000&tm1 1 1 0&tt01tp1314tz1414th2450ti0\n",
      "INFO:pylabrobot.liquid_handling.backends.hamilton.STAR:Received response: C0TRid0010er00/00kz381 356 365 000 000 000 000 000vz303 360 368 000 000 000 000 000\n"
     ]
    }
   ],
   "source": [
    "await lh.drop_tips(tiprack[\"A1:C1\"])"
   ]
  },
  {
   "cell_type": "code",
   "execution_count": 26,
   "metadata": {},
   "outputs": [
    {
     "name": "stderr",
     "output_type": "stream",
     "text": [
      "WARNING:root:Closing connection to USB device.\n"
     ]
    }
   ],
   "source": [
    "await lh.stop()"
   ]
  }
 ],
 "metadata": {
  "kernelspec": {
   "display_name": "Python 3",
   "language": "python",
   "name": "python3"
  },
  "language_info": {
   "codemirror_mode": {
    "name": "ipython",
    "version": 3
   },
   "file_extension": ".py",
   "mimetype": "text/x-python",
   "name": "python",
   "nbconvert_exporter": "python",
   "pygments_lexer": "ipython3",
   "version": "3.10.1"
  }
 },
 "nbformat": 4,
 "nbformat_minor": 2
}
