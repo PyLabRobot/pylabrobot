{
 "cells": [
  {
   "cell_type": "markdown",
   "id": "e14fe3d9",
   "metadata": {},
   "source": [
    "# ResourceStack\n",
    "\n",
    "`ResourceStack` represents a collection of resources stacked together into a single\n",
    "resource. It can grow along the x, y or z axis. This is useful when you want to\n",
    "treat multiple resources as a single unit, for instance stacking lids vertically or\n",
    "arranging plates side by side before placing them on the deck.\n",
    "\n",
    "Because the stack is itself a `Resource`, it can be assigned to other resources or\n",
    "the deck like any other labware. When the stack grows along the z-axis it behaves\n",
    "like a traditional *stack* where items are added and removed from the top.\n",
    "\n",
    "Below we demonstrate creating stacks in different orientations and interacting with\n",
    "them."
   ]
  },
  {
   "cell_type": "code",
   "execution_count": 29,
   "id": "2ebfc327",
   "metadata": {},
   "outputs": [],
   "source": [
    "from pylabrobot.resources import Resource, Plate, Lid, Coordinate\n",
    "from pylabrobot.resources import ResourceStack"
   ]
  },
  {
   "cell_type": "markdown",
   "id": "7171b4ee",
   "metadata": {},
   "source": [
    "## Creating an empty stack\n",
    "Pass the name and direction of growth (`\"x\"`, `\"y\"`, or `\"z\"`)."
   ]
  },
  {
   "cell_type": "code",
   "execution_count": 30,
   "id": "1737611f",
   "metadata": {},
   "outputs": [
    {
     "data": {
      "text/plain": [
       "([], [], [])"
      ]
     },
     "execution_count": 30,
     "metadata": {},
     "output_type": "execute_result"
    }
   ],
   "source": [
    "stack_x = ResourceStack(\"stack_x\", \"x\")\n",
    "stack_y = ResourceStack(\"stack_y\", \"y\")\n",
    "stack_z = ResourceStack(\"stack_z\", \"z\")\n",
    "(stack_x.children, stack_y.children, stack_z.children)"
   ]
  },
  {
   "cell_type": "markdown",
   "id": "6ae916d1",
   "metadata": {},
   "source": [
    "## Stacking resources at construction time\n",
    "You can also supply a list of resources which will be assigned immediately."
   ]
  },
  {
   "cell_type": "code",
   "execution_count": 31,
   "id": "255c656a",
   "metadata": {},
   "outputs": [
    {
     "data": {
      "text/plain": [
       "(['A', 'B'], 20)"
      ]
     },
     "execution_count": 31,
     "metadata": {},
     "output_type": "execute_result"
    }
   ],
   "source": [
    "stack = ResourceStack(\n",
    "    \"stack\",\n",
    "    \"x\",\n",
    "    [\n",
    "        Resource(\"A\", size_x=10, size_y=10, size_z=10),\n",
    "        Resource(\"B\", size_x=10, size_y=10, size_z=10),\n",
    "    ],\n",
    ")\n",
    "([child.name for child in stack.children], stack.get_size_x())"
   ]
  },
  {
   "cell_type": "markdown",
   "id": "41de74c4",
   "metadata": {},
   "source": [
    "The total size along the x-axis equals the sum of the children sizes."
   ]
  },
  {
   "cell_type": "code",
   "execution_count": 32,
   "id": "c6479d0b",
   "metadata": {},
   "outputs": [
    {
     "data": {
      "text/plain": [
       "20"
      ]
     },
     "execution_count": 32,
     "metadata": {},
     "output_type": "execute_result"
    }
   ],
   "source": [
    "stack_y2 = ResourceStack(\n",
    "    \"stack_y2\",\n",
    "    \"y\",\n",
    "    [\n",
    "        Resource(\"A\", size_x=10, size_y=10, size_z=10),\n",
    "        Resource(\"B\", size_x=10, size_y=10, size_z=10),\n",
    "    ],\n",
    ")\n",
    "stack_y2.get_size_y()"
   ]
  },
  {
   "cell_type": "markdown",
   "id": "1d1b185c",
   "metadata": {},
   "source": [
    "## Adding and removing items\n",
    "New items are positioned automatically at the edge returned by\n",
    "`get_resource_stack_edge()`. When stacking in the z direction you can only remove\n",
    "the current top item."
   ]
  },
  {
   "cell_type": "code",
   "execution_count": 33,
   "id": "e35e3a75",
   "metadata": {},
   "outputs": [
    {
     "data": {
      "text/plain": [
       "'L2'"
      ]
     },
     "execution_count": 33,
     "metadata": {},
     "output_type": "execute_result"
    }
   ],
   "source": [
    "lid1 = Lid(name=\"L1\", size_x=10, size_y=10, size_z=5, nesting_z_height=1)\n",
    "lid2 = Lid(name=\"L2\", size_x=10, size_y=10, size_z=5, nesting_z_height=1)\n",
    "stack_z.assign_child_resource(lid1)\n",
    "stack_z.assign_child_resource(lid2)\n",
    "stack_z.get_top_item().name"
   ]
  },
  {
   "cell_type": "code",
   "execution_count": 34,
   "id": "7c7c11d5",
   "metadata": {},
   "outputs": [
    {
     "data": {
      "text/plain": [
       "'L1'"
      ]
     },
     "execution_count": 34,
     "metadata": {},
     "output_type": "execute_result"
    }
   ],
   "source": [
    "stack_z.unassign_child_resource(lid2)\n",
    "stack_z.get_top_item().name"
   ]
  },
  {
   "cell_type": "markdown",
   "id": "b2fd5d7f",
   "metadata": {},
   "source": [
    "Attempting to remove `lid1` now would raise a `ValueError` because it is not the\n",
    "top item in this z-growing stack."
   ]
  },
  {
   "cell_type": "markdown",
   "id": "e1e328d6",
   "metadata": {},
   "source": [
    "## Using a ResourceStack as a stacking area\n",
    "A common use case is stacking plates next to a reader or washer. After placing a\n",
    "plate on the stack you can retrieve it again using `get_top_item()`."
   ]
  },
  {
   "cell_type": "code",
   "execution_count": 35,
   "id": "7b92cac5",
   "metadata": {},
   "outputs": [
    {
     "data": {
      "text/plain": [
       "True"
      ]
     },
     "execution_count": 35,
     "metadata": {},
     "output_type": "execute_result"
    }
   ],
   "source": [
    "plate = Plate(\"p1\", size_x=1, size_y=1, size_z=1, ordered_items={})\n",
    "stacking_area = ResourceStack(\"stacking_area\", \"z\")\n",
    "stacking_area.assign_child_resource(plate)\n",
    "stacking_area.get_top_item() is plate"
   ]
  },
  {
   "cell_type": "markdown",
   "id": "dc9633b5",
   "metadata": {
    "lines_to_next_cell": 2
   },
   "source": [
    "When using a :class:`~pylabrobot.liquid_handling.liquid_handler.LiquidHandler` the\n",
    "stack behaves just like any other resource:\n",
    "\n",
    "```python\n",
    "lh.move_plate(stacking_area.get_top_item(), plate_carrier[0])\n",
    "```\n",
    "\n",
    "This allows temporary storage of plates or lids during automated workflows."
   ]
  },
  {
   "cell_type": "markdown",
   "id": "d3d4b23b",
   "metadata": {},
   "source": [
    "## Moving plates and lids to the stacking area\n",
    "The functions `move_lid()` and `move_plate()` can be used to move plates and lids to a ResourceStack during robot runtime.\n",
    "\n",
    "Below is an example on the STARBackend:"
   ]
  },
  {
   "cell_type": "code",
   "execution_count": 36,
   "id": "f421a8be",
   "metadata": {},
   "outputs": [],
   "source": [
    "from pylabrobot.liquid_handling import LiquidHandler\n",
    "from pylabrobot.liquid_handling.backends import LiquidHandlerChatterboxBackend, STARBackend\n",
    "from pylabrobot.resources.hamilton import STARLetDeck\n",
    "\n",
    "from pylabrobot.resources import (\n",
    "  TIP_CAR_480_A00, \n",
    "  STF,\n",
    "  PLT_CAR_L5AC_A00,\n",
    "  Cor_96_wellplate_360ul_Fb,\n",
    "  Cor_96_wellplate_2mL_Vb,\n",
    "  ResourceStack,\n",
    ")"
   ]
  },
  {
   "cell_type": "markdown",
   "id": "2c24b77d",
   "metadata": {},
   "source": [
    "Setup liquid handler and deck"
   ]
  },
  {
   "cell_type": "code",
   "execution_count": 37,
   "id": "0dda3ff5",
   "metadata": {},
   "outputs": [
    {
     "name": "stdout",
     "output_type": "stream",
     "text": [
      "Setting up the liquid handler.\n",
      "Resource deck was assigned to the liquid handler.\n",
      "Resource trash was assigned to the liquid handler.\n",
      "Resource trash_core96 was assigned to the liquid handler.\n",
      "Resource waste_block was assigned to the liquid handler.\n"
     ]
    }
   ],
   "source": [
    "lh = LiquidHandler(backend=LiquidHandlerChatterboxBackend(), deck=STARLetDeck())\n",
    "await lh.setup()"
   ]
  },
  {
   "cell_type": "code",
   "execution_count": 38,
   "id": "1ee5adf5",
   "metadata": {},
   "outputs": [
    {
     "name": "stdout",
     "output_type": "stream",
     "text": [
      "Resource tip_carrier was assigned to the liquid handler.\n"
     ]
    }
   ],
   "source": [
    "tip_car = TIP_CAR_480_A00(name=\"tip_carrier\")\n",
    "tip_rack = STF(name=\"tip_rack\")\n",
    "tip_car[0] = tip_rack\n",
    "lh.deck.assign_child_resource(tip_car, rails=1)"
   ]
  },
  {
   "cell_type": "code",
   "execution_count": 39,
   "id": "7e139df0",
   "metadata": {},
   "outputs": [
    {
     "name": "stdout",
     "output_type": "stream",
     "text": [
      "Resource plate_carrier was assigned to the liquid handler.\n"
     ]
    }
   ],
   "source": [
    "plate_stack = ResourceStack(\"plate_stack\", \"z\", [\n",
    "    Cor_96_wellplate_2mL_Vb(name='stack_plate_1')\n",
    "])\n",
    "\n",
    "plt_car = PLT_CAR_L5AC_A00(name=\"plate_carrier\")\n",
    "plt_car[0] = plate_stack\n",
    "plt_car[1] = plate_1 = Cor_96_wellplate_360ul_Fb(name=\"plate_1\", with_lid=True)\n",
    "plt_car[2] = plate_2 = Cor_96_wellplate_360ul_Fb(name=\"plate_2\", with_lid=True)\n",
    "lh.deck.assign_child_resource(plt_car, rails=8)\n",
    "\n",
    "plate_1_lid = plate_1.lid\n",
    "plate_2_lid = plate_2.lid"
   ]
  },
  {
   "cell_type": "code",
   "execution_count": 40,
   "id": "c0811184",
   "metadata": {},
   "outputs": [
    {
     "name": "stdout",
     "output_type": "stream",
     "text": [
      "Rail  Resource                      Type           Coordinates (mm)\n",
      "=================================================================================\n",
      "(-6)  ├── trash_core96              Trash          (-58.200, 106.000, 229.000)\n",
      "      │\n",
      "(1)   ├── tip_carrier               TipCarrier     (100.000, 063.000, 100.000)\n",
      "      │   ├── tip_rack              TipRack        (106.200, 073.000, 214.950)\n",
      "      │   ├── <empty>\n",
      "      │   ├── <empty>\n",
      "      │   ├── <empty>\n",
      "      │   ├── <empty>\n",
      "      │\n",
      "(8)   ├── plate_carrier             PlateCarrier   (257.500, 063.000, 100.000)\n",
      "      │   ├── plate_stack           ResourceStack  (261.500, 071.500, 184.950)\n",
      "      │   │   ├── stack_plate_1     Plate          (261.500, 071.500, 184.950)\n",
      "      │   ├── plate_1               Plate          (261.500, 167.500, 183.120)\n",
      "      │   │   ├── plate_1_lid       Lid            (261.500, 167.500, 189.720)\n",
      "      │   ├── plate_2               Plate          (261.500, 263.500, 183.120)\n",
      "      │   │   ├── plate_2_lid       Lid            (261.500, 263.500, 189.720)\n",
      "      │   ├── <empty>\n",
      "      │   ├── <empty>\n",
      "      │\n",
      "(31)  ├── waste_block               Resource       (775.000, 115.000, 100.000)\n",
      "      │   ├── teaching_tip_rack     TipRack        (780.900, 461.100, 100.000)\n",
      "      │\n",
      "(32)  ├── trash                     Trash          (800.000, 190.600, 137.100)\n",
      "\n"
     ]
    }
   ],
   "source": [
    "lh.summary()"
   ]
  },
  {
   "cell_type": "markdown",
   "id": "a34006a6",
   "metadata": {},
   "source": [
    "If the top of the stack is a plate without a lid, a lid moved with `move_lid()` to the stack will automatically become a child of the top plate.\n",
    "\n",
    "Moving a plate with a lid with `move_plate()` will move both the plate and lid to the top of the stack."
   ]
  },
  {
   "cell_type": "code",
   "execution_count": null,
   "id": "a5ac7d15",
   "metadata": {},
   "outputs": [
    {
     "name": "stdout",
     "output_type": "stream",
     "text": [
      "Picking up resource: ResourcePickup(resource=Lid(name=plate_1_lid, location=Coordinate(000.000, 000.000, 006.600), size_x=127.76, size_y=85.48, size_z=8.9, category=lid), offset=Coordinate(x=0, y=0, z=0), pickup_distance_from_top=2.37, direction=<GripDirection.FRONT: 1>)\n",
      "Dropping resource: ResourceDrop(resource=Lid(name=plate_1_lid, location=Coordinate(000.000, 000.000, 006.600), size_x=127.76, size_y=85.48, size_z=8.9, category=lid), destination=Coordinate(x=261.5, y=71.5, z=220.85), destination_absolute_rotation=Rotation(x=0, y=0, z=0), offset=Coordinate(x=0, y=0, z=0), pickup_distance_from_top=2.37, pickup_direction=<GripDirection.FRONT: 1>, drop_direction=<GripDirection.FRONT: 1>, rotation=0)\n",
      "Resource plate_1_lid was unassigned from the liquid handler.\n",
      "Resource plate_1_lid was assigned to the liquid handler.\n",
      "Picking up resource: ResourcePickup(resource=Plate(name=plate_2, size_x=127.76, size_y=85.48, size_z=14.2, location=Coordinate(000.000, 000.000, -03.030)), offset=Coordinate(x=0, y=0, z=0), pickup_distance_from_top=9.87, direction=<GripDirection.FRONT: 1>)\n",
      "Dropping resource: ResourceDrop(resource=Plate(name=plate_2, size_x=127.76, size_y=85.48, size_z=14.2, location=Coordinate(000.000, 000.000, -03.030)), destination=Coordinate(x=261.5, y=71.5, z=229.75), destination_absolute_rotation=Rotation(x=0, y=0, z=0), offset=Coordinate(x=0, y=0, z=0), pickup_distance_from_top=9.87, pickup_direction=<GripDirection.FRONT: 1>, drop_direction=<GripDirection.FRONT: 1>, rotation=0)\n",
      "Resource plate_2 was unassigned from the liquid handler.\n"
     ]
    },
    {
     "name": "stderr",
     "output_type": "stream",
     "text": [
      "Resource 'plate_2_lid' is very high on the deck: 245.25 mm. Be careful when traversing the deck.\n"
     ]
    },
    {
     "name": "stdout",
     "output_type": "stream",
     "text": [
      "Resource plate_2 was assigned to the liquid handler.\n"
     ]
    }
   ],
   "source": [
    "await lh.move_lid(plate_1_lid, plate_stack)\n",
    "await lh.move_plate(plate_2, plate_stack)"
   ]
  },
  {
   "cell_type": "code",
   "execution_count": 42,
   "id": "38f8e056",
   "metadata": {},
   "outputs": [
    {
     "name": "stdout",
     "output_type": "stream",
     "text": [
      "Rail  Resource                       Type           Coordinates (mm)\n",
      "==================================================================================\n",
      "(-6)  ├── trash_core96               Trash          (-58.200, 106.000, 229.000)\n",
      "      │\n",
      "(1)   ├── tip_carrier                TipCarrier     (100.000, 063.000, 100.000)\n",
      "      │   ├── tip_rack               TipRack        (106.200, 073.000, 214.950)\n",
      "      │   ├── <empty>\n",
      "      │   ├── <empty>\n",
      "      │   ├── <empty>\n",
      "      │   ├── <empty>\n",
      "      │\n",
      "(8)   ├── plate_carrier              PlateCarrier   (257.500, 063.000, 100.000)\n",
      "      │   ├── plate_stack            ResourceStack  (261.500, 071.500, 184.950)\n",
      "      │   │   ├── stack_plate_1      Plate          (261.500, 071.500, 184.950)\n",
      "      │   │   │   ├── plate_1_lid    Lid            (261.500, 071.500, 220.850)\n",
      "      │   │   ├── plate_2            Plate          (261.500, 071.500, 229.750)\n",
      "      │   │   │   ├── plate_2_lid    Lid            (261.500, 071.500, 236.350)\n",
      "      │   ├── plate_1                Plate          (261.500, 167.500, 183.120)\n",
      "      │   ├── <empty>\n",
      "      │   ├── <empty>\n",
      "      │   ├── <empty>\n",
      "      │\n",
      "(31)  ├── waste_block                Resource       (775.000, 115.000, 100.000)\n",
      "      │   ├── teaching_tip_rack      TipRack        (780.900, 461.100, 100.000)\n",
      "      │\n",
      "(32)  ├── trash                      Trash          (800.000, 190.600, 137.100)\n",
      "\n"
     ]
    }
   ],
   "source": [
    "lh.summary()"
   ]
  },
  {
   "cell_type": "markdown",
   "id": "7f41abdb",
   "metadata": {},
   "source": [
    "**Warning:** Currently there are no checks in PyLabRobot for plate and lid compatibility when moving a lid to a ResourceStack. It is possible that the lid from one plate could be added to a plate of a different type on the ResourceStack with `move_lid()`. Users are responsible for making sure the lids and plates are compatible and will stack correctly.\n",
    "\n",
    "TODO: Create a more permanent and robust fix: https://github.com/PyLabRobot/pylabrobot/pull/546#issuecomment-2945105532"
   ]
  }
 ],
 "metadata": {
  "jupytext": {
   "cell_metadata_filter": "-all",
   "main_language": "python",
   "notebook_metadata_filter": "-all"
  },
  "kernelspec": {
   "display_name": "env",
   "language": "python",
   "name": "python3"
  },
  "language_info": {
   "codemirror_mode": {
    "name": "ipython",
    "version": 3
   },
   "file_extension": ".py",
   "mimetype": "text/x-python",
   "name": "python",
   "nbconvert_exporter": "python",
   "pygments_lexer": "ipython3",
   "version": "3.10.12"
  }
 },
 "nbformat": 4,
 "nbformat_minor": 5
}
